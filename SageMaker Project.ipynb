{
 "cells": [
  {
   "cell_type": "markdown",
   "metadata": {},
   "source": [
    "# Creating a Sentiment Analysis Web App\n",
    "## Using PyTorch and SageMaker\n",
    "\n",
    "_Deep Learning Nanodegree Program | Deployment_\n",
    "\n",
    "---\n",
    "\n",
    "Now that we have a basic understanding of how SageMaker works we will try to use it to construct a complete project from end to end. Our goal will be to have a simple web page which a user can use to enter a movie review. The web page will then send the review off to our deployed model which will predict the sentiment of the entered review.\n",
    "\n",
    "## Instructions\n",
    "\n",
    "Some template code has already been provided for you, and you will need to implement additional functionality to successfully complete this notebook. You will not need to modify the included code beyond what is requested. Sections that begin with '**TODO**' in the header indicate that you need to complete or implement some portion within them. Instructions will be provided for each section and the specifics of the implementation are marked in the code block with a `# TODO: ...` comment. Please be sure to read the instructions carefully!\n",
    "\n",
    "In addition to implementing code, there will be questions for you to answer which relate to the task and your implementation. Each section where you will answer a question is preceded by a '**Question:**' header. Carefully read each question and provide your answer below the '**Answer:**' header by editing the Markdown cell.\n",
    "\n",
    "> **Note**: Code and Markdown cells can be executed using the **Shift+Enter** keyboard shortcut. In addition, a cell can be edited by typically clicking it (double-click for Markdown cells) or by pressing **Enter** while it is highlighted.\n",
    "\n",
    "## General Outline\n",
    "\n",
    "Recall the general outline for SageMaker projects using a notebook instance.\n",
    "\n",
    "1. Download or otherwise retrieve the data.\n",
    "2. Process / Prepare the data.\n",
    "3. Upload the processed data to S3.\n",
    "4. Train a chosen model.\n",
    "5. Test the trained model (typically using a batch transform job).\n",
    "6. Deploy the trained model.\n",
    "7. Use the deployed model.\n",
    "\n",
    "For this project, you will be following the steps in the general outline with some modifications. \n",
    "\n",
    "First, you will not be testing the model in its own step. You will still be testing the model, however, you will do it by deploying your model and then using the deployed model by sending the test data to it. One of the reasons for doing this is so that you can make sure that your deployed model is working correctly before moving forward.\n",
    "\n",
    "In addition, you will deploy and use your trained model a second time. In the second iteration you will customize the way that your trained model is deployed by including some of your own code. In addition, your newly deployed model will be used in the sentiment analysis web app."
   ]
  },
  {
   "cell_type": "markdown",
   "metadata": {},
   "source": [
    "## Step 1: Downloading the data\n",
    "\n",
    "As in the XGBoost in SageMaker notebook, we will be using the [IMDb dataset](http://ai.stanford.edu/~amaas/data/sentiment/)\n",
    "\n",
    "> Maas, Andrew L., et al. [Learning Word Vectors for Sentiment Analysis](http://ai.stanford.edu/~amaas/data/sentiment/). In _Proceedings of the 49th Annual Meeting of the Association for Computational Linguistics: Human Language Technologies_. Association for Computational Linguistics, 2011."
   ]
  },
  {
   "cell_type": "code",
   "execution_count": 1,
   "metadata": {},
   "outputs": [
    {
     "name": "stdout",
     "output_type": "stream",
     "text": [
      "mkdir: cannot create directory ‘../data’: File exists\n",
      "--2020-07-22 10:59:04--  http://ai.stanford.edu/~amaas/data/sentiment/aclImdb_v1.tar.gz\n",
      "Resolving ai.stanford.edu (ai.stanford.edu)... 171.64.68.10\n",
      "Connecting to ai.stanford.edu (ai.stanford.edu)|171.64.68.10|:80... connected.\n",
      "HTTP request sent, awaiting response... 200 OK\n",
      "Length: 84125825 (80M) [application/x-gzip]\n",
      "Saving to: ‘../data/aclImdb_v1.tar.gz’\n",
      "\n",
      "../data/aclImdb_v1. 100%[===================>]  80.23M  22.5MB/s    in 4.9s    \n",
      "\n",
      "2020-07-22 10:59:09 (16.5 MB/s) - ‘../data/aclImdb_v1.tar.gz’ saved [84125825/84125825]\n",
      "\n"
     ]
    }
   ],
   "source": [
    "%mkdir ../data\n",
    "!wget -O ../data/aclImdb_v1.tar.gz http://ai.stanford.edu/~amaas/data/sentiment/aclImdb_v1.tar.gz\n",
    "!tar -zxf ../data/aclImdb_v1.tar.gz -C ../data"
   ]
  },
  {
   "cell_type": "markdown",
   "metadata": {},
   "source": [
    "## Step 2: Preparing and Processing the data\n",
    "\n",
    "Also, as in the XGBoost notebook, we will be doing some initial data processing. The first few steps are the same as in the XGBoost example. To begin with, we will read in each of the reviews and combine them into a single input structure. Then, we will split the dataset into a training set and a testing set."
   ]
  },
  {
   "cell_type": "code",
   "execution_count": 2,
   "metadata": {},
   "outputs": [],
   "source": [
    "import os\n",
    "import glob\n",
    "\n",
    "def read_imdb_data(data_dir='../data/aclImdb'):\n",
    "    data = {}\n",
    "    labels = {}\n",
    "    \n",
    "    for data_type in ['train', 'test']:\n",
    "        data[data_type] = {}\n",
    "        labels[data_type] = {}\n",
    "        \n",
    "        for sentiment in ['pos', 'neg']:\n",
    "            data[data_type][sentiment] = []\n",
    "            labels[data_type][sentiment] = []\n",
    "            \n",
    "            path = os.path.join(data_dir, data_type, sentiment, '*.txt')\n",
    "            files = glob.glob(path)\n",
    "            \n",
    "            for f in files:\n",
    "                with open(f) as review:\n",
    "                    data[data_type][sentiment].append(review.read())\n",
    "                    # Here we represent a positive review by '1' and a negative review by '0'\n",
    "                    labels[data_type][sentiment].append(1 if sentiment == 'pos' else 0)\n",
    "                    \n",
    "            assert len(data[data_type][sentiment]) == len(labels[data_type][sentiment]), \\\n",
    "                    \"{}/{} data size does not match labels size\".format(data_type, sentiment)\n",
    "                \n",
    "    return data, labels"
   ]
  },
  {
   "cell_type": "code",
   "execution_count": 3,
   "metadata": {},
   "outputs": [
    {
     "name": "stdout",
     "output_type": "stream",
     "text": [
      "IMDB reviews: train = 12500 pos / 12500 neg, test = 12500 pos / 12500 neg\n"
     ]
    }
   ],
   "source": [
    "data, labels = read_imdb_data()\n",
    "print(\"IMDB reviews: train = {} pos / {} neg, test = {} pos / {} neg\".format(\n",
    "            len(data['train']['pos']), len(data['train']['neg']),\n",
    "            len(data['test']['pos']), len(data['test']['neg'])))"
   ]
  },
  {
   "cell_type": "markdown",
   "metadata": {},
   "source": [
    "Now that we've read the raw training and testing data from the downloaded dataset, we will combine the positive and negative reviews and shuffle the resulting records."
   ]
  },
  {
   "cell_type": "code",
   "execution_count": 4,
   "metadata": {},
   "outputs": [],
   "source": [
    "from sklearn.utils import shuffle\n",
    "\n",
    "def prepare_imdb_data(data, labels):\n",
    "    \"\"\"Prepare training and test sets from IMDb movie reviews.\"\"\"\n",
    "    \n",
    "    #Combine positive and negative reviews and labels\n",
    "    data_train = data['train']['pos'] + data['train']['neg']\n",
    "    data_test = data['test']['pos'] + data['test']['neg']\n",
    "    labels_train = labels['train']['pos'] + labels['train']['neg']\n",
    "    labels_test = labels['test']['pos'] + labels['test']['neg']\n",
    "    \n",
    "    #Shuffle reviews and corresponding labels within training and test sets\n",
    "    data_train, labels_train = shuffle(data_train, labels_train)\n",
    "    data_test, labels_test = shuffle(data_test, labels_test)\n",
    "    \n",
    "    # Return a unified training data, test data, training labels, test labets\n",
    "    return data_train, data_test, labels_train, labels_test"
   ]
  },
  {
   "cell_type": "code",
   "execution_count": 5,
   "metadata": {},
   "outputs": [
    {
     "name": "stdout",
     "output_type": "stream",
     "text": [
      "IMDb reviews (combined): train = 25000, test = 25000\n"
     ]
    }
   ],
   "source": [
    "train_X, test_X, train_y, test_y = prepare_imdb_data(data, labels)\n",
    "print(\"IMDb reviews (combined): train = {}, test = {}\".format(len(train_X), len(test_X)))"
   ]
  },
  {
   "cell_type": "markdown",
   "metadata": {},
   "source": [
    "Now that we have our training and testing sets unified and prepared, we should do a quick check and see an example of the data our model will be trained on. This is generally a good idea as it allows you to see how each of the further processing steps affects the reviews and it also ensures that the data has been loaded correctly."
   ]
  },
  {
   "cell_type": "code",
   "execution_count": 6,
   "metadata": {},
   "outputs": [
    {
     "name": "stdout",
     "output_type": "stream",
     "text": [
      "I saw the trailer to this film and it looked great, so I went out and bought it. What a mistake, the acting is a shambles, the special effects (if you could call them that), look like something that wouldn't be out of place at a school play. Some of the characters are so stupid in this film you will cringe the minute they are on the screen, which unfortunately is all to often. As for a story, forget it. This is a warning, don't waste any money at all on this film it has to be one of the worst things I have ever seen. If, for some reason, you like this film watch Troll 2, you will probably enjoy that as well.\n",
      "0\n"
     ]
    }
   ],
   "source": [
    "print(train_X[100])\n",
    "print(train_y[100])"
   ]
  },
  {
   "cell_type": "markdown",
   "metadata": {},
   "source": [
    "The first step in processing the reviews is to make sure that any html tags that appear should be removed. In addition we wish to tokenize our input, that way words such as *entertained* and *entertaining* are considered the same with regard to sentiment analysis."
   ]
  },
  {
   "cell_type": "code",
   "execution_count": 7,
   "metadata": {},
   "outputs": [],
   "source": [
    "import nltk\n",
    "from nltk.corpus import stopwords\n",
    "from nltk.stem.porter import *\n",
    "\n",
    "import re\n",
    "from bs4 import BeautifulSoup\n",
    "\n",
    "def review_to_words(review):\n",
    "    nltk.download(\"stopwords\", quiet=True)\n",
    "    stemmer = PorterStemmer()\n",
    "    \n",
    "    text = BeautifulSoup(review, \"html.parser\").get_text() # Remove HTML tags\n",
    "    text = re.sub(r\"[^a-zA-Z0-9]\", \" \", text.lower()) # Convert to lower case\n",
    "    words = text.split() # Split string into words\n",
    "    words = [w for w in words if w not in stopwords.words(\"english\")] # Remove stopwords\n",
    "    words = [PorterStemmer().stem(w) for w in words] # stem\n",
    "    \n",
    "    return words"
   ]
  },
  {
   "cell_type": "markdown",
   "metadata": {},
   "source": [
    "The `review_to_words` method defined above uses `BeautifulSoup` to remove any html tags that appear and uses the `nltk` package to tokenize the reviews. As a check to ensure we know how everything is working, try applying `review_to_words` to one of the reviews in the training set."
   ]
  },
  {
   "cell_type": "code",
   "execution_count": 8,
   "metadata": {},
   "outputs": [
    {
     "data": {
      "text/plain": [
       "['saw',\n",
       " 'trailer',\n",
       " 'film',\n",
       " 'look',\n",
       " 'great',\n",
       " 'went',\n",
       " 'bought',\n",
       " 'mistak',\n",
       " 'act',\n",
       " 'shambl',\n",
       " 'special',\n",
       " 'effect',\n",
       " 'could',\n",
       " 'call',\n",
       " 'look',\n",
       " 'like',\n",
       " 'someth',\n",
       " 'place',\n",
       " 'school',\n",
       " 'play',\n",
       " 'charact',\n",
       " 'stupid',\n",
       " 'film',\n",
       " 'cring',\n",
       " 'minut',\n",
       " 'screen',\n",
       " 'unfortun',\n",
       " 'often',\n",
       " 'stori',\n",
       " 'forget',\n",
       " 'warn',\n",
       " 'wast',\n",
       " 'money',\n",
       " 'film',\n",
       " 'one',\n",
       " 'worst',\n",
       " 'thing',\n",
       " 'ever',\n",
       " 'seen',\n",
       " 'reason',\n",
       " 'like',\n",
       " 'film',\n",
       " 'watch',\n",
       " 'troll',\n",
       " '2',\n",
       " 'probabl',\n",
       " 'enjoy',\n",
       " 'well']"
      ]
     },
     "execution_count": 8,
     "metadata": {},
     "output_type": "execute_result"
    }
   ],
   "source": [
    "# TODO: Apply review_to_words to a review (train_X[100] or any other review)\n",
    "review_to_words(train_X[100])"
   ]
  },
  {
   "cell_type": "markdown",
   "metadata": {},
   "source": [
    "**Question:** Above we mentioned that `review_to_words` method removes html formatting and allows us to tokenize the words found in a review, for example, converting *entertained* and *entertaining* into *entertain* so that they are treated as though they are the same word. What else, if anything, does this method do to the input?"
   ]
  },
  {
   "cell_type": "markdown",
   "metadata": {},
   "source": [
    "**Answer:**去除html标志，将大写字母转换成小写，将字符串分解为单词"
   ]
  },
  {
   "cell_type": "markdown",
   "metadata": {},
   "source": [
    "The method below applies the `review_to_words` method to each of the reviews in the training and testing datasets. In addition it caches the results. This is because performing this processing step can take a long time. This way if you are unable to complete the notebook in the current session, you can come back without needing to process the data a second time."
   ]
  },
  {
   "cell_type": "code",
   "execution_count": 9,
   "metadata": {},
   "outputs": [],
   "source": [
    "import pickle\n",
    "\n",
    "cache_dir = os.path.join(\"../cache\", \"sentiment_analysis\")  # where to store cache files\n",
    "os.makedirs(cache_dir, exist_ok=True)  # ensure cache directory exists\n",
    "\n",
    "def preprocess_data(data_train, data_test, labels_train, labels_test,\n",
    "                    cache_dir=cache_dir, cache_file=\"preprocessed_data.pkl\"):\n",
    "    \"\"\"Convert each review to words; read from cache if available.\"\"\"\n",
    "\n",
    "    # If cache_file is not None, try to read from it first\n",
    "    cache_data = None\n",
    "    if cache_file is not None:\n",
    "        try:\n",
    "            with open(os.path.join(cache_dir, cache_file), \"rb\") as f:\n",
    "                cache_data = pickle.load(f)\n",
    "            print(\"Read preprocessed data from cache file:\", cache_file)\n",
    "        except:\n",
    "            pass  # unable to read from cache, but that's okay\n",
    "    \n",
    "    # If cache is missing, then do the heavy lifting\n",
    "    if cache_data is None:\n",
    "        # Preprocess training and test data to obtain words for each review\n",
    "        #words_train = list(map(review_to_words, data_train))\n",
    "        #words_test = list(map(review_to_words, data_test))\n",
    "        words_train = [review_to_words(review) for review in data_train]\n",
    "        words_test = [review_to_words(review) for review in data_test]\n",
    "        \n",
    "        # Write to cache file for future runs\n",
    "        if cache_file is not None:\n",
    "            cache_data = dict(words_train=words_train, words_test=words_test,\n",
    "                              labels_train=labels_train, labels_test=labels_test)\n",
    "            with open(os.path.join(cache_dir, cache_file), \"wb\") as f:\n",
    "                pickle.dump(cache_data, f)\n",
    "            print(\"Wrote preprocessed data to cache file:\", cache_file)\n",
    "    else:\n",
    "        # Unpack data loaded from cache file\n",
    "        words_train, words_test, labels_train, labels_test = (cache_data['words_train'],\n",
    "                cache_data['words_test'], cache_data['labels_train'], cache_data['labels_test'])\n",
    "    \n",
    "    return words_train, words_test, labels_train, labels_test"
   ]
  },
  {
   "cell_type": "code",
   "execution_count": 10,
   "metadata": {},
   "outputs": [
    {
     "name": "stdout",
     "output_type": "stream",
     "text": [
      "Read preprocessed data from cache file: preprocessed_data.pkl\n"
     ]
    }
   ],
   "source": [
    "# Preprocess data\n",
    "train_X, test_X, train_y, test_y = preprocess_data(train_X, test_X, train_y, test_y)"
   ]
  },
  {
   "cell_type": "markdown",
   "metadata": {},
   "source": [
    "## Transform the data\n",
    "\n",
    "In the XGBoost notebook we transformed the data from its word representation to a bag-of-words feature representation. For the model we are going to construct in this notebook we will construct a feature representation which is very similar. To start, we will represent each word as an integer. Of course, some of the words that appear in the reviews occur very infrequently and so likely don't contain much information for the purposes of sentiment analysis. The way we will deal with this problem is that we will fix the size of our working vocabulary and we will only include the words that appear most frequently. We will then combine all of the infrequent words into a single category and, in our case, we will label it as `1`.\n",
    "\n",
    "Since we will be using a recurrent neural network, it will be convenient if the length of each review is the same. To do this, we will fix a size for our reviews and then pad short reviews with the category 'no word' (which we will label `0`) and truncate long reviews."
   ]
  },
  {
   "cell_type": "markdown",
   "metadata": {},
   "source": [
    "### (TODO) Create a word dictionary\n",
    "\n",
    "To begin with, we need to construct a way to map words that appear in the reviews to integers. Here we fix the size of our vocabulary (including the 'no word' and 'infrequent' categories) to be `5000` but you may wish to change this to see how it affects the model.\n",
    "\n",
    "> **TODO:** Complete the implementation for the `build_dict()` method below. Note that even though the vocab_size is set to `5000`, we only want to construct a mapping for the most frequently appearing `4998` words. This is because we want to reserve the special labels `0` for 'no word' and `1` for 'infrequent word'."
   ]
  },
  {
   "cell_type": "code",
   "execution_count": 11,
   "metadata": {},
   "outputs": [],
   "source": [
    "import numpy as np\n",
    "from collections import Counter\n",
    "import pandas as pd\n",
    "\n",
    "def build_dict(data, vocab_size = 5000):\n",
    "    \"\"\"Construct and return a dictionary mapping each of the most frequently appearing words to a unique integer.\"\"\"\n",
    "    \n",
    "    # TODO: Determine how often each word appears in `data`. Note that `data` is a list of sentences and that a\n",
    "    #       sentence is a list of words.\n",
    "    \n",
    "    word_count = {} # A dict storing the words that appear in the reviews along with how often they occur\n",
    "    data_list = []\n",
    "    for lst in data:\n",
    "        data_list +=  lst\n",
    "    word_count = dict(Counter(data_list))\n",
    "    \n",
    "    # TODO: Sort the words found in `data` so that sorted_words[0] is the most frequently appearing word and\n",
    "    #       sorted_words[-1] is the least frequently appearing word.\n",
    "    \n",
    "    #sorted_word_count = pd.DataFrame.from_dict(dict(sorted(word_count.items(),key = lambda kv:(kv[1]),reverse = True)),orient = 'index',columns = ['words','counts'])\n",
    "    #sorted_words = list(sorted_word_count['words'])\n",
    "    \n",
    "    \n",
    "    sorted_word_count = pd.DataFrame(sorted(word_count.items(),key = lambda kv:(kv[1]),reverse = True),columns = ['words','counts'])\n",
    "    sorted_words = list(sorted_word_count['words'])\n",
    "    word_dict = {} # This is what we are building, a dictionary that translates words into integers\n",
    "    for idx, word in enumerate(sorted_words[:vocab_size - 2]): # The -2 is so that we save room for the 'no word'\n",
    "        word_dict[word] = idx + 2                              # 'infrequent' labels\n",
    "        \n",
    "    return word_dict"
   ]
  },
  {
   "cell_type": "code",
   "execution_count": 12,
   "metadata": {},
   "outputs": [],
   "source": [
    "word_dict = build_dict(train_X)"
   ]
  },
  {
   "cell_type": "markdown",
   "metadata": {},
   "source": [
    "**Question:** What are the five most frequently appearing (tokenized) words in the training set? Does it makes sense that these words appear frequently in the training set?"
   ]
  },
  {
   "cell_type": "markdown",
   "metadata": {},
   "source": [
    "**Answer:**movi film one like time"
   ]
  },
  {
   "cell_type": "code",
   "execution_count": 13,
   "metadata": {},
   "outputs": [
    {
     "name": "stdout",
     "output_type": "stream",
     "text": [
      "{'movi': 2, 'film': 3, 'one': 4, 'like': 5, 'time': 6, 'good': 7, 'make': 8, 'charact': 9, 'get': 10, 'see': 11, 'watch': 12, 'stori': 13, 'even': 14, 'would': 15, 'realli': 16, 'well': 17, 'scene': 18, 'look': 19, 'show': 20, 'much': 21, 'end': 22, 'peopl': 23, 'bad': 24, 'go': 25, 'great': 26, 'also': 27, 'first': 28, 'love': 29, 'think': 30, 'way': 31, 'act': 32, 'play': 33, 'made': 34, 'thing': 35, 'could': 36, 'know': 37, 'say': 38, 'seem': 39, 'work': 40, 'plot': 41, 'two': 42, 'actor': 43, 'year': 44, 'come': 45, 'mani': 46, 'seen': 47, 'take': 48, 'life': 49, 'want': 50, 'never': 51, 'littl': 52, 'best': 53, 'tri': 54, 'man': 55, 'ever': 56, 'give': 57, 'better': 58, 'still': 59, 'perform': 60, 'find': 61, 'feel': 62, 'part': 63, 'back': 64, 'use': 65, 'someth': 66, 'director': 67, 'actual': 68, 'interest': 69, 'lot': 70, 'real': 71, 'old': 72, 'cast': 73, 'though': 74, 'live': 75, 'star': 76, 'enjoy': 77, 'guy': 78, 'anoth': 79, 'new': 80, 'role': 81, 'noth': 82, '10': 83, 'funni': 84, 'music': 85, 'point': 86, 'start': 87, 'set': 88, 'girl': 89, 'origin': 90, 'day': 91, 'world': 92, 'everi': 93, 'believ': 94, 'turn': 95, 'quit': 96, 'direct': 97, 'us': 98, 'thought': 99, 'fact': 100, 'minut': 101, 'horror': 102, 'kill': 103, 'action': 104, 'comedi': 105, 'pretti': 106, 'young': 107, 'wonder': 108, 'happen': 109, 'around': 110, 'got': 111, 'effect': 112, 'right': 113, 'long': 114, 'howev': 115, 'big': 116, 'line': 117, 'famili': 118, 'enough': 119, 'seri': 120, 'may': 121, 'need': 122, 'fan': 123, 'bit': 124, 'script': 125, 'beauti': 126, 'person': 127, 'becom': 128, 'without': 129, 'must': 130, 'alway': 131, 'friend': 132, 'tell': 133, 'reason': 134, 'saw': 135, 'last': 136, 'final': 137, 'kid': 138, 'almost': 139, 'put': 140, 'least': 141, 'sure': 142, 'done': 143, 'whole': 144, 'place': 145, 'complet': 146, 'kind': 147, 'differ': 148, 'expect': 149, 'shot': 150, 'far': 151, 'mean': 152, 'anyth': 153, 'book': 154, 'laugh': 155, 'might': 156, 'name': 157, 'sinc': 158, 'begin': 159, '2': 160, 'probabl': 161, 'woman': 162, 'help': 163, 'entertain': 164, 'let': 165, 'screen': 166, 'call': 167, 'tv': 168, 'moment': 169, 'away': 170, 'read': 171, 'yet': 172, 'rather': 173, 'worst': 174, 'run': 175, 'fun': 176, 'lead': 177, 'hard': 178, 'audienc': 179, 'idea': 180, 'anyon': 181, 'episod': 182, 'american': 183, 'found': 184, 'appear': 185, 'bore': 186, 'especi': 187, 'although': 188, 'hope': 189, 'keep': 190, 'cours': 191, 'anim': 192, 'job': 193, 'goe': 194, 'move': 195, 'sens': 196, 'dvd': 197, 'version': 198, 'war': 199, 'money': 200, 'someon': 201, 'mind': 202, 'mayb': 203, 'problem': 204, 'true': 205, 'hous': 206, 'everyth': 207, 'nice': 208, 'second': 209, 'rate': 210, 'three': 211, 'night': 212, 'follow': 213, 'face': 214, 'recommend': 215, 'main': 216, 'product': 217, 'worth': 218, 'leav': 219, 'human': 220, 'special': 221, 'excel': 222, 'togeth': 223, 'wast': 224, 'everyon': 225, 'sound': 226, 'john': 227, 'hand': 228, '1': 229, 'father': 230, 'later': 231, 'eye': 232, 'said': 233, 'view': 234, 'instead': 235, 'review': 236, 'boy': 237, 'high': 238, 'hour': 239, 'miss': 240, 'classic': 241, 'talk': 242, 'wife': 243, 'understand': 244, 'left': 245, 'care': 246, 'black': 247, 'death': 248, 'open': 249, 'murder': 250, 'write': 251, 'half': 252, 'head': 253, 'rememb': 254, 'chang': 255, 'viewer': 256, 'fight': 257, 'gener': 258, 'surpris': 259, 'short': 260, 'includ': 261, 'die': 262, 'fall': 263, 'less': 264, 'els': 265, 'entir': 266, 'piec': 267, 'involv': 268, 'pictur': 269, 'simpli': 270, 'top': 271, 'home': 272, 'power': 273, 'total': 274, 'usual': 275, 'budget': 276, 'attempt': 277, 'suppos': 278, 'releas': 279, 'hollywood': 280, 'terribl': 281, 'song': 282, 'men': 283, 'possibl': 284, 'featur': 285, 'portray': 286, 'disappoint': 287, '3': 288, 'poor': 289, 'coupl': 290, 'camera': 291, 'stupid': 292, 'dead': 293, 'wrong': 294, 'low': 295, 'produc': 296, 'video': 297, 'either': 298, 'aw': 299, 'definit': 300, 'except': 301, 'rest': 302, 'given': 303, 'absolut': 304, 'women': 305, 'lack': 306, 'word': 307, 'writer': 308, 'titl': 309, 'talent': 310, 'decid': 311, 'full': 312, 'perfect': 313, 'along': 314, 'style': 315, 'close': 316, 'truli': 317, 'school': 318, 'emot': 319, 'save': 320, 'sex': 321, 'age': 322, 'next': 323, 'bring': 324, 'mr': 325, 'case': 326, 'killer': 327, 'heart': 328, 'comment': 329, 'sort': 330, 'creat': 331, 'perhap': 332, 'came': 333, 'brother': 334, 'sever': 335, 'joke': 336, 'art': 337, 'dialogu': 338, 'game': 339, 'small': 340, 'base': 341, 'flick': 342, 'written': 343, 'sequenc': 344, 'meet': 345, 'earli': 346, 'often': 347, 'other': 348, 'mother': 349, 'develop': 350, 'humor': 351, 'actress': 352, 'consid': 353, 'dark': 354, 'guess': 355, 'amaz': 356, 'unfortun': 357, 'light': 358, 'lost': 359, 'exampl': 360, 'cinema': 361, 'drama': 362, 'white': 363, 'ye': 364, 'experi': 365, 'imagin': 366, 'mention': 367, 'stop': 368, 'natur': 369, 'forc': 370, 'manag': 371, 'felt': 372, 'cut': 373, 'present': 374, 'children': 375, 'fail': 376, 'son': 377, 'qualiti': 378, 'support': 379, 'car': 380, 'ask': 381, 'hit': 382, 'side': 383, 'voic': 384, 'extrem': 385, 'impress': 386, 'evil': 387, 'wors': 388, 'stand': 389, 'went': 390, 'certainli': 391, 'basic': 392, 'oh': 393, 'overal': 394, 'favorit': 395, 'horribl': 396, 'mysteri': 397, 'number': 398, 'type': 399, 'danc': 400, 'wait': 401, 'hero': 402, 'alreadi': 403, '5': 404, 'learn': 405, 'matter': 406, '4': 407, 'michael': 408, 'genr': 409, 'fine': 410, 'despit': 411, 'throughout': 412, 'walk': 413, 'success': 414, 'histori': 415, 'question': 416, 'zombi': 417, 'town': 418, 'relationship': 419, 'realiz': 420, 'past': 421, 'child': 422, 'daughter': 423, 'late': 424, 'b': 425, 'wish': 426, 'credit': 427, 'hate': 428, 'event': 429, 'theme': 430, 'touch': 431, 'citi': 432, 'today': 433, 'sometim': 434, 'behind': 435, 'god': 436, 'twist': 437, 'sit': 438, 'annoy': 439, 'deal': 440, 'stay': 441, 'abl': 442, 'rent': 443, 'pleas': 444, 'edit': 445, 'blood': 446, 'deserv': 447, 'comic': 448, 'anyway': 449, 'appar': 450, 'soon': 451, 'gave': 452, 'etc': 453, 'level': 454, 'slow': 455, 'chanc': 456, 'score': 457, 'bodi': 458, 'brilliant': 459, 'incred': 460, 'figur': 461, 'situat': 462, 'self': 463, 'major': 464, 'stuff': 465, 'decent': 466, 'element': 467, 'dream': 468, 'return': 469, 'obvious': 470, 'order': 471, 'continu': 472, 'pace': 473, 'ridicul': 474, 'happi': 475, 'highli': 476, 'add': 477, 'group': 478, 'thank': 479, 'ladi': 480, 'novel': 481, 'speak': 482, 'pain': 483, 'career': 484, 'shoot': 485, 'strang': 486, 'heard': 487, 'sad': 488, 'husband': 489, 'polic': 490, 'import': 491, 'break': 492, 'took': 493, 'cannot': 494, 'strong': 495, 'predict': 496, 'robert': 497, 'violenc': 498, 'hilari': 499, 'recent': 500, 'countri': 501, 'known': 502, 'particularli': 503, 'pick': 504, 'documentari': 505, 'season': 506, 'critic': 507, 'jame': 508, 'compar': 509, 'alon': 510, 'obviou': 511, 'told': 512, 'state': 513, 'visual': 514, 'rock': 515, 'theater': 516, 'exist': 517, 'offer': 518, 'opinion': 519, 'gore': 520, 'hold': 521, 'crap': 522, 'result': 523, 'room': 524, 'hear': 525, 'realiti': 526, 'clich': 527, 'effort': 528, 'thriller': 529, 'caus': 530, 'serious': 531, 'explain': 532, 'sequel': 533, 'king': 534, 'local': 535, 'ago': 536, 'none': 537, 'hell': 538, 'note': 539, 'allow': 540, 'sister': 541, 'david': 542, 'simpl': 543, 'femal': 544, 'deliv': 545, 'ok': 546, 'convinc': 547, 'class': 548, 'check': 549, 'suspens': 550, 'win': 551, 'buy': 552, 'oscar': 553, 'huge': 554, 'valu': 555, 'sexual': 556, 'cool': 557, 'scari': 558, 'excit': 559, 'similar': 560, 'provid': 561, 'exactli': 562, 'apart': 563, 'shown': 564, 'avoid': 565, 'seriou': 566, 'english': 567, 'taken': 568, 'whose': 569, 'cinematographi': 570, 'shock': 571, 'polit': 572, 'spoiler': 573, 'offic': 574, 'across': 575, 'middl': 576, 'pass': 577, 'street': 578, 'messag': 579, 'charm': 580, 'somewhat': 581, 'silli': 582, 'modern': 583, 'filmmak': 584, 'confus': 585, 'form': 586, 'tale': 587, 'singl': 588, 'jack': 589, 'mostli': 590, 'attent': 591, 'william': 592, 'carri': 593, 'sing': 594, 'subject': 595, 'five': 596, 'prove': 597, 'richard': 598, 'team': 599, 'stage': 600, 'cop': 601, 'unlik': 602, 'georg': 603, 'televis': 604, 'monster': 605, 'earth': 606, 'villain': 607, 'cover': 608, 'pay': 609, 'marri': 610, 'toward': 611, 'build': 612, 'parent': 613, 'pull': 614, 'due': 615, 'respect': 616, 'fill': 617, 'four': 618, 'dialog': 619, 'remind': 620, 'futur': 621, 'weak': 622, 'typic': 623, '7': 624, 'cheap': 625, 'intellig': 626, 'atmospher': 627, 'british': 628, '80': 629, 'clearli': 630, 'paul': 631, 'non': 632, 'dog': 633, 'artist': 634, 'fast': 635, 'knew': 636, '8': 637, 'crime': 638, 'easili': 639, 'escap': 640, 'adult': 641, 'doubt': 642, 'detail': 643, 'date': 644, 'member': 645, 'fire': 646, 'romant': 647, 'gun': 648, 'drive': 649, 'straight': 650, 'beyond': 651, 'fit': 652, 'attack': 653, 'imag': 654, 'upon': 655, 'posit': 656, 'whether': 657, 'peter': 658, 'fantast': 659, 'appreci': 660, 'aspect': 661, 'captur': 662, 'ten': 663, 'plan': 664, 'discov': 665, 'remain': 666, 'near': 667, 'period': 668, 'realist': 669, 'air': 670, 'mark': 671, 'red': 672, 'dull': 673, 'adapt': 674, 'within': 675, 'spend': 676, 'lose': 677, 'materi': 678, 'color': 679, 'chase': 680, 'mari': 681, 'storylin': 682, 'forget': 683, 'bunch': 684, 'clear': 685, 'lee': 686, 'victim': 687, 'nearli': 688, 'box': 689, 'york': 690, 'match': 691, 'inspir': 692, 'finish': 693, 'mess': 694, 'standard': 695, 'easi': 696, 'truth': 697, 'suffer': 698, 'busi': 699, 'dramat': 700, 'space': 701, 'bill': 702, 'western': 703, 'e': 704, 'list': 705, 'battl': 706, 'notic': 707, 'de': 708, 'french': 709, 'ad': 710, '9': 711, 'tom': 712, 'larg': 713, 'among': 714, 'eventu': 715, 'accept': 716, 'train': 717, 'agre': 718, 'soundtrack': 719, 'spirit': 720, 'third': 721, 'teenag': 722, 'soldier': 723, 'adventur': 724, 'drug': 725, 'suggest': 726, 'sorri': 727, 'famou': 728, 'babi': 729, 'cri': 730, 'normal': 731, 'troubl': 732, 'ultim': 733, 'contain': 734, 'certain': 735, 'cultur': 736, 'romanc': 737, 'rare': 738, 'lame': 739, 'somehow': 740, 'mix': 741, 'disney': 742, 'gone': 743, 'cartoon': 744, 'student': 745, 'reveal': 746, 'fear': 747, 'kept': 748, 'suck': 749, 'attract': 750, 'appeal': 751, 'premis': 752, 'design': 753, 'secret': 754, 'greatest': 755, 'shame': 756, 'throw': 757, 'copi': 758, 'scare': 759, 'wit': 760, 'america': 761, 'admit': 762, 'particular': 763, 'brought': 764, 'relat': 765, 'screenplay': 766, 'whatev': 767, 'pure': 768, '70': 769, 'harri': 770, 'averag': 771, 'master': 772, 'describ': 773, 'male': 774, 'treat': 775, '20': 776, 'issu': 777, 'fantasi': 778, 'warn': 779, 'inde': 780, 'forward': 781, 'background': 782, 'free': 783, 'project': 784, 'japanes': 785, 'memor': 786, 'poorli': 787, 'award': 788, 'locat': 789, 'potenti': 790, 'amus': 791, 'struggl': 792, 'magic': 793, 'weird': 794, 'societi': 795, 'okay': 796, 'imdb': 797, 'doctor': 798, 'accent': 799, 'water': 800, 'hot': 801, 'express': 802, 'alien': 803, 'dr': 804, '30': 805, 'odd': 806, 'crazi': 807, 'choic': 808, 'studio': 809, 'fiction': 810, 'control': 811, 'becam': 812, 'masterpiec': 813, 'fli': 814, 'difficult': 815, 'joe': 816, 'scream': 817, 'costum': 818, 'lover': 819, 'refer': 820, 'uniqu': 821, 'remak': 822, 'girlfriend': 823, 'vampir': 824, 'prison': 825, 'execut': 826, 'wear': 827, 'jump': 828, 'wood': 829, 'unless': 830, 'creepi': 831, 'cheesi': 832, 'superb': 833, 'otherwis': 834, 'parti': 835, 'roll': 836, 'ghost': 837, 'public': 838, 'mad': 839, 'depict': 840, 'badli': 841, 'jane': 842, 'moral': 843, 'week': 844, 'earlier': 845, 'dumb': 846, 'fi': 847, 'flaw': 848, 'grow': 849, 'sci': 850, 'deep': 851, 'maker': 852, 'cat': 853, 'older': 854, 'connect': 855, 'footag': 856, 'bother': 857, 'plenti': 858, 'outsid': 859, 'stick': 860, 'gay': 861, 'catch': 862, 'plu': 863, 'co': 864, 'popular': 865, 'equal': 866, 'social': 867, 'quickli': 868, 'disturb': 869, 'perfectli': 870, 'dress': 871, '90': 872, 'era': 873, 'mistak': 874, 'lie': 875, 'ride': 876, 'previou': 877, 'combin': 878, 'concept': 879, 'band': 880, 'surviv': 881, 'rich': 882, 'answer': 883, 'front': 884, 'sweet': 885, 'christma': 886, 'insid': 887, 'bare': 888, 'eat': 889, 'concern': 890, 'ben': 891, 'beat': 892, 'listen': 893, 'c': 894, 'term': 895, 'serv': 896, 'german': 897, 'la': 898, 'meant': 899, 'hardli': 900, 'stereotyp': 901, 'law': 902, 'innoc': 903, 'desper': 904, 'memori': 905, 'promis': 906, 'intent': 907, 'cute': 908, 'inform': 909, 'steal': 910, 'variou': 911, 'brain': 912, 'post': 913, 'tone': 914, 'island': 915, 'amount': 916, 'nuditi': 917, 'track': 918, 'compani': 919, 'store': 920, 'claim': 921, '50': 922, 'flat': 923, 'hair': 924, 'land': 925, 'univers': 926, 'scott': 927, 'danger': 928, 'fairli': 929, 'kick': 930, 'player': 931, 'plain': 932, 'crew': 933, 'step': 934, 'toni': 935, 'share': 936, 'centuri': 937, 'tast': 938, 'achiev': 939, 'engag': 940, 'travel': 941, 'cold': 942, 'record': 943, 'suit': 944, 'rip': 945, 'sadli': 946, 'manner': 947, 'wrote': 948, 'spot': 949, 'tension': 950, 'intens': 951, 'fascin': 952, 'familiar': 953, 'burn': 954, 'depth': 955, 'remark': 956, 'destroy': 957, 'histor': 958, 'sleep': 959, 'purpos': 960, 'languag': 961, 'ignor': 962, 'ruin': 963, 'delight': 964, 'unbeliev': 965, 'italian': 966, 'collect': 967, 'abil': 968, 'soul': 969, 'detect': 970, 'clever': 971, 'violent': 972, 'rape': 973, 'reach': 974, 'door': 975, 'trash': 976, 'liter': 977, 'scienc': 978, 'reveng': 979, 'caught': 980, 'commun': 981, 'creatur': 982, 'approach': 983, 'trip': 984, 'intrigu': 985, 'fashion': 986, 'introduc': 987, 'paint': 988, 'skill': 989, 'channel': 990, 'complex': 991, 'camp': 992, 'christian': 993, 'extra': 994, 'hole': 995, 'immedi': 996, 'limit': 997, 'ann': 998, 'mental': 999, 'comput': 1000, 'slightli': 1001, 'million': 1002, 'mere': 1003, '6': 1004, 'slasher': 1005, 'conclus': 1006, 'imposs': 1007, 'suddenli': 1008, 'neither': 1009, 'teen': 1010, 'crimin': 1011, 'nation': 1012, 'spent': 1013, 'physic': 1014, 'respons': 1015, 'planet': 1016, 'fake': 1017, 'receiv': 1018, 'blue': 1019, 'sick': 1020, 'bizarr': 1021, 'embarrass': 1022, 'indian': 1023, 'ring': 1024, '15': 1025, 'pop': 1026, 'drop': 1027, 'drag': 1028, 'haunt': 1029, 'suspect': 1030, 'pointless': 1031, 'search': 1032, 'edg': 1033, 'handl': 1034, 'biggest': 1035, 'common': 1036, 'arriv': 1037, 'faith': 1038, 'hurt': 1039, 'technic': 1040, 'angel': 1041, 'dad': 1042, 'genuin': 1043, 'f': 1044, 'awesom': 1045, 'solid': 1046, 'colleg': 1047, 'focu': 1048, 'van': 1049, 'former': 1050, 'count': 1051, 'heavi': 1052, 'tear': 1053, 'rais': 1054, 'wall': 1055, 'younger': 1056, 'laughabl': 1057, 'visit': 1058, 'fair': 1059, 'sign': 1060, 'excus': 1061, 'cult': 1062, 'tough': 1063, 'motion': 1064, 'key': 1065, 'super': 1066, 'desir': 1067, 'stun': 1068, 'addit': 1069, 'cloth': 1070, 'exploit': 1071, 'tortur': 1072, 'smith': 1073, 'davi': 1074, 'race': 1075, 'cross': 1076, 'author': 1077, 'jim': 1078, 'consist': 1079, 'focus': 1080, 'minor': 1081, 'compel': 1082, 'pathet': 1083, 'chemistri': 1084, 'commit': 1085, 'park': 1086, 'obsess': 1087, 'tradit': 1088, 'frank': 1089, 'grade': 1090, 'asid': 1091, '60': 1092, 'brutal': 1093, 'steve': 1094, 'somewher': 1095, 'rule': 1096, 'explor': 1097, 'grant': 1098, 'u': 1099, 'opportun': 1100, 'depress': 1101, 'besid': 1102, 'honest': 1103, 'dub': 1104, 'anti': 1105, 'intend': 1106, 'trailer': 1107, 'bar': 1108, 'regard': 1109, 'scientist': 1110, 'west': 1111, 'longer': 1112, 'judg': 1113, 'decad': 1114, 'silent': 1115, 'creativ': 1116, 'armi': 1117, 'wild': 1118, 'stewart': 1119, 'south': 1120, 'g': 1121, 'draw': 1122, 'road': 1123, 'govern': 1124, 'boss': 1125, 'ex': 1126, 'practic': 1127, 'festiv': 1128, 'gang': 1129, 'motiv': 1130, 'club': 1131, 'surprisingli': 1132, 'green': 1133, 'redeem': 1134, 'page': 1135, 'london': 1136, 'idiot': 1137, 'machin': 1138, 'display': 1139, 'militari': 1140, 'aliv': 1141, 'thrill': 1142, 'repeat': 1143, 'yeah': 1144, 'nobodi': 1145, '100': 1146, 'folk': 1147, '40': 1148, 'garbag': 1149, 'journey': 1150, 'smile': 1151, 'ground': 1152, 'tire': 1153, 'bought': 1154, 'mood': 1155, 'cost': 1156, 'sam': 1157, 'stone': 1158, 'noir': 1159, 'mouth': 1160, 'terrif': 1161, 'agent': 1162, 'utterli': 1163, 'requir': 1164, 'sexi': 1165, 'area': 1166, 'honestli': 1167, 'geniu': 1168, 'report': 1169, 'enter': 1170, 'investig': 1171, 'glad': 1172, 'humour': 1173, 'serial': 1174, 'occasion': 1175, 'narr': 1176, 'passion': 1177, 'climax': 1178, 'marriag': 1179, 'studi': 1180, 'industri': 1181, 'demon': 1182, 'nowher': 1183, 'center': 1184, 'charli': 1185, 'ship': 1186, 'bear': 1187, 'loos': 1188, 'hors': 1189, 'wow': 1190, 'hang': 1191, 'graphic': 1192, 'admir': 1193, 'giant': 1194, 'send': 1195, 'damn': 1196, 'loud': 1197, 'subtl': 1198, 'nake': 1199, 'profession': 1200, 'rel': 1201, 'blow': 1202, 'bottom': 1203, 'insult': 1204, 'batman': 1205, 'boyfriend': 1206, 'kelli': 1207, 'doubl': 1208, 'r': 1209, 'initi': 1210, 'frame': 1211, 'opera': 1212, 'gem': 1213, 'drawn': 1214, 'challeng': 1215, 'affect': 1216, 'cinemat': 1217, 'church': 1218, 'fulli': 1219, 'evid': 1220, 'seek': 1221, 'nightmar': 1222, 'l': 1223, 'j': 1224, 'essenti': 1225, 'conflict': 1226, 'arm': 1227, 'henri': 1228, 'grace': 1229, 'wind': 1230, 'christoph': 1231, 'witch': 1232, 'assum': 1233, 'narrat': 1234, 'push': 1235, 'hunt': 1236, 'wise': 1237, 'chri': 1238, 'month': 1239, 'repres': 1240, 'nomin': 1241, 'avail': 1242, 'hide': 1243, 'affair': 1244, 'sceneri': 1245, 'justic': 1246, 'bond': 1247, 'smart': 1248, 'thu': 1249, 'flashback': 1250, 'interview': 1251, 'outstand': 1252, 'constantli': 1253, 'presenc': 1254, 'satisfi': 1255, 'central': 1256, 'bed': 1257, 'iron': 1258, 'content': 1259, 'sell': 1260, 'gag': 1261, 'everybodi': 1262, 'slowli': 1263, 'hotel': 1264, 'hire': 1265, 'system': 1266, 'hey': 1267, 'individu': 1268, 'adam': 1269, 'charl': 1270, 'thrown': 1271, 'allen': 1272, 'jone': 1273, 'mediocr': 1274, 'lesson': 1275, 'billi': 1276, 'ray': 1277, 'photographi': 1278, 'cameo': 1279, 'fellow': 1280, 'pari': 1281, 'strike': 1282, 'absurd': 1283, 'independ': 1284, 'brief': 1285, 'rise': 1286, 'neg': 1287, 'phone': 1288, 'impact': 1289, 'ill': 1290, 'born': 1291, 'model': 1292, 'spoil': 1293, 'angl': 1294, 'fresh': 1295, 'abus': 1296, 'likabl': 1297, 'discuss': 1298, 'hill': 1299, 'sight': 1300, 'ahead': 1301, 'photograph': 1302, 'sent': 1303, 'shine': 1304, 'occur': 1305, 'logic': 1306, 'blame': 1307, 'mainli': 1308, 'bruce': 1309, 'skip': 1310, 'forev': 1311, 'commerci': 1312, 'teacher': 1313, 'held': 1314, 'surround': 1315, 'segment': 1316, 'blond': 1317, 'zero': 1318, 'satir': 1319, 'trap': 1320, 'summer': 1321, 'resembl': 1322, 'six': 1323, 'fool': 1324, 'queen': 1325, 'ball': 1326, 'tragedi': 1327, 'twice': 1328, 'sub': 1329, 'pack': 1330, 'reaction': 1331, 'bomb': 1332, 'will': 1333, 'hospit': 1334, 'protagonist': 1335, 'sport': 1336, 'mile': 1337, 'trust': 1338, 'vote': 1339, 'jerri': 1340, 'drink': 1341, 'mom': 1342, 'encount': 1343, 'plane': 1344, 'current': 1345, 'program': 1346, 'al': 1347, 'station': 1348, 'martin': 1349, 'choos': 1350, 'celebr': 1351, 'join': 1352, 'tragic': 1353, 'round': 1354, 'field': 1355, 'lord': 1356, 'favourit': 1357, 'vision': 1358, 'jean': 1359, 'robot': 1360, 'tie': 1361, 'arthur': 1362, 'fortun': 1363, 'roger': 1364, 'random': 1365, 'dread': 1366, 'intern': 1367, 'psycholog': 1368, 'prefer': 1369, 'improv': 1370, 'nonsens': 1371, 'epic': 1372, 'formula': 1373, 'highlight': 1374, 'pleasur': 1375, 'legend': 1376, 'dollar': 1377, 'tape': 1378, '11': 1379, 'gorgeou': 1380, 'object': 1381, 'thin': 1382, 'fox': 1383, 'porn': 1384, 'wide': 1385, 'buddi': 1386, 'influenc': 1387, 'ugli': 1388, 'ii': 1389, 'prepar': 1390, 'nasti': 1391, 'supposedli': 1392, 'reflect': 1393, 'warm': 1394, 'progress': 1395, 'youth': 1396, 'worthi': 1397, 'unusu': 1398, 'length': 1399, 'latter': 1400, 'crash': 1401, 'shop': 1402, 'seven': 1403, 'superior': 1404, 'childhood': 1405, 'remot': 1406, 'theatr': 1407, 'pilot': 1408, 'disgust': 1409, 'paid': 1410, 'funniest': 1411, 'trick': 1412, 'convers': 1413, 'castl': 1414, 'fell': 1415, 'rob': 1416, 'establish': 1417, 'disast': 1418, 'gangster': 1419, 'mine': 1420, 'ident': 1421, 'disappear': 1422, 'heaven': 1423, 'suicid': 1424, 'forgotten': 1425, 'decis': 1426, 'heroin': 1427, 'tend': 1428, 'mask': 1429, 'singer': 1430, 'brian': 1431, 'partner': 1432, 'alan': 1433, 'desert': 1434, 'recogn': 1435, 'thoroughli': 1436, 'p': 1437, 'sky': 1438, 'stuck': 1439, 'ms': 1440, 'replac': 1441, 'accur': 1442, 'market': 1443, 'commentari': 1444, 'eddi': 1445, 'seemingli': 1446, 'andi': 1447, 'danni': 1448, 'uncl': 1449, 'clue': 1450, 'devil': 1451, 'jackson': 1452, 'pair': 1453, 'refus': 1454, 'therefor': 1455, 'that': 1456, 'unit': 1457, 'ed': 1458, 'fault': 1459, 'accid': 1460, 'fate': 1461, 'river': 1462, 'afraid': 1463, 'tune': 1464, 'russian': 1465, 'clean': 1466, 'stephen': 1467, 'hidden': 1468, 'readi': 1469, 'irrit': 1470, 'test': 1471, 'quick': 1472, 'captain': 1473, 'convey': 1474, 'instanc': 1475, 'european': 1476, 'frustrat': 1477, 'insan': 1478, 'daniel': 1479, 'wed': 1480, 'food': 1481, 'chines': 1482, '1950': 1483, 'rescu': 1484, 'angri': 1485, 'lock': 1486, 'dirti': 1487, 'joy': 1488, 'steven': 1489, 'price': 1490, 'cage': 1491, 'bland': 1492, 'anymor': 1493, 'rang': 1494, 'wooden': 1495, 'rush': 1496, 'news': 1497, 'n': 1498, 'jason': 1499, 'twenti': 1500, 'led': 1501, 'worri': 1502, 'board': 1503, 'martial': 1504, '12': 1505, 'transform': 1506, 'symbol': 1507, 'hunter': 1508, 'cgi': 1509, 'piti': 1510, 'johnni': 1511, 'onto': 1512, 'invent': 1513, 'x': 1514, 'sentiment': 1515, 'attitud': 1516, 'explan': 1517, 'process': 1518, 'awar': 1519, 'owner': 1520, 'aim': 1521, 'floor': 1522, 'favor': 1523, 'energi': 1524, 'necessari': 1525, 'target': 1526, 'opposit': 1527, 'religi': 1528, 'blind': 1529, 'insight': 1530, 'window': 1531, 'chick': 1532, 'movement': 1533, 'deepli': 1534, 'research': 1535, 'possess': 1536, 'mountain': 1537, 'comparison': 1538, 'comed': 1539, 'rain': 1540, 'grand': 1541, 'whatsoev': 1542, 'bank': 1543, 'shadow': 1544, 'began': 1545, 'mid': 1546, 'parodi': 1547, 'princ': 1548, 'friendship': 1549, 'credibl': 1550, 'weapon': 1551, 'taylor': 1552, 'pre': 1553, 'dougla': 1554, 'flesh': 1555, 'teach': 1556, 'hint': 1557, 'terror': 1558, 'protect': 1559, 'bloodi': 1560, 'marvel': 1561, 'superman': 1562, 'watchabl': 1563, 'leader': 1564, 'anybodi': 1565, 'load': 1566, 'drunk': 1567, 'accord': 1568, 'brown': 1569, 'freddi': 1570, 'tim': 1571, 'jeff': 1572, 'seat': 1573, 'appropri': 1574, 'hitler': 1575, 'keaton': 1576, 'unknown': 1577, 'villag': 1578, 'charg': 1579, 'knock': 1580, 'empti': 1581, 'enemi': 1582, 'media': 1583, 'england': 1584, 'unnecessari': 1585, 'strength': 1586, 'perspect': 1587, 'craft': 1588, 'dare': 1589, 'utter': 1590, 'buck': 1591, 'wave': 1592, 'contrast': 1593, 'kiss': 1594, 'ford': 1595, 'nativ': 1596, 'correct': 1597, 'soap': 1598, 'chill': 1599, 'magnific': 1600, 'anywher': 1601, 'speed': 1602, 'distract': 1603, 'nazi': 1604, 'knowledg': 1605, 'breath': 1606, '1980': 1607, 'mission': 1608, 'ice': 1609, 'fred': 1610, 'moon': 1611, 'jr': 1612, 'crowd': 1613, 'joan': 1614, 'soft': 1615, 'frighten': 1616, 'kate': 1617, '000': 1618, 'nick': 1619, 'hundr': 1620, 'dick': 1621, 'dan': 1622, 'simon': 1623, 'dozen': 1624, 'radio': 1625, 'somebodi': 1626, 'andrew': 1627, 'academi': 1628, 'loss': 1629, 'shakespear': 1630, 'thousand': 1631, 'root': 1632, 'sum': 1633, 'vehicl': 1634, 'account': 1635, 'quot': 1636, 'leg': 1637, '1970': 1638, 'convent': 1639, 'behavior': 1640, 'gold': 1641, 'regular': 1642, 'worker': 1643, 'demand': 1644, 'pretenti': 1645, 'compet': 1646, 'notabl': 1647, 'interpret': 1648, 'explos': 1649, 'privat': 1650, 'candi': 1651, 'stretch': 1652, 'lynch': 1653, 'japan': 1654, 'constant': 1655, 'debut': 1656, 'tarzan': 1657, 'spi': 1658, 'sea': 1659, 'translat': 1660, 'prais': 1661, 'revolv': 1662, 'sat': 1663, 'franc': 1664, 'quiet': 1665, 'ass': 1666, 'jesu': 1667, 'threaten': 1668, 'failur': 1669, 'technolog': 1670, 'punch': 1671, 'higher': 1672, 'kevin': 1673, 'met': 1674, 'aid': 1675, 'toy': 1676, 'abandon': 1677, 'mike': 1678, 'interact': 1679, 'vh': 1680, 'confront': 1681, 'bet': 1682, 'separ': 1683, 'command': 1684, 'techniqu': 1685, 'servic': 1686, 'stunt': 1687, 'belong': 1688, 'gotten': 1689, 'recal': 1690, 'site': 1691, 'foot': 1692, 'bug': 1693, 'freak': 1694, 'cabl': 1695, 'jimmi': 1696, 'african': 1697, 'capabl': 1698, 'fu': 1699, 'bright': 1700, 'clark': 1701, 'boat': 1702, 'succeed': 1703, 'presid': 1704, 'fat': 1705, 'stock': 1706, 'structur': 1707, 'gene': 1708, 'spanish': 1709, 'kidnap': 1710, 'paper': 1711, 'whilst': 1712, 'factor': 1713, 'belief': 1714, 'bob': 1715, 'witti': 1716, 'complic': 1717, 'realis': 1718, 'realism': 1719, 'tree': 1720, 'educ': 1721, 'attend': 1722, 'broken': 1723, 'finest': 1724, 'assist': 1725, 'santa': 1726, 'up': 1727, 'observ': 1728, 'determin': 1729, 'depart': 1730, 'smoke': 1731, 'v': 1732, 'oper': 1733, 'fame': 1734, 'routin': 1735, 'hat': 1736, 'rubbish': 1737, 'domin': 1738, 'lewi': 1739, 'advanc': 1740, 'lone': 1741, 'safe': 1742, 'foreign': 1743, 'kinda': 1744, 'hook': 1745, 'morgan': 1746, 'numer': 1747, 'rank': 1748, 'civil': 1749, 'washington': 1750, 'shallow': 1751, 'vs': 1752, 'shape': 1753, 'rose': 1754, 'werewolf': 1755, 'gari': 1756, 'morn': 1757, 'winner': 1758, 'accomplish': 1759, 'ordinari': 1760, 'kong': 1761, 'virtual': 1762, 'peac': 1763, 'whenev': 1764, 'grab': 1765, 'h': 1766, 'luck': 1767, 'offens': 1768, 'patient': 1769, 'contriv': 1770, 'bigger': 1771, 'unfunni': 1772, 'welcom': 1773, 'activ': 1774, 'complain': 1775, 'con': 1776, 'dimension': 1777, 'trek': 1778, 'pretend': 1779, 'code': 1780, 'flash': 1781, 'cain': 1782, 'eric': 1783, 'dri': 1784, 'lesbian': 1785, 'wake': 1786, 'corrupt': 1787, 'manipul': 1788, 'dancer': 1789, 'albert': 1790, 'statu': 1791, 'guard': 1792, 'awkward': 1793, 'gain': 1794, 'signific': 1795, 'speech': 1796, 'sourc': 1797, 'context': 1798, 'corni': 1799, 'clip': 1800, 'psycho': 1801, 'sean': 1802, 'anthoni': 1803, '13': 1804, 'priest': 1805, 'w': 1806, 'theatric': 1807, 'curiou': 1808, 'reli': 1809, 'religion': 1810, 'advic': 1811, 'flow': 1812, 'addict': 1813, 'skin': 1814, 'specif': 1815, 'jennif': 1816, 'howard': 1817, 'secur': 1818, 'asian': 1819, 'luke': 1820, 'golden': 1821, 'comfort': 1822, 'organ': 1823, 'promot': 1824, 'core': 1825, 'cheat': 1826, 'lucki': 1827, 'cash': 1828, 'associ': 1829, 'dislik': 1830, 'lower': 1831, 'devic': 1832, 'regret': 1833, 'degre': 1834, 'balanc': 1835, 'contribut': 1836, 'frequent': 1837, 'wing': 1838, 'frankli': 1839, 'spell': 1840, 'sake': 1841, 'lake': 1842, 'forgiv': 1843, 'print': 1844, 'mass': 1845, 'betti': 1846, 'thoma': 1847, 'crack': 1848, 'unexpect': 1849, 'gordon': 1850, 'depend': 1851, 'grown': 1852, 'invit': 1853, 'unfold': 1854, 'amateur': 1855, 'construct': 1856, 'categori': 1857, 'matur': 1858, 'honor': 1859, 'intellectu': 1860, 'grew': 1861, 'walter': 1862, 'anna': 1863, 'condit': 1864, 'mirror': 1865, 'sole': 1866, 'veteran': 1867, 'sudden': 1868, 'spectacular': 1869, 'liner': 1870, 'demonstr': 1871, 'gift': 1872, 'freedom': 1873, 'grip': 1874, 'experienc': 1875, 'robin': 1876, 'meanwhil': 1877, 'overli': 1878, 'card': 1879, 'subtitl': 1880, 'circumst': 1881, 'section': 1882, 'brilliantli': 1883, 'sheriff': 1884, 'theori': 1885, 'unabl': 1886, 'drew': 1887, 'oliv': 1888, 'crappi': 1889, 'colour': 1890, 'path': 1891, 'cook': 1892, 'sheer': 1893, 'laughter': 1894, 'altern': 1895, 'matt': 1896, 'parker': 1897, 'pile': 1898, 'defin': 1899, 'treatment': 1900, 'sinatra': 1901, 'hall': 1902, 'relief': 1903, 'lawyer': 1904, 'accident': 1905, 'wander': 1906, 'captiv': 1907, 'hank': 1908, 'dragon': 1909, 'gratuit': 1910, 'moor': 1911, 'halloween': 1912, 'wound': 1913, 'cowboy': 1914, 'wayn': 1915, 'jacki': 1916, 'broadway': 1917, 'kung': 1918, 'barbara': 1919, 'unintent': 1920, 'k': 1921, 'statement': 1922, 'canadian': 1923, 'winter': 1924, 'spoof': 1925, 'surreal': 1926, 'fish': 1927, 'cheer': 1928, 'treasur': 1929, 'gonna': 1930, 'fare': 1931, 'compos': 1932, 'unrealist': 1933, 'woodi': 1934, 'emerg': 1935, 'sensit': 1936, 'victor': 1937, 'neighbor': 1938, 'sympathet': 1939, 'ran': 1940, 'driven': 1941, 'topic': 1942, 'menac': 1943, 'overlook': 1944, 'expos': 1945, 'authent': 1946, 'glass': 1947, 'gross': 1948, 'chief': 1949, 'michel': 1950, 'ancient': 1951, 'handsom': 1952, 'feet': 1953, 'network': 1954, 'cinderella': 1955, 'built': 1956, 'contemporari': 1957, 'comedian': 1958, 'russel': 1959, 'pleasant': 1960, 'stranger': 1961, 'nevertheless': 1962, 'miser': 1963, 'consider': 1964, 'gori': 1965, 'earn': 1966, 'blockbust': 1967, 'underr': 1968, 'endless': 1969, 'letter': 1970, 'solv': 1971, 'brook': 1972, 'switch': 1973, 'joseph': 1974, 'victoria': 1975, 'convict': 1976, 'virgin': 1977, 'bullet': 1978, 'edward': 1979, 'chosen': 1980, '0': 1981, 'scale': 1982, 'cynic': 1983, 'alex': 1984, 'scenario': 1985, 'outrag': 1986, 'sword': 1987, 'com': 1988, 'curs': 1989, 'gut': 1990, 'screenwrit': 1991, 'substanc': 1992, 'wrap': 1993, 'juli': 1994, 'monkey': 1995, 'proper': 1996, 'driver': 1997, 'uk': 1998, 'court': 1999, 'indic': 2000, 'remov': 2001, 'bird': 2002, 'par': 2003, 'grave': 2004, 'inevit': 2005, 'rental': 2006, 'loser': 2007, 'consequ': 2008, 'advertis': 2009, 'naiv': 2010, 'roy': 2011, 'nanci': 2012, 'brave': 2013, 'invis': 2014, 'le': 2015, 'fatal': 2016, 'bridg': 2017, 'germani': 2018, 'slap': 2019, 'provok': 2020, 'anger': 2021, 'footbal': 2022, 'ador': 2023, 'loui': 2024, 'chan': 2025, 'alcohol': 2026, 'anderson': 2027, 'professor': 2028, 'ryan': 2029, 'stumbl': 2030, 'willi': 2031, '1930': 2032, 'australian': 2033, 'patrick': 2034, 'assassin': 2035, 'sharp': 2036, 'bat': 2037, 'cell': 2038, 'amateurish': 2039, 'refresh': 2040, 'saturday': 2041, 'liber': 2042, 'deni': 2043, 'eight': 2044, 'ape': 2045, 'heck': 2046, 'trilog': 2047, 'lousi': 2048, 'strongli': 2049, 'sin': 2050, 'san': 2051, 'vagu': 2052, 'justifi': 2053, 'resid': 2054, 'creator': 2055, 'defeat': 2056, 'reput': 2057, 'mini': 2058, 'sympathi': 2059, 'indi': 2060, 'terrifi': 2061, 'expert': 2062, 'endur': 2063, 'tediou': 2064, 'task': 2065, 'tabl': 2066, 'prevent': 2067, 'che': 2068, 'offend': 2069, 'rival': 2070, 'trial': 2071, 'basebal': 2072, 'employ': 2073, 'imit': 2074, 'europ': 2075, 'dig': 2076, 'beach': 2077, 'weekend': 2078, 'max': 2079, 'fairi': 2080, 'pitch': 2081, 'complaint': 2082, 'purchas': 2083, 'format': 2084, 'risk': 2085, 'murphi': 2086, 'titan': 2087, 'harsh': 2088, 'tini': 2089, 'hype': 2090, 'glimps': 2091, 'bite': 2092, 'reminisc': 2093, 'nois': 2094, 'powel': 2095, 'prime': 2096, 'fals': 2097, '14': 2098, 'asleep': 2099, 'north': 2100, 'strip': 2101, 'till': 2102, 'destruct': 2103, 'revel': 2104, 'africa': 2105, 'descript': 2106, 'texa': 2107, 'semi': 2108, 'excess': 2109, 'sitcom': 2110, 'inner': 2111, 'spin': 2112, 'surfac': 2113, 'arrest': 2114, 'uninterest': 2115, 'controversi': 2116, 'massiv': 2117, 'twin': 2118, 'dinosaur': 2119, 'maintain': 2120, 'hitchcock': 2121, 'makeup': 2122, 'argu': 2123, 'expens': 2124, 'melodrama': 2125, 'insist': 2126, 'reject': 2127, 'kim': 2128, 'stare': 2129, 'ideal': 2130, 'ludicr': 2131, 'ala': 2132, 'forest': 2133, 'nail': 2134, 'subplot': 2135, 'ga': 2136, 'host': 2137, 'erot': 2138, 'supernatur': 2139, 'columbo': 2140, 'press': 2141, 'atroci': 2142, 'identifi': 2143, 'dude': 2144, 'notch': 2145, 'presum': 2146, 'cant': 2147, 'crude': 2148, 'method': 2149, 'character': 2150, 'closer': 2151, 'guest': 2152, 'plagu': 2153, 'forgett': 2154, 'ear': 2155, 'princess': 2156, 'foster': 2157, 'landscap': 2158, 'border': 2159, 'beast': 2160, 'lion': 2161, 'birth': 2162, 'bound': 2163, 'damag': 2164, 'accus': 2165, 'storytel': 2166, 'pacino': 2167, 'jungl': 2168, 'previous': 2169, 'aunt': 2170, 'urban': 2171, 'nude': 2172, 'doll': 2173, 'emma': 2174, 'guid': 2175, 'propaganda': 2176, 'jess': 2177, 'thirti': 2178, 'chose': 2179, 'mainstream': 2180, 'mate': 2181, 'warrior': 2182, 'pet': 2183, 'whoever': 2184, '25': 2185, 'deadli': 2186, 'merit': 2187, 'poster': 2188, 'gritti': 2189, 'friday': 2190, 'upset': 2191, 'size': 2192, 'cooper': 2193, 'latest': 2194, 'exact': 2195, 'popul': 2196, 'corps': 2197, 'ton': 2198, '1990': 2199, 'settl': 2200, 'contact': 2201, 'wilson': 2202, 'blend': 2203, 'contest': 2204, 'buff': 2205, 'warner': 2206, 'rough': 2207, 'citizen': 2208, 'sun': 2209, 'widow': 2210, 'alic': 2211, 'environ': 2212, 'select': 2213, 'pitt': 2214, 'mgm': 2215, 'bu': 2216, 'metal': 2217, 'rat': 2218, 'overcom': 2219, 'particip': 2220, 'guilti': 2221, 'ted': 2222, 'link': 2223, 'lift': 2224, 'revolut': 2225, 'johnson': 2226, 'corner': 2227, 'corpor': 2228, 'accompani': 2229, '1960': 2230, 'exagger': 2231, 'moron': 2232, 'prostitut': 2233, 'afternoon': 2234, 'matrix': 2235, 'doom': 2236, 'multipl': 2237, 'sincer': 2238, 'leagu': 2239, 'friendli': 2240, 'clair': 2241, 'instal': 2242, 'holm': 2243, 'hood': 2244, 'campi': 2245, 'examin': 2246, 'defend': 2247, 'string': 2248, 'lugosi': 2249, 'sunday': 2250, 'grim': 2251, 'blah': 2252, 'hip': 2253, 'advis': 2254, 'aka': 2255, 'junk': 2256, 'irish': 2257, 'rachel': 2258, 'shake': 2259, 'tight': 2260, 'confid': 2261, 'varieti': 2262, 'shut': 2263, 'pro': 2264, 'icon': 2265, 'goal': 2266, 'medic': 2267, 'denni': 2268, 'directli': 2269, 'attach': 2270, 'mexican': 2271, 'sullivan': 2272, 'jaw': 2273, 'sentenc': 2274, 'sarah': 2275, 'duke': 2276, 'vietnam': 2277, 'terrorist': 2278, 'truck': 2279, 'bourn': 2280, 'dean': 2281, 'legendari': 2282, 'courag': 2283, 'prior': 2284, 'breast': 2285, 'yell': 2286, 'split': 2287, 'proceed': 2288, 'entri': 2289, 'un': 2290, 'nose': 2291, 'behav': 2292, 'hong': 2293, 'donald': 2294, 'borrow': 2295, 'buri': 2296, 'concentr': 2297, 'gather': 2298, 'forth': 2299, 'crush': 2300, 'lifetim': 2301, 'confess': 2302, 'stolen': 2303, 'swim': 2304, 'everywher': 2305, 'unconvinc': 2306, 'jerk': 2307, 'deliveri': 2308, 'spite': 2309, 'julia': 2310, 'turkey': 2311, 'pan': 2312, 'california': 2313, 'lip': 2314, 'reward': 2315, 'proud': 2316, 'downright': 2317, 'quest': 2318, 'flight': 2319, 'offici': 2320, 'china': 2321, 'hoffman': 2322, 'freeman': 2323, 'sink': 2324, 'betray': 2325, 'lazi': 2326, 'jail': 2327, 'fabul': 2328, 'worthwhil': 2329, 'notori': 2330, 'inept': 2331, 'sir': 2332, 'fade': 2333, 'encourag': 2334, 'jon': 2335, 'relev': 2336, 'cousin': 2337, 'branagh': 2338, 'bell': 2339, 'bag': 2340, 'susan': 2341, 'lisa': 2342, 'survivor': 2343, 'shower': 2344, 'teeth': 2345, 'retard': 2346, 'imageri': 2347, 'storm': 2348, 'quirki': 2349, 'mexico': 2350, 'summari': 2351, 'toler': 2352, 'hugh': 2353, 'tremend': 2354, 'facial': 2355, 'stab': 2356, 'trade': 2357, 'shark': 2358, 'bride': 2359, 'finger': 2360, 'alright': 2361, 'blown': 2362, 'ha': 2363, 'bitter': 2364, 'von': 2365, 'pose': 2366, 'hyster': 2367, 'bone': 2368, 'cruel': 2369, 'ron': 2370, 'christ': 2371, 'scheme': 2372, 'address': 2373, 'ned': 2374, 'larri': 2375, 'afterward': 2376, 'beg': 2377, 'screw': 2378, 'distinct': 2379, 'feed': 2380, 'pursu': 2381, 'thumb': 2382, 'tour': 2383, 'swear': 2384, 'traci': 2385, 'snake': 2386, 'stomach': 2387, 'chair': 2388, 'obscur': 2389, 'raw': 2390, 'photo': 2391, 'occas': 2392, 'mechan': 2393, 'heavili': 2394, 'gruesom': 2395, 'chain': 2396, 'render': 2397, 'argument': 2398, 'southern': 2399, 'hardi': 2400, 'resist': 2401, 'holiday': 2402, 'necessarili': 2403, 'cabin': 2404, 'sidney': 2405, 'india': 2406, 'indulg': 2407, 'racist': 2408, 'understood': 2409, 'philip': 2410, 'satan': 2411, 'obnoxi': 2412, 'belov': 2413, 'lay': 2414, 'midnight': 2415, 'integr': 2416, 'forgot': 2417, 'fourth': 2418, 'tongu': 2419, 'stalk': 2420, 'outfit': 2421, 'pregnant': 2422, 'ticket': 2423, 'deeper': 2424, '17': 2425, 'slapstick': 2426, 'garden': 2427, 'restor': 2428, 'magazin': 2429, 'inhabit': 2430, 'carol': 2431, 'incid': 2432, 'devot': 2433, 'brad': 2434, 'shoe': 2435, 'lincoln': 2436, 'guarante': 2437, 'elizabeth': 2438, 'maria': 2439, 'anticip': 2440, 'benefit': 2441, 'disbelief': 2442, 'underground': 2443, 'divorc': 2444, 'sandler': 2445, 'lili': 2446, 'cring': 2447, 'greater': 2448, 'explod': 2449, 'creation': 2450, 'amazingli': 2451, 'princip': 2452, 'capit': 2453, 'mildli': 2454, 'slave': 2455, 'bbc': 2456, 'funnier': 2457, 'introduct': 2458, 'extraordinari': 2459, 'halfway': 2460, 'lesli': 2461, 'text': 2462, 'transfer': 2463, 'overwhelm': 2464, 'enhanc': 2465, 'advantag': 2466, 'extent': 2467, 'wreck': 2468, 'punish': 2469, 'tap': 2470, 'lane': 2471, 'jessica': 2472, 'preview': 2473, 'lo': 2474, 'deliber': 2475, 'dynam': 2476, 'east': 2477, 'horrif': 2478, 'plant': 2479, 'error': 2480, 'ensu': 2481, 'appli': 2482, '2000': 2483, 'miscast': 2484, 'vincent': 2485, 'homosexu': 2486, 'basi': 2487, 'vacat': 2488, 'sophist': 2489, 'miller': 2490, 'sleazi': 2491, 'reed': 2492, 'via': 2493, 'uncomfort': 2494, 'bollywood': 2495, 'measur': 2496, 'extend': 2497, 'spoken': 2498, 'mansion': 2499, 'elev': 2500, 'steel': 2501, 'cathol': 2502, 'conceiv': 2503, 'dentist': 2504, 'stanley': 2505, 'alter': 2506, 'fix': 2507, 'assign': 2508, 'goofi': 2509, 'breathtak': 2510, 'beer': 2511, 'mous': 2512, 'daili': 2513, 'savag': 2514, 'overact': 2515, 'melt': 2516, 'blair': 2517, 'hippi': 2518, 'everyday': 2519, 'properli': 2520, 'nowaday': 2521, 'succe': 2522, 'inspector': 2523, 'burt': 2524, 'subsequ': 2525, 'sacrific': 2526, 'oppos': 2527, 'carpent': 2528, 'neck': 2529, 'circl': 2530, 'massacr': 2531, 'laura': 2532, 'block': 2533, 'access': 2534, 'fallen': 2535, 'lesser': 2536, 'christi': 2537, 'pool': 2538, 'mob': 2539, 'portrait': 2540, 'concert': 2541, 'grey': 2542, 'seagal': 2543, 'fay': 2544, 'relax': 2545, 'chees': 2546, 'sinist': 2547, 'usa': 2548, 'competit': 2549, 'jewish': 2550, 'react': 2551, 'jake': 2552, 'isol': 2553, 'nine': 2554, 'nonetheless': 2555, 'suitabl': 2556, '2006': 2557, 'lyric': 2558, 'immens': 2559, 'ironi': 2560, 'stink': 2561, 'appal': 2562, 'creep': 2563, 'chop': 2564, 'spiritu': 2565, 'retir': 2566, 'shirt': 2567, 'nut': 2568, 'navi': 2569, 'reduc': 2570, 'sold': 2571, 'adopt': 2572, 'luci': 2573, 'needless': 2574, 'franchis': 2575, 'spring': 2576, 'showcas': 2577, 'user': 2578, 'rage': 2579, 'asham': 2580, 'digit': 2581, 'nurs': 2582, 'bath': 2583, 'uninspir': 2584, 'jay': 2585, 'bulli': 2586, 'per': 2587, 'zone': 2588, 'stanwyck': 2589, 'amongst': 2590, 'oddli': 2591, 'broadcast': 2592, '2001': 2593, '1940': 2594, 'illustr': 2595, 'upper': 2596, 'laid': 2597, 'sutherland': 2598, 'brando': 2599, 'disguis': 2600, 'throat': 2601, 'stylish': 2602, 'fulfil': 2603, 'aspir': 2604, 'baker': 2605, 'wanna': 2606, 'pride': 2607, 'endear': 2608, 'impli': 2609, 'pound': 2610, 'nobl': 2611, 'thief': 2612, 'em': 2613, 'neighborhood': 2614, 'wwii': 2615, '18': 2616, 'shoulder': 2617, 'bett': 2618, 'shift': 2619, 'cinematograph': 2620, 'bo': 2621, '16': 2622, 'prop': 2623, 'albeit': 2624, 'coher': 2625, 'dinner': 2626, 'distribut': 2627, 'tens': 2628, 'rochest': 2629, 'dawn': 2630, 'diseas': 2631, 'contract': 2632, 'knife': 2633, 'poignant': 2634, 'shout': 2635, 'wash': 2636, 'silenc': 2637, 'forti': 2638, 'function': 2639, 'snow': 2640, 'rebel': 2641, 'matthau': 2642, 'surf': 2643, 'reunion': 2644, 'chuck': 2645, 'duti': 2646, 'instinct': 2647, 'heat': 2648, 'derek': 2649, 'horrend': 2650, 'widmark': 2651, 'silver': 2652, 'henc': 2653, 'eeri': 2654, 'internet': 2655, 'height': 2656, 'mindless': 2657, 'cannib': 2658, 'cancel': 2659, 'proof': 2660, 'elvira': 2661, 'musician': 2662, 'innov': 2663, 'elvi': 2664, 'mill': 2665, 'pie': 2666, 'premier': 2667, 'incoher': 2668, 'greatli': 2669, 'torn': 2670, 'alik': 2671, 'etern': 2672, 'glori': 2673, 'spielberg': 2674, 'absorb': 2675, 'repetit': 2676, 'neat': 2677, 'bang': 2678, 'britain': 2679, 'nelson': 2680, 'fbi': 2681, 'itali': 2682, 'horrifi': 2683, 'wealthi': 2684, 'trite': 2685, 'racism': 2686, 'precis': 2687, 'crisi': 2688, 'lovabl': 2689, 'infam': 2690, 'announc': 2691, 'blank': 2692, 'redempt': 2693, 'burton': 2694, 'homag': 2695, 'diamond': 2696, 'resolut': 2697, 'parallel': 2698, 'flop': 2699, 'ensembl': 2700, 'happili': 2701, 'hammer': 2702, 'wilder': 2703, 'dedic': 2704, 'helen': 2705, 'chaplin': 2706, 'streisand': 2707, 'pat': 2708, 'triumph': 2709, 'st': 2710, 'carter': 2711, 'disagre': 2712, 'broke': 2713, 'mar': 2714, 'conclud': 2715, 'plastic': 2716, 'oil': 2717, 'factori': 2718, 'cube': 2719, 'fighter': 2720, 'chuckl': 2721, 'row': 2722, 'march': 2723, 'own': 2724, 'rocket': 2725, 'climb': 2726, 'vega': 2727, 'weight': 2728, 'bush': 2729, 'wherea': 2730, 'enorm': 2731, 'spare': 2732, 'meaning': 2733, 'boot': 2734, 'luca': 2735, 'lust': 2736, 'unforgett': 2737, 'kurt': 2738, 'mst3k': 2739, 'dane': 2740, 'sensibl': 2741, 'dump': 2742, 'thug': 2743, 'dear': 2744, 'caricatur': 2745, 'difficulti': 2746, 'adequ': 2747, 'arnold': 2748, 'brand': 2749, 'butt': 2750, 'stress': 2751, 'fifti': 2752, 'bobbi': 2753, 'rap': 2754, 'threat': 2755, 'karloff': 2756, 'engin': 2757, 'ralph': 2758, 'fest': 2759, 'secretari': 2760, 'hamlet': 2761, 'elabor': 2762, 'barri': 2763, 'ego': 2764, 'journalist': 2765, 'homeless': 2766, 'arrog': 2767, 'swing': 2768, 'flynn': 2769, 'polish': 2770, 'arrang': 2771, 'resort': 2772, 'fanci': 2773, 'puppet': 2774, 'unbear': 2775, 'tool': 2776, 'conspiraci': 2777, 'grate': 2778, 'float': 2779, 'simpson': 2780, 'induc': 2781, 'spike': 2782, 'basement': 2783, 'pig': 2784, 'guilt': 2785, 'tribut': 2786, 'phillip': 2787, 'choreograph': 2788, 'exercis': 2789, 'muppet': 2790, 'cruis': 2791, 'boll': 2792, '24': 2793, 'ham': 2794, 'layer': 2795, 'puzzl': 2796, 'file': 2797, 'tower': 2798, 'toilet': 2799, 'medium': 2800, 'item': 2801, 'korean': 2802, 'babe': 2803, 'ward': 2804, 'slip': 2805, 'fianc': 2806, 'scarecrow': 2807, 'document': 2808, 'editor': 2809, 'stan': 2810, 'librari': 2811, 'orient': 2812, 'spark': 2813, 'philosoph': 2814, 'transit': 2815, 'denzel': 2816, 'minim': 2817, 'glover': 2818, 'assur': 2819, 'slaughter': 2820, 'larger': 2821, 'territori': 2822, 'portion': 2823, 'persona': 2824, 'catherin': 2825, 'superfici': 2826, 'inexplic': 2827, 'doc': 2828, 'financi': 2829, 'owe': 2830, 'jeremi': 2831, 'boredom': 2832, 'curti': 2833, 'shi': 2834, 'ban': 2835, 'pg': 2836, 'sneak': 2837, 'wolf': 2838, 'jet': 2839, 'walken': 2840, 'dorothi': 2841, 'multi': 2842, 'backdrop': 2843, 'profound': 2844, 'cusack': 2845, 'eleph': 2846, 'metaphor': 2847, 'hudson': 2848, 'whale': 2849, 'ambigu': 2850, 'viru': 2851, 'hack': 2852, 'union': 2853, '2005': 2854, 'birthday': 2855, 'notion': 2856, 'stiff': 2857, 'elsewher': 2858, 'rave': 2859, 'implaus': 2860, 'gadget': 2861, 'ultra': 2862, 'reader': 2863, 'disc': 2864, 'eva': 2865, 'distanc': 2866, 'lloyd': 2867, '1st': 2868, 'deriv': 2869, 'bibl': 2870, 'eastwood': 2871, 'poison': 2872, 'superhero': 2873, 'squar': 2874, 'pad': 2875, 'urg': 2876, 'newspap': 2877, 'afford': 2878, 'hawk': 2879, 'canada': 2880, 'slight': 2881, 'sadist': 2882, 'skit': 2883, 'button': 2884, 'cure': 2885, 'spread': 2886, 'huh': 2887, 'essenc': 2888, 'health': 2889, 'charisma': 2890, 'montag': 2891, 'heston': 2892, 'restaur': 2893, 'drown': 2894, 'lab': 2895, 'invest': 2896, 'dealt': 2897, 'fetch': 2898, 'gradual': 2899, 'estat': 2900, 'muslim': 2901, 'peak': 2902, 'maniac': 2903, 'godfath': 2904, 'scoobi': 2905, 'companion': 2906, 'subtleti': 2907, 'gothic': 2908, 'countless': 2909, 'servant': 2910, 'alli': 2911, 'cup': 2912, 'tea': 2913, 'miik': 2914, 'kane': 2915, 'ritter': 2916, 'electr': 2917, 'charismat': 2918, 'heroic': 2919, 'briefli': 2920, 'iii': 2921, 'elect': 2922, 'salli': 2923, 'nuanc': 2924, 'wannab': 2925, 'tender': 2926, 'resourc': 2927, 'grandmoth': 2928, 'reel': 2929, 'neil': 2930, 'ingredi': 2931, 'bud': 2932, 'toss': 2933, 'admittedli': 2934, 'cole': 2935, 'pauli': 2936, 'mild': 2937, 'stood': 2938, 'poverti': 2939, 'label': 2940, 'dawson': 2941, 'pit': 2942, 'shall': 2943, 'stronger': 2944, 'mafia': 2945, 'gate': 2946, 'carrey': 2947, 'kubrick': 2948, 'reev': 2949, 'punk': 2950, 'cardboard': 2951, 'updat': 2952, 'tag': 2953, 'cox': 2954, 'burst': 2955, 'useless': 2956, 'fond': 2957, 'smash': 2958, 'outcom': 2959, 'terri': 2960, 'ian': 2961, 'smooth': 2962, 'easier': 2963, 'bakshi': 2964, 'assault': 2965, 'astair': 2966, 'resolv': 2967, 'fist': 2968, 'vari': 2969, 'exchang': 2970, '2002': 2971, 'qualifi': 2972, 'samurai': 2973, 'coincid': 2974, 'increasingli': 2975, 'vulner': 2976, 'divers': 2977, 'melodramat': 2978, 'rex': 2979, 'sketch': 2980, 'be': 2981, 'tame': 2982, 'insert': 2983, 'blast': 2984, 'luckili': 2985, 'conveni': 2986, 'suspend': 2987, 'reynold': 2988, 'templ': 2989, 'brillianc': 2990, 'scratch': 2991, 'strictli': 2992, 'seventi': 2993, 'hamilton': 2994, 'meat': 2995, 'ambiti': 2996, 'coach': 2997, 'matthew': 2998, 'gotta': 2999, 'fisher': 3000, 'farm': 3001, 'soprano': 3002, 'jami': 3003, 'walker': 3004, 'pin': 3005, 'nuclear': 3006, 'worthless': 3007, 'spooki': 3008, 'discoveri': 3009, 'struck': 3010, 'eccentr': 3011, 'joey': 3012, 'grasp': 3013, 'timeless': 3014, 'butcher': 3015, 'brosnan': 3016, 'revers': 3017, 'instantli': 3018, 'recreat': 3019, 'monk': 3020, 'empir': 3021, 'kudo': 3022, 'clock': 3023, 'cave': 3024, 'ninja': 3025, 'convolut': 3026, 'closet': 3027, 'fifteen': 3028, 'inconsist': 3029, 'sloppi': 3030, 'eighti': 3031, 'miracl': 3032, 'cliff': 3033, 'norman': 3034, 'partli': 3035, 'importantli': 3036, 'evok': 3037, 'wipe': 3038, 'selfish': 3039, 'mitchel': 3040, 'sidekick': 3041, 'declar': 3042, 'bleak': 3043, 'clown': 3044, 'communist': 3045, 'pal': 3046, 'gray': 3047, 'seller': 3048, '45': 3049, 'cheek': 3050, 'superbl': 3051, 'australia': 3052, 'chew': 3053, 'websit': 3054, 'piano': 3055, 'enthusiast': 3056, 'aforement': 3057, 'flawless': 3058, 'stoog': 3059, 'destin': 3060, 'lifestyl': 3061, 'farc': 3062, 'seed': 3063, 'debat': 3064, 'psychiatrist': 3065, 'ho': 3066, 'regardless': 3067, 'drivel': 3068, 'dire': 3069, 'wrestl': 3070, 'emili': 3071, 'bash': 3072, 'anni': 3073, 'pressur': 3074, 'dash': 3075, 'incompet': 3076, 'abc': 3077, 'splatter': 3078, 'directori': 3079, 'slice': 3080, 'kitchen': 3081, 'wick': 3082, 'akshay': 3083, 'soviet': 3084, 'beaten': 3085, 'blob': 3086, 'cagney': 3087, 'jar': 3088, 'seduc': 3089, 'duo': 3090, 'judi': 3091, 'curios': 3092, 'chapter': 3093, 'suppli': 3094, 'flower': 3095, 'prize': 3096, 'helicopt': 3097, 'pleasantli': 3098, 'glow': 3099, 'distant': 3100, 'mann': 3101, 'boil': 3102, 'ken': 3103, 'cia': 3104, 'increas': 3105, 'dave': 3106, 'cameron': 3107, 'recov': 3108, 'artifici': 3109, 'doo': 3110, 'lou': 3111, 'turner': 3112, 'craig': 3113, 'splendid': 3114, 'francisco': 3115, 'glenn': 3116, 'favour': 3117, 'perri': 3118, 'goldberg': 3119, 'combat': 3120, 'psychot': 3121, 'laurel': 3122, 'web': 3123, 'ranger': 3124, 'ellen': 3125, 'hop': 3126, 'drunken': 3127, 'panic': 3128, 'craven': 3129, 'eleg': 3130, 'slightest': 3131, 'gentl': 3132, 'greek': 3133, 'min': 3134, 'hatr': 3135, 'wizard': 3136, 'alexand': 3137, 'flip': 3138, 'modesti': 3139, 'philosophi': 3140, 'ruth': 3141, 'graduat': 3142, 'shortli': 3143, 'rid': 3144, 'gandhi': 3145, 'plausibl': 3146, 'fx': 3147, 'falk': 3148, '20th': 3149, 'unpleas': 3150, 'tall': 3151, 'futurist': 3152, 'lend': 3153, 'knight': 3154, 'harm': 3155, 'felix': 3156, 'ocean': 3157, 'jealou': 3158, 'legal': 3159, 'dracula': 3160, 'fund': 3161, 'holi': 3162, 'we': 3163, 'preciou': 3164, 'manhattan': 3165, 'nod': 3166, 'digniti': 3167, 'bless': 3168, 'ami': 3169, 'forbidden': 3170, 'thread': 3171, 'giallo': 3172, 'overdon': 3173, 'childish': 3174, 'tank': 3175, 'reviv': 3176, 'explicit': 3177, 'scientif': 3178, 'mock': 3179, '99': 3180, 'fever': 3181, 'elderli': 3182, 'awaken': 3183, 'margaret': 3184, 'broad': 3185, 'yesterday': 3186, 'thick': 3187, 'awe': 3188, 'torment': 3189, 'repeatedli': 3190, 'mel': 3191, 'nerv': 3192, 'eve': 3193, 'pirat': 3194, '2004': 3195, 'verhoeven': 3196, 'unwatch': 3197, 'absenc': 3198, 'bin': 3199, 'griffith': 3200, 'romero': 3201, 'politician': 3202, 'uniform': 3203, 'timothi': 3204, 'roman': 3205, 'eas': 3206, 'ah': 3207, 'lean': 3208, 'ambit': 3209, 'acclaim': 3210, 'custom': 3211, 'automat': 3212, 'publish': 3213, 'rivet': 3214, 'stiller': 3215, 'launch': 3216, 'kay': 3217, 'royal': 3218, 'crook': 3219, 'warren': 3220, 'transport': 3221, 'foul': 3222, 'stinker': 3223, 'tomato': 3224, 'pierc': 3225, 'termin': 3226, 'bathroom': 3227, 'pulp': 3228, 'gabriel': 3229, 'homicid': 3230, 'sunshin': 3231, 'darker': 3232, 'purpl': 3233, 'wallac': 3234, 'phrase': 3235, 'antic': 3236, 'hollow': 3237, 'sixti': 3238, 'brazil': 3239, 'marin': 3240, 'kenneth': 3241, 'album': 3242, 'contrari': 3243, 'saint': 3244, 'q': 3245, 'li': 3246, 'ought': 3247, 'rambo': 3248, 'prom': 3249, 'viciou': 3250, 'pray': 3251, 'awak': 3252, 'revolutionari': 3253, 'juvenil': 3254, 'donna': 3255, 'choreographi': 3256, 'horrid': 3257, 'packag': 3258, 'eyr': 3259, 'evolv': 3260, '2003': 3261, 'coloni': 3262, 'karen': 3263, 'nerd': 3264, 'defi': 3265, 'mummi': 3266, 'option': 3267, 'boast': 3268, 'overr': 3269, 'ireland': 3270, 'conserv': 3271, 'blade': 3272, 'twelv': 3273, 'candid': 3274, 'beatti': 3275, 'dose': 3276, 'stole': 3277, 'mildr': 3278, 'kapoor': 3279, 'ramon': 3280, 'funer': 3281, 'astonish': 3282, 'trio': 3283, 'natali': 3284, 'protest': 3285, 'global': 3286, 'detract': 3287, 'kirk': 3288, 'confirm': 3289, 'flame': 3290, 'fulci': 3291, 'altman': 3292, 'collabor': 3293, 'jazz': 3294, 'leap': 3295, 'destini': 3296, 'spit': 3297, 'delici': 3298, 'racial': 3299, 'mystic': 3300, 'tommi': 3301, 'whip': 3302, 'blake': 3303, 'nicholson': 3304, 'bull': 3305, 'yellow': 3306, 'shade': 3307, 'audio': 3308, 'enterpris': 3309, 'bottl': 3310, 'visibl': 3311, 'merci': 3312, 'bedroom': 3313, 'vivid': 3314, 'neo': 3315, 'staff': 3316, 'todd': 3317, 'inherit': 3318, 'harder': 3319, 'enchant': 3320, 'fonda': 3321, 'threw': 3322, 'reunit': 3323, 'altogeth': 3324, 'adolesc': 3325, 'pseudo': 3326, 'popcorn': 3327, 'meaningless': 3328, 'swedish': 3329, 'lawrenc': 3330, 'suspici': 3331, 'exhibit': 3332, 'fanat': 3333, 'wire': 3334, 'uneven': 3335, 'lemmon': 3336, 'moodi': 3337, 'ruthless': 3338, 'leonard': 3339, 'kennedi': 3340, 'await': 3341, 'bust': 3342, 'decor': 3343, 'voight': 3344, 'reserv': 3345, 'synopsi': 3346, 'respond': 3347, 'tip': 3348, 'madonna': 3349, 'befriend': 3350, 'crocodil': 3351, 'roommat': 3352, 'edi': 3353, 'atlanti': 3354, 'jew': 3355, 'bold': 3356, 'carl': 3357, 'centr': 3358, 'clint': 3359, 'unsettl': 3360, 'dimens': 3361, 'clumsi': 3362, 'holli': 3363, 'bargain': 3364, 'bradi': 3365, 'audit': 3366, 'voyag': 3367, 'rural': 3368, 'ventur': 3369, 'garner': 3370, 'chao': 3371, 'incident': 3372, '2007': 3373, 'abysm': 3374, 'palma': 3375, 'cd': 3376, 'mall': 3377, 'characterist': 3378, 'humili': 3379, 'immigr': 3380, 'echo': 3381, 'cuba': 3382, 'acknowledg': 3383, 'poetic': 3384, 'tiger': 3385, 'troop': 3386, 'cari': 3387, 'elimin': 3388, 'nearbi': 3389, 'neglect': 3390, 'trail': 3391, 'ant': 3392, 'lit': 3393, '2nd': 3394, 'versu': 3395, 'hart': 3396, 'timon': 3397, 'imperson': 3398, 'wealth': 3399, 'daddi': 3400, 'infect': 3401, 'paus': 3402, 'homer': 3403, 'saga': 3404, 'marshal': 3405, 'domest': 3406, 'repuls': 3407, 'solo': 3408, 'celluloid': 3409, 'collaps': 3410, 'prejudic': 3411, 'mistaken': 3412, 'pun': 3413, 'mickey': 3414, 'jeffrey': 3415, 'pant': 3416, 'undoubtedli': 3417, 'apolog': 3418, '1996': 3419, 'inappropri': 3420, 'hbo': 3421, 'cake': 3422, 'sore': 3423, 'chest': 3424, 'gear': 3425, 'coffe': 3426, 'milk': 3427, 'assembl': 3428, 'equip': 3429, 'olivi': 3430, 'harvey': 3431, 'promin': 3432, 'tribe': 3433, 'leon': 3434, 'inan': 3435, 'ginger': 3436, 'interrupt': 3437, 'coat': 3438, 'institut': 3439, 'humbl': 3440, 'colonel': 3441, 'maggi': 3442, 'polanski': 3443, 'colleagu': 3444, 'jenni': 3445, 'brooklyn': 3446, 'trace': 3447, 'pen': 3448, 'pot': 3449, 'airplan': 3450, 'primari': 3451, 'highest': 3452, 'florida': 3453, 'exot': 3454, 'solut': 3455, 'aveng': 3456, 'devast': 3457, 'consum': 3458, 'furthermor': 3459, 'retain': 3460, 'instant': 3461, 'embrac': 3462, 'vulgar': 3463, 'dian': 3464, 'linda': 3465, 'wive': 3466, 'sale': 3467, 'outer': 3468, 'gender': 3469, '1999': 3470, '3rd': 3471, 'illog': 3472, 'bowl': 3473, 'disabl': 3474, 'seduct': 3475, 'ya': 3476, 'dutch': 3477, 'principl': 3478, 'godzilla': 3479, 'smaller': 3480, 'rick': 3481, 'strain': 3482, 'descend': 3483, 'cope': 3484, 'poke': 3485, 'blatant': 3486, 'gloriou': 3487, 'dive': 3488, 'dud': 3489, 'scope': 3490, 'hal': 3491, 'cue': 3492, 'yard': 3493, 'rabbit': 3494, 'bubbl': 3495, 'lol': 3496, 'primarili': 3497, 'mixtur': 3498, 'predecessor': 3499, 'devoid': 3500, 'inferior': 3501, 'secondli': 3502, 'beneath': 3503, 'glamor': 3504, 'vast': 3505, 'gundam': 3506, 'aggress': 3507, 'casual': 3508, 'countrysid': 3509, 'pearl': 3510, 'et': 3511, 'simplist': 3512, 'senseless': 3513, 'z': 3514, 'hideou': 3515, 'breed': 3516, 'disjoint': 3517, 'museum': 3518, 'streep': 3519, 'shelf': 3520, 'april': 3521, 'alert': 3522, 'shirley': 3523, 'invas': 3524, 'talki': 3525, 'arab': 3526, 'grinch': 3527, 'domino': 3528, 'myer': 3529, 'alfr': 3530, 'trademark': 3531, 'garbo': 3532, 'mail': 3533, 'sh': 3534, 'maci': 3535, 'robberi': 3536, 'hardcor': 3537, 'defens': 3538, 'hopeless': 3539, 'loyal': 3540, 'slide': 3541, 'experiment': 3542, 'stir': 3543, 'mayor': 3544, 'khan': 3545, 'stellar': 3546, 'unhappi': 3547, 'obtain': 3548, 'disgrac': 3549, 'applaud': 3550, 'acid': 3551, 'vanish': 3552, 'boom': 3553, 'oz': 3554, 'stack': 3555, 'rendit': 3556, 'illeg': 3557, 'uwe': 3558, 'robinson': 3559, 'amanda': 3560, 'grandfath': 3561, 'blew': 3562, 'diana': 3563, 'tenant': 3564, 'recruit': 3565, 'span': 3566, 'wont': 3567, 'hartley': 3568, 'soccer': 3569, 'rifl': 3570, 'fri': 3571, 'counter': 3572, 'declin': 3573, 'tempt': 3574, 'craze': 3575, 'incomprehens': 3576, 'psychic': 3577, 'spider': 3578, 'dicken': 3579, 'scroog': 3580, 'dismiss': 3581, 'emphasi': 3582, 'berlin': 3583, 'topless': 3584, 'shed': 3585, 'shaw': 3586, 'sympath': 3587, 'ethnic': 3588, 'trashi': 3589, 'woo': 3590, 'revolt': 3591, 'faster': 3592, 'goer': 3593, 'riot': 3594, 'intim': 3595, 'wet': 3596, 'resurrect': 3597, 'bitch': 3598, 'sibl': 3599, 'niro': 3600, 'ration': 3601, 'parad': 3602, 'porno': 3603, 'justin': 3604, 'lumet': 3605, 'hesit': 3606, 'farmer': 3607, 'immort': 3608, 'partial': 3609, 'eager': 3610, 'wheel': 3611, 'dealer': 3612, 'honesti': 3613, 'choru': 3614, 'rider': 3615, 'ensur': 3616, 'feminist': 3617, 'hopper': 3618, 'patriot': 3619, 'slick': 3620, '00': 3621, 'mario': 3622, 'nephew': 3623, 'biographi': 3624, 'enlighten': 3625, 'region': 3626, 'andr': 3627, 'worm': 3628, 'gap': 3629, 'weakest': 3630, 'commend': 3631, 'jonathan': 3632, 'wendi': 3633, 'steam': 3634, 'ballet': 3635, 'unreal': 3636, 'lena': 3637, 'composit': 3638, 'similarli': 3639, 'kingdom': 3640, 'sappi': 3641, 'prequel': 3642, 'blunt': 3643, 'franco': 3644, 'snap': 3645, 'properti': 3646, 'owen': 3647, 'hung': 3648, 'sandra': 3649, 'repress': 3650, 'victori': 3651, 'morri': 3652, 'nostalg': 3653, 'skull': 3654, 'mutant': 3655, 'psychopath': 3656, 'safeti': 3657, 'charlott': 3658, 'util': 3659, 'wore': 3660, 'vice': 3661, 'confin': 3662, 'leo': 3663, 'macarthur': 3664, 'drum': 3665, 'emperor': 3666, 'strand': 3667, 'snl': 3668, 'hyde': 3669, 'despair': 3670, 'pattern': 3671, 'nervou': 3672, 'recycl': 3673, 'whoopi': 3674, 'campbel': 3675, 'farrel': 3676, 'speci': 3677, 'bonu': 3678, 'heartbreak': 3679, 'miseri': 3680, 'rambl': 3681, 'rope': 3682, 'tail': 3683, 'acquir': 3684, '1972': 3685, 'bumbl': 3686, 'compass': 3687, 'valuabl': 3688, 'dalton': 3689, 'dust': 3690, 'thru': 3691, 'kyle': 3692, 'cg': 3693, 'del': 3694, 'exit': 3695, 'tad': 3696, 'latin': 3697, 'drain': 3698, 'deed': 3699, 'rocki': 3700, 'bow': 3701, 'montana': 3702, 'bergman': 3703, 'repli': 3704, 'compens': 3705, 'gal': 3706, 'contempl': 3707, 'mistress': 3708, 'roth': 3709, 'percept': 3710, 'pour': 3711, 'slug': 3712, 'chess': 3713, 'wacki': 3714, 'bleed': 3715, 'airport': 3716, 'rotten': 3717, 'orson': 3718, '35': 3719, 'da': 3720, 'tonight': 3721, 'downhil': 3722, 'romp': 3723, 'gimmick': 3724, 'olli': 3725, 'rapist': 3726, 'radic': 3727, 'oppress': 3728, 'carradin': 3729, 'martian': 3730, 'tackl': 3731, 'stilt': 3732, 'shelley': 3733, 'heal': 3734, 'dazzl': 3735, 'arguabl': 3736, 'paltrow': 3737, 'pursuit': 3738, 'taught': 3739, 'mislead': 3740, 'attorney': 3741, 'slash': 3742, 'melodi': 3743, 'unpredict': 3744, 'champion': 3745, 'tooth': 3746, 'belt': 3747, 'programm': 3748, 'edgar': 3749, 'banal': 3750, 'pervert': 3751, 'pervers': 3752, 'preach': 3753, '1983': 3754, 'arc': 3755, 'raymond': 3756, 'gambl': 3757, 'mesmer': 3758, 'bela': 3759, 'rubi': 3760, 'poem': 3761, 'tiresom': 3762, 'maid': 3763, 'cleverli': 3764, 'employe': 3765, 'chicken': 3766, 'orang': 3767, 'marti': 3768, 'vocal': 3769, 'plight': 3770, 'graham': 3771, 'uplift': 3772, 'dixon': 3773, 'conneri': 3774, 'passeng': 3775, 'virginia': 3776, 'duval': 3777, 'vengeanc': 3778, 'sensat': 3779, 'franki': 3780, 'closest': 3781, 'convincingli': 3782, 'extens': 3783, 'calm': 3784, 'inject': 3785, 'climact': 3786, 'mute': 3787, 'volum': 3788, 'suffic': 3789, 'iran': 3790, 'tube': 3791, 'engross': 3792, 'secretli': 3793, 'giggl': 3794, 'gerard': 3795, 'scottish': 3796, 'paranoia': 3797, 'quarter': 3798, 'pokemon': 3799, 'whine': 3800, 'crystal': 3801, 'bay': 3802, 'monologu': 3803, 'profan': 3804, 'outing': 3805, 'abraham': 3806, 'clone': 3807, '1968': 3808, 'yawn': 3809, 'habit': 3810, 'swallow': 3811, 'numb': 3812, 'sirk': 3813, 'lundgren': 3814, 'amitabh': 3815, 'backward': 3816, 'expand': 3817, 'austen': 3818, 'plod': 3819, 'septemb': 3820, 'im': 3821, 'surpass': 3822, 'nichola': 3823, 'meander': 3824, 'abort': 3825, 'lowest': 3826, 'bend': 3827, 'dispos': 3828, 'fed': 3829, 'trend': 3830, 'ethan': 3831, 'franci': 3832, 'linger': 3833, 'richardson': 3834, 'chicago': 3835, 'earl': 3836, 'frankenstein': 3837, 'poetri': 3838, 'taxi': 3839, 'spock': 3840, 'junior': 3841, 'underst': 3842, 'grotesqu': 3843, 'profess': 3844, 'hum': 3845, 'instrument': 3846, 'eugen': 3847, 'muddl': 3848, 'mundan': 3849, 'compliment': 3850, 'simplic': 3851, 'household': 3852, 'lure': 3853, 'sue': 3854, 'stallon': 3855, 'tourist': 3856, 'spoke': 3857, 'waitress': 3858, 'rubber': 3859, 'literatur': 3860, 'catchi': 3861, 'der': 3862, 'rant': 3863, 'dysfunct': 3864, 'myth': 3865, 'descent': 3866, 'cannon': 3867, 'nostalgia': 3868, 'econom': 3869, 'greedi': 3870, 'phantom': 3871, 'recognis': 3872, 'insur': 3873, 'equival': 3874, 'mankind': 3875, 'lang': 3876, 'flee': 3877, 'damon': 3878, 'recognit': 3879, 'firstli': 3880, 'sissi': 3881, 'dement': 3882, 'coast': 3883, 'hello': 3884, 'irrelev': 3885, 'cent': 3886, 'carel': 3887, 'eaten': 3888, 'mortal': 3889, 'occupi': 3890, 'crucial': 3891, 'june': 3892, 'phoni': 3893, 'furi': 3894, 'bacal': 3895, 'louis': 3896, 'duck': 3897, 'deaf': 3898, 'stale': 3899, 'dictat': 3900, 'map': 3901, 'omen': 3902, 'randi': 3903, 'alongsid': 3904, 'molli': 3905, 'loyalti': 3906, 'dreari': 3907, 'lengthi': 3908, 'distinguish': 3909, 'twilight': 3910, 'wisdom': 3911, 'heel': 3912, 'antwon': 3913, '1973': 3914, 'reign': 3915, 'buffalo': 3916, 'blackmail': 3917, 'likewis': 3918, 'bump': 3919, 'bike': 3920, 'rooney': 3921, 'damm': 3922, 'freez': 3923, 'biko': 3924, 'ashley': 3925, 'newli': 3926, 'drake': 3927, 'grayson': 3928, 'rude': 3929, 'cyborg': 3930, 'labor': 3931, 'daisi': 3932, 'onlin': 3933, 'tunnel': 3934, 'vein': 3935, 'chronicl': 3936, 'ridden': 3937, 'startl': 3938, 'proce': 3939, 'nineti': 3940, 'worn': 3941, 'boxer': 3942, 'interior': 3943, 'incorpor': 3944, 'prey': 3945, 'unorigin': 3946, 'attribut': 3947, 'provoc': 3948, 'baddi': 3949, 'inher': 3950, 'exposur': 3951, 'pink': 3952, 'butler': 3953, 'basketbal': 3954, 'analysi': 3955, 'emphas': 3956, 'approv': 3957, 'keith': 3958, 'barrymor': 3959, 'sailor': 3960, 'stalker': 3961, 'fleet': 3962, 'simmon': 3963, 'predat': 3964, 'improvis': 3965, 'meg': 3966, 'unrel': 3967, 'barrel': 3968, 'julian': 3969, 'bunni': 3970, 'hypnot': 3971, 'nicol': 3972, 'indiffer': 3973, 'undeni': 3974, 'underli': 3975, 'belushi': 3976, 'degrad': 3977, 'drift': 3978, 'substitut': 3979, 'millionair': 3980, 'robbin': 3981, 'er': 3982, 'walsh': 3983, 'condemn': 3984, 'meyer': 3985, 'mighti': 3986, 'carla': 3987, 'mormon': 3988, 'elm': 3989, 'othello': 3990, 'edgi': 3991, 'mtv': 3992, 'warmth': 3993, 'firm': 3994, 'disord': 3995, 'novak': 3996, 'agenda': 3997, 'palac': 3998, 'watson': 3999, 'alarm': 4000, 'hay': 4001, 'exquisit': 4002, 'unawar': 4003, 'lampoon': 4004, 'vital': 4005, 'shove': 4006, 'enthusiasm': 4007, 'nyc': 4008, 'reid': 4009, 'roof': 4010, 'errol': 4011, 'greed': 4012, 'priceless': 4013, 'marion': 4014, 'alison': 4015, '3d': 4016, 'dolph': 4017, 'rukh': 4018, '1933': 4019, 'angela': 4020, 'glanc': 4021, 'nun': 4022, 'campaign': 4023, 'peck': 4024, 'ponder': 4025, 'spain': 4026, 'gestur': 4027, 'minimum': 4028, 'profit': 4029, 'sergeant': 4030, 'preserv': 4031, 'session': 4032, 'petti': 4033, 'eastern': 4034, 'what': 4035, 'cassidi': 4036, 'championship': 4037, 'showdown': 4038, 'drip': 4039, 'peril': 4040, 'valentin': 4041, 'randomli': 4042, 'beatl': 4043, 'pamela': 4044, 'testament': 4045, 'distort': 4046, 'iraq': 4047, 'unleash': 4048, '13th': 4049, 'thompson': 4050, 'orlean': 4051, 'crown': 4052, 'simultan': 4053, 'coup': 4054, 'israel': 4055, 'zizek': 4056, '1984': 4057, 'empathi': 4058, 'brenda': 4059, 'han': 4060, 'realm': 4061, 'perpetu': 4062, 'cream': 4063, 'stroke': 4064, 'din': 4065, 'travesti': 4066, 'unimagin': 4067, 'scotland': 4068, 'rout': 4069, 'stake': 4070, 'crawl': 4071, 'shootout': 4072, 'bro': 4073, 'quinn': 4074, 'crow': 4075, 'calib': 4076, 'cooki': 4077, 'miyazaki': 4078, 'gentleman': 4079, 'reson': 4080, 'exposit': 4081, 'climat': 4082, 'restrain': 4083, 'sabrina': 4084, 'wig': 4085, 'represent': 4086, 'mon': 4087, 'kurosawa': 4088, 'buster': 4089, 'contradict': 4090, 'valley': 4091, 'jan': 4092, 'regist': 4093, 'fido': 4094, 'cloud': 4095, 'traumat': 4096, 'tacki': 4097, 'ustinov': 4098, 'delic': 4099, 'perceiv': 4100, 'ross': 4101, 'distress': 4102, 'wax': 4103, 'sucker': 4104, '1987': 4105, 'mclaglen': 4106, 'josh': 4107, 'absent': 4108, 'pretens': 4109, 'pole': 4110, 'demis': 4111, 'meryl': 4112, 'dana': 4113, 'abomin': 4114, 'painter': 4115, 'compromis': 4116, 'stargat': 4117, 'soderbergh': 4118, 'monoton': 4119, 'shaki': 4120, 'darren': 4121, 'warrant': 4122, '1997': 4123, 'censor': 4124, 'crawford': 4125, 'fuller': 4126, 'greg': 4127, 'derang': 4128, 'shoddi': 4129, 'unsatisfi': 4130, 'geek': 4131, 'spacey': 4132, 'baldwin': 4133, 'businessman': 4134, 'passabl': 4135, 'sammi': 4136, 'femm': 4137, 'unseen': 4138, 'unravel': 4139, 'tarantino': 4140, 'clash': 4141, 'nathan': 4142, 'exclus': 4143, 'primit': 4144, 'deniro': 4145, 'judgment': 4146, 'dee': 4147, 'valid': 4148, 'accuraci': 4149, 'norm': 4150, 'tech': 4151, 'uncov': 4152, 'jewel': 4153, 'fog': 4154, 'fenc': 4155, 'anchor': 4156, 'austin': 4157, 'click': 4158, 'seal': 4159, 'polici': 4160, 'verbal': 4161, 'furiou': 4162, 'expedit': 4163, 'sid': 4164, 'reluct': 4165, 'wholli': 4166, 'correctli': 4167, 'kumar': 4168, '1993': 4169, 'deceas': 4170, 'antonioni': 4171, 'fought': 4172, 'sustain': 4173, '1971': 4174, 'ritual': 4175, 'patienc': 4176, 'mode': 4177, '1995': 4178, '2008': 4179, 'joel': 4180, 'pocket': 4181, 'fart': 4182, 'sunni': 4183, 'nicola': 4184, 'darn': 4185, 'crippl': 4186, 'trait': 4187, 'sheet': 4188, 'hallucin': 4189, 'enforc': 4190, 'tax': 4191, 'wang': 4192, 'murray': 4193, 'behold': 4194, 'conduct': 4195, 'debt': 4196, 'seldom': 4197, 'fabric': 4198, 'wretch': 4199, 'malon': 4200, '3000': 4201, 'roller': 4202, 'bake': 4203, 'unfair': 4204, 'dreck': 4205, 'alec': 4206, 'clerk': 4207, 'shanghai': 4208, 'logan': 4209, 'slam': 4210, 'temper': 4211, 'sand': 4212, 'vanc': 4213, 'grief': 4214, 'tactic': 4215, 'legaci': 4216, 'stark': 4217, 'penni': 4218, 'preposter': 4219, 'schedul': 4220, 'fundament': 4221, 'divid': 4222, 'canyon': 4223, 'exhaust': 4224, 'stuart': 4225, 'robber': 4226, 'critiqu': 4227, 'shell': 4228, 'rita': 4229, 'scriptwrit': 4230, 'outlin': 4231, 'phil': 4232, 'preston': 4233, 'soup': 4234, 'guitar': 4235, 'conscious': 4236, 'despis': 4237, 'pete': 4238, 'bias': 4239, 'bridget': 4240, 'technicolor': 4241, 'helpless': 4242, 'isabel': 4243, 'sweep': 4244, 'squad': 4245, 'runner': 4246, 'clau': 4247, 'alicia': 4248, 'unexpectedli': 4249, 'alley': 4250, 'drove': 4251, 'propos': 4252, 'gregori': 4253, 'restrict': 4254, 'downey': 4255, 'liberti': 4256, 'implic': 4257, 'lacklust': 4258, 'flair': 4259, 'culmin': 4260, 'rear': 4261, 'consciou': 4262, 'invad': 4263, 'newman': 4264, 'rehash': 4265, 'jacket': 4266, 'cigarett': 4267, 'boyl': 4268, 'passag': 4269, 'bloom': 4270, 'palanc': 4271, 'agenc': 4272, 'sentinel': 4273, 'delv': 4274, 'vomit': 4275, 'inabl': 4276, 'sugar': 4277, 'kansa': 4278, 'marc': 4279, 'russia': 4280, 'jodi': 4281, 'sniper': 4282, 'connor': 4283, 'improb': 4284, 'arrow': 4285, 'tripe': 4286, 'delet': 4287, 'mccoy': 4288, 'karl': 4289, 'vet': 4290, 'awhil': 4291, 'tendenc': 4292, 'behaviour': 4293, 'yeti': 4294, 'feat': 4295, 'wrench': 4296, 'foxx': 4297, 'lush': 4298, 'cap': 4299, '22': 4300, 'horn': 4301, 'sharon': 4302, 'aesthet': 4303, 'rod': 4304, 'pale': 4305, 'rampag': 4306, 'asylum': 4307, '1936': 4308, 'bacon': 4309, 'rehears': 4310, 'chainsaw': 4311, 'ladder': 4312, 'kolchak': 4313, 'suffici': 4314, 'wildli': 4315, '1988': 4316, 'globe': 4317, 'rumor': 4318, 'basing': 4319, 'conscienc': 4320, 'scoop': 4321, 'sung': 4322, 'financ': 4323, 'el': 4324, '1920': 4325, 'spice': 4326, 'suspicion': 4327, '19th': 4328, 'rhythm': 4329, 'lurk': 4330, 'prank': 4331, 'hungri': 4332, 'hulk': 4333, 'tomorrow': 4334, 'weav': 4335, 'loneli': 4336, 'wagner': 4337, 'paradis': 4338, 'visitor': 4339, 'amazon': 4340, 'paramount': 4341, '1978': 4342, 'stream': 4343, 'thunderbird': 4344, 'minu': 4345, 'shortcom': 4346, 'elit': 4347, 'coaster': 4348, 'fright': 4349, 'tasteless': 4350, 'filler': 4351, 'hackney': 4352, 'underneath': 4353, 'aristocrat': 4354, 'newcom': 4355, 'immers': 4356, 'quietli': 4357, 'tierney': 4358, 'recogniz': 4359, 'rub': 4360, 'teas': 4361, 'brit': 4362, 'paxton': 4363, 'wwe': 4364, 'literari': 4365, 'naughti': 4366, 'counterpart': 4367, 'ingeni': 4368, 'entranc': 4369, '1939': 4370, 'worship': 4371, 'penn': 4372, 'ram': 4373, 'posey': 4374, 'beverli': 4375, 'choppi': 4376, 'impos': 4377, 'couch': 4378, 'abrupt': 4379, 'curli': 4380, 'grudg': 4381, 'inmat': 4382, 'smell': 4383, 'standout': 4384, 'cancer': 4385, '75': 4386, 'dirt': 4387, 'hopkin': 4388, 'chamberlain': 4389, 'straightforward': 4390, 'atroc': 4391, 'leigh': 4392, 'lectur': 4393, 'springer': 4394, 'secondari': 4395, 'minist': 4396, 'heist': 4397, 'chavez': 4398, '1989': 4399, 'en': 4400, 'bread': 4401, 'iv': 4402, 'heartfelt': 4403, 'yearn': 4404, 'nolan': 4405, 'variat': 4406, 'enthral': 4407, 'moreov': 4408, 'skeptic': 4409, 'transcend': 4410, 'policeman': 4411, 'net': 4412, 'sublim': 4413, 'entitl': 4414, 'convert': 4415, 'clan': 4416, 'misguid': 4417, 'cattl': 4418, 'lindsay': 4419, 'bernard': 4420, '1986': 4421, 'ratso': 4422, 'attenborough': 4423, 'laurenc': 4424, 'geni': 4425, 'duel': 4426, 'injuri': 4427, 'sassi': 4428, 'watcher': 4429, 'esther': 4430, 'missil': 4431, 'nemesi': 4432, 'morbid': 4433, 'quaid': 4434, 'ace': 4435, 'diari': 4436, 'kitti': 4437, 'facil': 4438, 'dont': 4439, 'hopelessli': 4440, 'poe': 4441, 'buzz': 4442, 'setup': 4443, 'moder': 4444, 'reliabl': 4445, 'rosemari': 4446, 'graini': 4447, 'hk': 4448, 'egg': 4449, 'youngest': 4450, 'puppi': 4451, 'vader': 4452, 'obstacl': 4453, 'tyler': 4454, 'bye': 4455, 'characteris': 4456, '1979': 4457, 'unexplain': 4458, 'cruelti': 4459, 'bean': 4460, 'artsi': 4461, 'brood': 4462, 'steadi': 4463, 'kidman': 4464, 'spiral': 4465, 'carlito': 4466, 'out': 4467, 'enabl': 4468, 'grin': 4469, 'mytholog': 4470, 'uncut': 4471, '1969': 4472, 'baffl': 4473, 'hammi': 4474, 'decept': 4475, 'effici': 4476, 'clueless': 4477, 'disastr': 4478, 'underworld': 4479, 'christin': 4480, 'kline': 4481, 'athlet': 4482, 'spontan': 4483, 'heap': 4484, 'bewar': 4485, 'despic': 4486, 'patricia': 4487, 'gina': 4488, 'exterior': 4489, 'acquaint': 4490, 'narrow': 4491, 'sweat': 4492, 'bronson': 4493, 'fuel': 4494, 'weather': 4495, 'niec': 4496, 'oblig': 4497, 'martha': 4498, 'hain': 4499, 'brendan': 4500, 'bounc': 4501, 'gillian': 4502, 'preming': 4503, 'lester': 4504, 'mayhem': 4505, 'loi': 4506, 'rome': 4507, '19': 4508, 'angst': 4509, 'virtu': 4510, 'fontain': 4511, 'outlaw': 4512, 'mermaid': 4513, 'dandi': 4514, 'housewif': 4515, 'harmless': 4516, 'sleepwalk': 4517, '73': 4518, 'candl': 4519, 'astound': 4520, 'sooner': 4521, 'preachi': 4522, 'headach': 4523, 'viewpoint': 4524, 'goof': 4525, 'scar': 4526, 'tick': 4527, 'shatter': 4528, 'circu': 4529, 'renaiss': 4530, 'uh': 4531, 'analyz': 4532, 'enlist': 4533, 'hepburn': 4534, 'insipid': 4535, 'taboo': 4536, 'suprem': 4537, 'dilemma': 4538, 'trigger': 4539, 'biker': 4540, 'loath': 4541, 'injur': 4542, 'dish': 4543, 'foolish': 4544, 'glorifi': 4545, 'immatur': 4546, 'tripl': 4547, 'intric': 4548, 'hostag': 4549, 'redund': 4550, 'whore': 4551, 'ariel': 4552, 'dismal': 4553, 'surgeri': 4554, 'hokey': 4555, 'bent': 4556, 'boston': 4557, 'camcord': 4558, 'stimul': 4559, 'cassavet': 4560, 'salt': 4561, 'slimi': 4562, 'ebert': 4563, 'stair': 4564, 'overlong': 4565, 'oldest': 4566, 'steer': 4567, 'scorses': 4568, 'zoom': 4569, 'fluff': 4570, 'guin': 4571, 'spade': 4572, 'contempt': 4573, 'claustrophob': 4574, 'hooker': 4575, 'filth': 4576, 'macho': 4577, 'amor': 4578, 'corbett': 4579, 'idol': 4580, 'phenomenon': 4581, 'gere': 4582, 'sox': 4583, 'assert': 4584, 'mutual': 4585, 'corman': 4586, 'margin': 4587, 'keen': 4588, 'shield': 4589, 'fascist': 4590, 'flag': 4591, 'strongest': 4592, 'flirt': 4593, 'perman': 4594, 'radiat': 4595, 'flashi': 4596, 'mount': 4597, 'antagonist': 4598, 'spree': 4599, 'muscl': 4600, 'joker': 4601, 'spinal': 4602, 'remad': 4603, 'nolt': 4604, 'conquer': 4605, 'widescreen': 4606, 'shred': 4607, '1976': 4608, 'rhyme': 4609, 'gasp': 4610, 'down': 4611, 'frantic': 4612, 'gabl': 4613, 'harold': 4614, 'obligatori': 4615, 'astronaut': 4616, '1981': 4617, 'trivia': 4618, 'cush': 4619, 'transplant': 4620, 'dwarf': 4621, 'beard': 4622, 'faint': 4623, 'cohen': 4624, 'naschi': 4625, 'cow': 4626, 'proport': 4627, 'preced': 4628, 'schlock': 4629, 'zane': 4630, 'messi': 4631, 'alvin': 4632, 'claud': 4633, 'strive': 4634, 'vaniti': 4635, 'mobil': 4636, 'someday': 4637, '1945': 4638, 'persuad': 4639, 'barn': 4640, 'danish': 4641, '95': 4642, 'instruct': 4643, 'repris': 4644, '28': 4645, 'boob': 4646, 'info': 4647, 'wield': 4648, 'discern': 4649, 'sensual': 4650, 'scandal': 4651, 'bitten': 4652, 'inflict': 4653, 'hara': 4654, 'neurot': 4655, 'interestingli': 4656, 'fishburn': 4657, 'ritchi': 4658, 'carey': 4659, 'resum': 4660, 'aborigin': 4661, 'www': 4662, 'brush': 4663, 'deer': 4664, 'archiv': 4665, 'raj': 4666, 'triangl': 4667, 'off': 4668, 'departur': 4669, 'bachelor': 4670, 'mol': 4671, 'divin': 4672, 'flock': 4673, 'harrison': 4674, 'senior': 4675, 'pacif': 4676, 'undermin': 4677, 'prophet': 4678, 'submit': 4679, 'dame': 4680, 'cb': 4681, 'colin': 4682, 'vibrant': 4683, 'cher': 4684, 'earnest': 4685, 'cycl': 4686, 'parson': 4687, 'hapless': 4688, 'clad': 4689, 'pickford': 4690, 'luka': 4691, 'pixar': 4692, 'heartwarm': 4693, 'banter': 4694, 'loretta': 4695, 'dim': 4696, 'artwork': 4697, 'axe': 4698, 'proclaim': 4699, 'neill': 4700, 'cliffhang': 4701, 'hug': 4702, 'biblic': 4703, 'miracul': 4704, 'helm': 4705, 'ish': 4706, 'rot': 4707, 'traffic': 4708, 'hilar': 4709, 'timberlak': 4710, 'dylan': 4711, 'recit': 4712, 'jade': 4713, 'anton': 4714, 'mobster': 4715, 'fragil': 4716, 'frontier': 4717, 'kathryn': 4718, 'casino': 4719, 'bate': 4720, 'wendigo': 4721, 'carlo': 4722, 'europa': 4723, 'melissa': 4724, 'pc': 4725, 'choke': 4726, 'orphan': 4727, 'vanessa': 4728, 'jo': 4729, 'nope': 4730, 'mason': 4731, 'feast': 4732, 'shepherd': 4733, 'trier': 4734, 'flavor': 4735, 'static': 4736, 'akin': 4737, 'electron': 4738, 'bikini': 4739, 'cerebr': 4740, 'misfortun': 4741, 'bondag': 4742, 'lucil': 4743, 'northern': 4744, 'aris': 4745, 'mathieu': 4746, 'lui': 4747, 'winchest': 4748, 'illus': 4749, 'sicken': 4750, 'seedi': 4751, 'blatantli': 4752, 'milo': 4753, 'holocaust': 4754, 'wardrob': 4755, 'jordan': 4756, 'razor': 4757, 'eli': 4758, 'legitim': 4759, 'token': 4760, 'toronto': 4761, 'vile': 4762, 'estrang': 4763, 'articl': 4764, 'redneck': 4765, 'http': 4766, 'uma': 4767, 'antholog': 4768, 'marlon': 4769, 'breakfast': 4770, 'foil': 4771, 'alexandr': 4772, 'rooki': 4773, 'venom': 4774, 'isra': 4775, 'outdat': 4776, 'feminin': 4777, 'knightley': 4778, 'peer': 4779, 'oppon': 4780, 'styliz': 4781, 'wrestler': 4782, 'gunga': 4783, 'frog': 4784, 'fifth': 4785, 'leather': 4786, 'ceremoni': 4787, 'turd': 4788, 'nightclub': 4789, 'shorter': 4790, 'glare': 4791, 'abund': 4792, 'magician': 4793, 'retriev': 4794, 'huston': 4795, 'disregard': 4796, 'smack': 4797, 'dudley': 4798, 'clinic': 4799, 'swept': 4800, 'comprehend': 4801, 'deem': 4802, 'charlton': 4803, 'boyer': 4804, 'tack': 4805, 'psych': 4806, 'audrey': 4807, 'cartoonish': 4808, 'affleck': 4809, 'howl': 4810, 'highway': 4811, 'gilbert': 4812, 'ideolog': 4813, 'linear': 4814, 'bastard': 4815, 'lifeless': 4816, 'corn': 4817, 'compris': 4818, '1994': 4819, 'lighter': 4820, 'snatch': 4821, 'breakdown': 4822, 'lavish': 4823, 'senat': 4824, 'summar': 4825, 'collector': 4826, 'btw': 4827, 'cemeteri': 4828, 'energet': 4829, 'deliver': 4830, 'sleaz': 4831, '4th': 4832, 'phenomen': 4833, 'spine': 4834, 'greet': 4835, 'toe': 4836, 'monument': 4837, 'spawn': 4838, 'whack': 4839, 'bogu': 4840, 'client': 4841, 'boo': 4842, 'newer': 4843, 'moe': 4844, 'braveheart': 4845, 'conrad': 4846, 'einstein': 4847, 'durat': 4848, 'mitch': 4849, 'chip': 4850, 'potter': 4851, 'plate': 4852, 'cuban': 4853, 'uniformli': 4854, 'salman': 4855, '1991': 4856, 'evolut': 4857, 'goldsworthi': 4858, 'tara': 4859, 'lex': 4860, 'armstrong': 4861, 'mcqueen': 4862, 'cecil': 4863, 'clara': 4864, 'nina': 4865, 'embark': 4866, 'signal': 4867, 'undertak': 4868, 'spectacl': 4869, 'firmli': 4870, 'constitut': 4871, 'belli': 4872, '1974': 4873, 'eleven': 4874, 'kent': 4875, 'liu': 4876, 'appl': 4877, 'neatli': 4878, 'bulk': 4879, 'evelyn': 4880, 'randolph': 4881, 'jedi': 4882, 'fluid': 4883, 'capot': 4884, 'healthi': 4885, 'alleg': 4886, 'pronounc': 4887, 'wtf': 4888, 'judd': 4889, 'gilliam': 4890, 'luxuri': 4891, 'bori': 4892, '1977': 4893, 'ol': 4894, 'outright': 4895, 'jule': 4896, 'ie': 4897, 'inaccuraci': 4898, 'creek': 4899, 'jam': 4900, 'jare': 4901, 'sorrow': 4902, 'undead': 4903, 'replay': 4904, 'occup': 4905, 'kazan': 4906, 'historian': 4907, 'trauma': 4908, 'comprehens': 4909, 'inaccur': 4910, 'curtain': 4911, 'sidewalk': 4912, 'ash': 4913, 'vignett': 4914, 'congratul': 4915, 'unsuspect': 4916, 'paula': 4917, 'aussi': 4918, 'subtli': 4919, 'pioneer': 4920, 'id': 4921, 'rosario': 4922, 'blur': 4923, 'decapit': 4924, 'kiddi': 4925, 'poker': 4926, 'spray': 4927, 'carmen': 4928, 'tokyo': 4929, '1985': 4930, 'pepper': 4931, 'roar': 4932, 'inclus': 4933, 'groan': 4934, 'truman': 4935, 'antonio': 4936, 'fruit': 4937, 'abound': 4938, 'lauren': 4939, 'cape': 4940, 'bait': 4941, 'mum': 4942, 'walt': 4943, 'porter': 4944, 'bsg': 4945, 'goldblum': 4946, 'genet': 4947, 'unattract': 4948, 'vain': 4949, 'forgiven': 4950, 'comb': 4951, 'miami': 4952, 'conan': 4953, 'basket': 4954, 'sacrif': 4955, 'relentless': 4956, 'meal': 4957, 'galaxi': 4958, 'propheci': 4959, 'palm': 4960, 'lanc': 4961, 'knee': 4962, 'miniseri': 4963, 'spill': 4964, 'motorcycl': 4965, 'masterson': 4966, 'frontal': 4967, 'modest': 4968, 'substanti': 4969, 'sophi': 4970, 'assort': 4971, 'dubiou': 4972, 'playboy': 4973, 'verg': 4974, 'cypher': 4975, 'victorian': 4976, 'handicap': 4977, 'ghetto': 4978, 'mice': 4979, 'profil': 4980, 'rapidli': 4981, 'epitom': 4982, 'growth': 4983, 'optimist': 4984, 'drone': 4985, 'bach': 4986, 'bravo': 4987, 'hostil': 4988, 'scarfac': 4989, 'scariest': 4990, 'macabr': 4991, 'omin': 4992, 'hackman': 4993, 'sparkl': 4994, 'casper': 4995, 'orchestr': 4996, 'ingrid': 4997, 'monti': 4998, 'incorrect': 4999}\n"
     ]
    }
   ],
   "source": [
    "# TODO: Use this space to determine the five most frequently appearing words in the training set.\n",
    "print(word_dict)"
   ]
  },
  {
   "cell_type": "markdown",
   "metadata": {},
   "source": [
    "### Save `word_dict`\n",
    "\n",
    "Later on when we construct an endpoint which processes a submitted review we will need to make use of the `word_dict` which we have created. As such, we will save it to a file now for future use."
   ]
  },
  {
   "cell_type": "code",
   "execution_count": 14,
   "metadata": {},
   "outputs": [],
   "source": [
    "data_dir = '../data/pytorch' # The folder we will use for storing data\n",
    "if not os.path.exists(data_dir): # Make sure that the folder exists\n",
    "    os.makedirs(data_dir)"
   ]
  },
  {
   "cell_type": "code",
   "execution_count": 15,
   "metadata": {},
   "outputs": [],
   "source": [
    "with open(os.path.join(data_dir, 'word_dict.pkl'), \"wb\") as f:\n",
    "    pickle.dump(word_dict, f)"
   ]
  },
  {
   "cell_type": "markdown",
   "metadata": {},
   "source": [
    "### Transform the reviews\n",
    "\n",
    "Now that we have our word dictionary which allows us to transform the words appearing in the reviews into integers, it is time to make use of it and convert our reviews to their integer sequence representation, making sure to pad or truncate to a fixed length, which in our case is `500`."
   ]
  },
  {
   "cell_type": "code",
   "execution_count": 16,
   "metadata": {},
   "outputs": [],
   "source": [
    "def convert_and_pad(word_dict, sentence, pad=500):\n",
    "    NOWORD = 0 # We will use 0 to represent the 'no word' category\n",
    "    INFREQ = 1 # and we use 1 to represent the infrequent words, i.e., words not appearing in word_dict\n",
    "    \n",
    "    working_sentence = [NOWORD] * pad\n",
    "    \n",
    "    for word_index, word in enumerate(sentence[:pad]):\n",
    "        if word in word_dict:\n",
    "            working_sentence[word_index] = word_dict[word]\n",
    "        else:\n",
    "            working_sentence[word_index] = INFREQ\n",
    "            \n",
    "    return working_sentence, min(len(sentence), pad)\n",
    "\n",
    "def convert_and_pad_data(word_dict, data, pad=500):\n",
    "    result = []\n",
    "    lengths = []\n",
    "    \n",
    "    for sentence in data:\n",
    "        converted, leng = convert_and_pad(word_dict, sentence, pad)\n",
    "        result.append(converted)\n",
    "        lengths.append(leng)\n",
    "        \n",
    "    return np.array(result), np.array(lengths)"
   ]
  },
  {
   "cell_type": "code",
   "execution_count": 17,
   "metadata": {},
   "outputs": [],
   "source": [
    "train_X, train_X_len = convert_and_pad_data(word_dict, train_X)\n",
    "test_X, test_X_len = convert_and_pad_data(word_dict, test_X)"
   ]
  },
  {
   "cell_type": "markdown",
   "metadata": {},
   "source": [
    "As a quick check to make sure that things are working as intended, check to see what one of the reviews in the training set looks like after having been processeed. Does this look reasonable? What is the length of a review in the training set?"
   ]
  },
  {
   "cell_type": "code",
   "execution_count": 18,
   "metadata": {},
   "outputs": [
    {
     "data": {
      "text/plain": [
       "500"
      ]
     },
     "execution_count": 18,
     "metadata": {},
     "output_type": "execute_result"
    }
   ],
   "source": [
    "# Use this cell to examine one of the processed reviews to make sure everything is working as intended.\n",
    "train_X\n",
    "len(train_X[100])"
   ]
  },
  {
   "cell_type": "markdown",
   "metadata": {},
   "source": [
    "**Question:** In the cells above we use the `preprocess_data` and `convert_and_pad_data` methods to process both the training and testing set. Why or why not might this be a problem?"
   ]
  },
  {
   "cell_type": "markdown",
   "metadata": {},
   "source": [
    "**Answer:** Because we use the same word dict to process both training and testing set."
   ]
  },
  {
   "cell_type": "markdown",
   "metadata": {},
   "source": [
    "## Step 3: Upload the data to S3\n",
    "\n",
    "As in the XGBoost notebook, we will need to upload the training dataset to S3 in order for our training code to access it. For now we will save it locally and we will upload to S3 later on.\n",
    "\n",
    "### Save the processed training dataset locally\n",
    "\n",
    "It is important to note the format of the data that we are saving as we will need to know it when we write the training code. In our case, each row of the dataset has the form `label`, `length`, `review[500]` where `review[500]` is a sequence of `500` integers representing the words in the review."
   ]
  },
  {
   "cell_type": "code",
   "execution_count": 19,
   "metadata": {},
   "outputs": [],
   "source": [
    "import pandas as pd\n",
    "    \n",
    "pd.concat([pd.DataFrame(train_y), pd.DataFrame(train_X_len), pd.DataFrame(train_X)], axis=1) \\\n",
    "        .to_csv(os.path.join(data_dir, 'train.csv'), header=False, index=False)\n",
    "train_y = train_X_len = train_X = None"
   ]
  },
  {
   "cell_type": "markdown",
   "metadata": {},
   "source": [
    "### Uploading the training data\n",
    "\n",
    "\n",
    "Next, we need to upload the training data to the SageMaker default S3 bucket so that we can provide access to it while training our model."
   ]
  },
  {
   "cell_type": "code",
   "execution_count": 20,
   "metadata": {},
   "outputs": [],
   "source": [
    "import sagemaker\n",
    "\n",
    "sagemaker_session = sagemaker.Session()\n",
    "\n",
    "bucket = sagemaker_session.default_bucket()\n",
    "prefix = 'sagemaker/sentiment_rnn'\n",
    "\n",
    "role = sagemaker.get_execution_role()"
   ]
  },
  {
   "cell_type": "code",
   "execution_count": 21,
   "metadata": {},
   "outputs": [],
   "source": [
    "input_data = sagemaker_session.upload_data(path=data_dir, bucket=bucket, key_prefix=prefix)"
   ]
  },
  {
   "cell_type": "markdown",
   "metadata": {},
   "source": [
    "**NOTE:** The cell above uploads the entire contents of our data directory. This includes the `word_dict.pkl` file. This is fortunate as we will need this later on when we create an endpoint that accepts an arbitrary review. For now, we will just take note of the fact that it resides in the data directory (and so also in the S3 training bucket) and that we will need to make sure it gets saved in the model directory."
   ]
  },
  {
   "cell_type": "markdown",
   "metadata": {},
   "source": [
    "## Step 4: Build and Train the PyTorch Model\n",
    "\n",
    "In the XGBoost notebook we discussed what a model is in the SageMaker framework. In particular, a model comprises three objects\n",
    "\n",
    " - Model Artifacts,\n",
    " - Training Code, and\n",
    " - Inference Code,\n",
    " \n",
    "each of which interact with one another. In the XGBoost example we used training and inference code that was provided by Amazon. Here we will still be using containers provided by Amazon with the added benefit of being able to include our own custom code.\n",
    "\n",
    "We will start by implementing our own neural network in PyTorch along with a training script. For the purposes of this project we have provided the necessary model object in the `model.py` file, inside of the `train` folder. You can see the provided implementation by running the cell below."
   ]
  },
  {
   "cell_type": "code",
   "execution_count": 22,
   "metadata": {},
   "outputs": [
    {
     "name": "stdout",
     "output_type": "stream",
     "text": [
      "\u001b[34mimport\u001b[39;49;00m \u001b[04m\u001b[36mtorch\u001b[39;49;00m\u001b[04m\u001b[36m.\u001b[39;49;00m\u001b[04m\u001b[36mnn\u001b[39;49;00m \u001b[34mas\u001b[39;49;00m \u001b[04m\u001b[36mnn\u001b[39;49;00m\r\n",
      "\r\n",
      "\u001b[34mclass\u001b[39;49;00m \u001b[04m\u001b[32mLSTMClassifier\u001b[39;49;00m(nn.Module):\r\n",
      "    \u001b[33m\"\"\"\u001b[39;49;00m\r\n",
      "\u001b[33m    This is the simple RNN model we will be using to perform Sentiment Analysis.\u001b[39;49;00m\r\n",
      "\u001b[33m    \"\"\"\u001b[39;49;00m\r\n",
      "\r\n",
      "    \u001b[34mdef\u001b[39;49;00m \u001b[32m__init__\u001b[39;49;00m(\u001b[36mself\u001b[39;49;00m, embedding_dim, hidden_dim, vocab_size):\r\n",
      "        \u001b[33m\"\"\"\u001b[39;49;00m\r\n",
      "\u001b[33m        Initialize the model by settingg up the various layers.\u001b[39;49;00m\r\n",
      "\u001b[33m        \"\"\"\u001b[39;49;00m\r\n",
      "        \u001b[36msuper\u001b[39;49;00m(LSTMClassifier, \u001b[36mself\u001b[39;49;00m).\u001b[32m__init__\u001b[39;49;00m()\r\n",
      "\r\n",
      "        \u001b[36mself\u001b[39;49;00m.embedding = nn.Embedding(vocab_size, embedding_dim, padding_idx=\u001b[34m0\u001b[39;49;00m)\r\n",
      "        \u001b[36mself\u001b[39;49;00m.lstm = nn.LSTM(embedding_dim, hidden_dim)\r\n",
      "        \u001b[36mself\u001b[39;49;00m.dense = nn.Linear(in_features=hidden_dim, out_features=\u001b[34m1\u001b[39;49;00m)\r\n",
      "        \u001b[36mself\u001b[39;49;00m.sig = nn.Sigmoid()\r\n",
      "        \r\n",
      "        \u001b[36mself\u001b[39;49;00m.word_dict = \u001b[34mNone\u001b[39;49;00m\r\n",
      "\r\n",
      "    \u001b[34mdef\u001b[39;49;00m \u001b[32mforward\u001b[39;49;00m(\u001b[36mself\u001b[39;49;00m, x):\r\n",
      "        \u001b[33m\"\"\"\u001b[39;49;00m\r\n",
      "\u001b[33m        Perform a forward pass of our model on some input.\u001b[39;49;00m\r\n",
      "\u001b[33m        \"\"\"\u001b[39;49;00m\r\n",
      "        x = x.t()\r\n",
      "        lengths = x[\u001b[34m0\u001b[39;49;00m,:]\r\n",
      "        reviews = x[\u001b[34m1\u001b[39;49;00m:,:]\r\n",
      "        embeds = \u001b[36mself\u001b[39;49;00m.embedding(reviews)\r\n",
      "        lstm_out, _ = \u001b[36mself\u001b[39;49;00m.lstm(embeds)\r\n",
      "        out = \u001b[36mself\u001b[39;49;00m.dense(lstm_out)\r\n",
      "        out = out[lengths - \u001b[34m1\u001b[39;49;00m, \u001b[36mrange\u001b[39;49;00m(\u001b[36mlen\u001b[39;49;00m(lengths))]\r\n",
      "        \u001b[34mreturn\u001b[39;49;00m \u001b[36mself\u001b[39;49;00m.sig(out.squeeze())\r\n"
     ]
    }
   ],
   "source": [
    "!pygmentize train/model.py"
   ]
  },
  {
   "cell_type": "markdown",
   "metadata": {},
   "source": [
    "The important takeaway from the implementation provided is that there are three parameters that we may wish to tweak to improve the performance of our model. These are the embedding dimension, the hidden dimension and the size of the vocabulary. We will likely want to make these parameters configurable in the training script so that if we wish to modify them we do not need to modify the script itself. We will see how to do this later on. To start we will write some of the training code in the notebook so that we can more easily diagnose any issues that arise.\n",
    "\n",
    "First we will load a small portion of the training data set to use as a sample. It would be very time consuming to try and train the model completely in the notebook as we do not have access to a gpu and the compute instance that we are using is not particularly powerful. However, we can work on a small bit of the data to get a feel for how our training script is behaving."
   ]
  },
  {
   "cell_type": "code",
   "execution_count": 23,
   "metadata": {},
   "outputs": [],
   "source": [
    "import torch\n",
    "import torch.utils.data\n",
    "\n",
    "# Read in only the first 250 rows\n",
    "train_sample = pd.read_csv(os.path.join(data_dir, 'train.csv'), header=None, names=None, nrows=250)\n",
    "\n",
    "# Turn the input pandas dataframe into tensors\n",
    "train_sample_y = torch.from_numpy(train_sample[[0]].values).float().squeeze()\n",
    "train_sample_X = torch.from_numpy(train_sample.drop([0], axis=1).values).long()\n",
    "\n",
    "# Build the dataset\n",
    "train_sample_ds = torch.utils.data.TensorDataset(train_sample_X, train_sample_y)\n",
    "# Build the dataloader\n",
    "train_sample_dl = torch.utils.data.DataLoader(train_sample_ds, batch_size=50)"
   ]
  },
  {
   "cell_type": "markdown",
   "metadata": {},
   "source": [
    "### (TODO) Writing the training method\n",
    "\n",
    "Next we need to write the training code itself. This should be very similar to training methods that you have written before to train PyTorch models. We will leave any difficult aspects such as model saving / loading and parameter loading until a little later."
   ]
  },
  {
   "cell_type": "code",
   "execution_count": 24,
   "metadata": {},
   "outputs": [],
   "source": [
    "def train(model, train_loader, epochs, optimizer, loss_fn, device):\n",
    "    for epoch in range(1, epochs + 1):\n",
    "        model.train()\n",
    "        total_loss = 0\n",
    "        for batch in train_loader:         \n",
    "            batch_X, batch_y = batch\n",
    "            \n",
    "            batch_X = batch_X.to(device)\n",
    "            batch_y = batch_y.to(device)\n",
    "            \n",
    "            # TODO: Complete this train method to train the model provided.\n",
    "            optimizer.zero_grad()\n",
    "            pred = model.forward(batch_X)\n",
    "            loss = loss_fn(pred,batch_y)\n",
    "            loss.backward()\n",
    "            optimizer.step()\n",
    "            \n",
    "            \n",
    "            \n",
    "            total_loss += loss.data.item()\n",
    "        print(\"Epoch: {}, BCELoss: {}\".format(epoch, total_loss / len(train_loader)))"
   ]
  },
  {
   "cell_type": "markdown",
   "metadata": {},
   "source": [
    "Supposing we have the training method above, we will test that it is working by writing a bit of code in the notebook that executes our training method on the small sample training set that we loaded earlier. The reason for doing this in the notebook is so that we have an opportunity to fix any errors that arise early when they are easier to diagnose."
   ]
  },
  {
   "cell_type": "code",
   "execution_count": 25,
   "metadata": {},
   "outputs": [
    {
     "name": "stdout",
     "output_type": "stream",
     "text": [
      "Epoch: 1, BCELoss: 0.6925475716590881\n",
      "Epoch: 2, BCELoss: 0.6807537078857422\n",
      "Epoch: 3, BCELoss: 0.6705129981040955\n",
      "Epoch: 4, BCELoss: 0.6595606446266175\n",
      "Epoch: 5, BCELoss: 0.646644937992096\n"
     ]
    }
   ],
   "source": [
    "import torch.optim as optim\n",
    "from train.model import LSTMClassifier\n",
    "\n",
    "device = torch.device(\"cuda\" if torch.cuda.is_available() else \"cpu\")\n",
    "model = LSTMClassifier(32, 100, 5000).to(device)\n",
    "optimizer = optim.Adam(model.parameters())\n",
    "loss_fn = torch.nn.BCELoss()\n",
    "\n",
    "train(model, train_sample_dl, 5, optimizer, loss_fn, device)"
   ]
  },
  {
   "cell_type": "markdown",
   "metadata": {},
   "source": [
    "In order to construct a PyTorch model using SageMaker we must provide SageMaker with a training script. We may optionally include a directory which will be copied to the container and from which our training code will be run. When the training container is executed it will check the uploaded directory (if there is one) for a `requirements.txt` file and install any required Python libraries, after which the training script will be run."
   ]
  },
  {
   "cell_type": "markdown",
   "metadata": {},
   "source": [
    "### (TODO) Training the model\n",
    "\n",
    "When a PyTorch model is constructed in SageMaker, an entry point must be specified. This is the Python file which will be executed when the model is trained. Inside of the `train` directory is a file called `train.py` which has been provided and which contains most of the necessary code to train our model. The only thing that is missing is the implementation of the `train()` method which you wrote earlier in this notebook.\n",
    "\n",
    "**TODO**: Copy the `train()` method written above and paste it into the `train/train.py` file where required.\n",
    "\n",
    "The way that SageMaker passes hyperparameters to the training script is by way of arguments. These arguments can then be parsed and used in the training script. To see how this is done take a look at the provided `train/train.py` file."
   ]
  },
  {
   "cell_type": "code",
   "execution_count": 26,
   "metadata": {},
   "outputs": [],
   "source": [
    "from sagemaker.pytorch import PyTorch\n",
    "\n",
    "estimator = PyTorch(entry_point=\"train.py\",\n",
    "                    source_dir=\"train\",\n",
    "                    role=role,\n",
    "                    framework_version='0.4.0',\n",
    "                    train_instance_count=1,\n",
    "                    train_instance_type='ml.p2.xlarge',\n",
    "                    hyperparameters={\n",
    "                        'epochs': 10,\n",
    "                        'hidden_dim': 200,\n",
    "                    })"
   ]
  },
  {
   "cell_type": "code",
   "execution_count": 27,
   "metadata": {},
   "outputs": [
    {
     "name": "stderr",
     "output_type": "stream",
     "text": [
      "'create_image_uri' will be deprecated in favor of 'ImageURIProvider' class in SageMaker Python SDK v2.\n",
      "'s3_input' class will be renamed to 'TrainingInput' in SageMaker Python SDK v2.\n",
      "'create_image_uri' will be deprecated in favor of 'ImageURIProvider' class in SageMaker Python SDK v2.\n"
     ]
    },
    {
     "name": "stdout",
     "output_type": "stream",
     "text": [
      "2020-07-22 11:04:01 Starting - Starting the training job...\n",
      "2020-07-22 11:04:04 Starting - Launching requested ML instances......\n",
      "2020-07-22 11:05:19 Starting - Preparing the instances for training.........\n",
      "2020-07-22 11:06:39 Downloading - Downloading input data...\n",
      "2020-07-22 11:07:16 Training - Downloading the training image...\n",
      "2020-07-22 11:07:47 Training - Training image download completed. Training in progress.\u001b[34mbash: cannot set terminal process group (-1): Inappropriate ioctl for device\u001b[0m\n",
      "\u001b[34mbash: no job control in this shell\u001b[0m\n",
      "\u001b[34m2020-07-22 11:07:47,978 sagemaker-containers INFO     Imported framework sagemaker_pytorch_container.training\u001b[0m\n",
      "\u001b[34m2020-07-22 11:07:48,003 sagemaker_pytorch_container.training INFO     Block until all host DNS lookups succeed.\u001b[0m\n",
      "\u001b[34m2020-07-22 11:07:54,222 sagemaker_pytorch_container.training INFO     Invoking user training script.\u001b[0m\n",
      "\u001b[34m2020-07-22 11:08:54,573 sagemaker-containers INFO     Module train does not provide a setup.py. \u001b[0m\n",
      "\u001b[34mGenerating setup.py\u001b[0m\n",
      "\u001b[34m2020-07-22 11:08:54,573 sagemaker-containers INFO     Generating setup.cfg\u001b[0m\n",
      "\u001b[34m2020-07-22 11:08:54,573 sagemaker-containers INFO     Generating MANIFEST.in\u001b[0m\n",
      "\u001b[34m2020-07-22 11:08:54,573 sagemaker-containers INFO     Installing module with the following command:\u001b[0m\n",
      "\u001b[34m/usr/bin/python -m pip install -U . -r requirements.txt\u001b[0m\n",
      "\u001b[34mProcessing /opt/ml/code\u001b[0m\n",
      "\u001b[34mCollecting pandas (from -r requirements.txt (line 1))\u001b[0m\n",
      "\u001b[34m  Downloading https://files.pythonhosted.org/packages/74/24/0cdbf8907e1e3bc5a8da03345c23cbed7044330bb8f73bb12e711a640a00/pandas-0.24.2-cp35-cp35m-manylinux1_x86_64.whl (10.0MB)\u001b[0m\n",
      "\u001b[34mCollecting numpy (from -r requirements.txt (line 2))\n",
      "  Downloading https://files.pythonhosted.org/packages/b5/36/88723426b4ff576809fec7d73594fe17a35c27f8d01f93637637a29ae25b/numpy-1.18.5-cp35-cp35m-manylinux1_x86_64.whl (19.9MB)\u001b[0m\n",
      "\u001b[34mCollecting nltk (from -r requirements.txt (line 3))\n",
      "  Downloading https://files.pythonhosted.org/packages/92/75/ce35194d8e3022203cca0d2f896dbb88689f9b3fce8e9f9cff942913519d/nltk-3.5.zip (1.4MB)\u001b[0m\n",
      "\u001b[34mCollecting beautifulsoup4 (from -r requirements.txt (line 4))\n",
      "  Downloading https://files.pythonhosted.org/packages/66/25/ff030e2437265616a1e9b25ccc864e0371a0bc3adb7c5a404fd661c6f4f6/beautifulsoup4-4.9.1-py3-none-any.whl (115kB)\u001b[0m\n",
      "\u001b[34mCollecting html5lib (from -r requirements.txt (line 5))\n",
      "  Downloading https://files.pythonhosted.org/packages/6c/dd/a834df6482147d48e225a49515aabc28974ad5a4ca3215c18a882565b028/html5lib-1.1-py2.py3-none-any.whl (112kB)\u001b[0m\n",
      "\u001b[34mRequirement already satisfied, skipping upgrade: python-dateutil>=2.5.0 in /usr/local/lib/python3.5/dist-packages (from pandas->-r requirements.txt (line 1)) (2.7.5)\u001b[0m\n",
      "\u001b[34mCollecting pytz>=2011k (from pandas->-r requirements.txt (line 1))\u001b[0m\n",
      "\u001b[34m  Downloading https://files.pythonhosted.org/packages/4f/a4/879454d49688e2fad93e59d7d4efda580b783c745fd2ec2a3adf87b0808d/pytz-2020.1-py2.py3-none-any.whl (510kB)\u001b[0m\n",
      "\u001b[34mRequirement already satisfied, skipping upgrade: click in /usr/local/lib/python3.5/dist-packages (from nltk->-r requirements.txt (line 3)) (7.0)\u001b[0m\n",
      "\u001b[34mCollecting joblib (from nltk->-r requirements.txt (line 3))\n",
      "  Downloading https://files.pythonhosted.org/packages/28/5c/cf6a2b65a321c4a209efcdf64c2689efae2cb62661f8f6f4bb28547cf1bf/joblib-0.14.1-py2.py3-none-any.whl (294kB)\u001b[0m\n",
      "\u001b[34mCollecting regex (from nltk->-r requirements.txt (line 3))\n",
      "  Downloading https://files.pythonhosted.org/packages/09/c3/ddaa87500f31ed86290e3d014c0302a51fde28d7139eda0b5f33733726db/regex-2020.7.14.tar.gz (690kB)\u001b[0m\n",
      "\u001b[34mCollecting tqdm (from nltk->-r requirements.txt (line 3))\n",
      "  Downloading https://files.pythonhosted.org/packages/af/88/7b0ea5fa8192d1733dea459a9e3059afc87819cb4072c43263f2ec7ab768/tqdm-4.48.0-py2.py3-none-any.whl (67kB)\u001b[0m\n",
      "\u001b[34mCollecting soupsieve>1.2 (from beautifulsoup4->-r requirements.txt (line 4))\n",
      "  Downloading https://files.pythonhosted.org/packages/6f/8f/457f4a5390eeae1cc3aeab89deb7724c965be841ffca6cfca9197482e470/soupsieve-2.0.1-py3-none-any.whl\u001b[0m\n",
      "\u001b[34mCollecting webencodings (from html5lib->-r requirements.txt (line 5))\n",
      "  Downloading https://files.pythonhosted.org/packages/f4/24/2a3e3df732393fed8b3ebf2ec078f05546de641fe1b667ee316ec1dcf3b7/webencodings-0.5.1-py2.py3-none-any.whl\u001b[0m\n",
      "\u001b[34mRequirement already satisfied, skipping upgrade: six>=1.9 in /usr/local/lib/python3.5/dist-packages (from html5lib->-r requirements.txt (line 5)) (1.11.0)\u001b[0m\n",
      "\u001b[34mBuilding wheels for collected packages: nltk, train, regex\n",
      "  Running setup.py bdist_wheel for nltk: started\u001b[0m\n",
      "\u001b[34m  Running setup.py bdist_wheel for nltk: finished with status 'done'\n",
      "  Stored in directory: /root/.cache/pip/wheels/ae/8c/3f/b1fe0ba04555b08b57ab52ab7f86023639a526d8bc8d384306\n",
      "  Running setup.py bdist_wheel for train: started\n",
      "  Running setup.py bdist_wheel for train: finished with status 'done'\n",
      "  Stored in directory: /tmp/pip-ephem-wheel-cache-x0eyvt_t/wheels/35/24/16/37574d11bf9bde50616c67372a334f94fa8356bc7164af8ca3\n",
      "  Running setup.py bdist_wheel for regex: started\u001b[0m\n",
      "\u001b[34m  Running setup.py bdist_wheel for regex: finished with status 'done'\n",
      "  Stored in directory: /root/.cache/pip/wheels/53/55/dc/e17fa4568958f4c53be34b65e474a1327b64641f65df379ec3\u001b[0m\n",
      "\u001b[34mSuccessfully built nltk train regex\u001b[0m\n",
      "\u001b[34mInstalling collected packages: numpy, pytz, pandas, joblib, regex, tqdm, nltk, soupsieve, beautifulsoup4, webencodings, html5lib, train\n",
      "  Found existing installation: numpy 1.15.4\n",
      "    Uninstalling numpy-1.15.4:\u001b[0m\n",
      "\u001b[34m      Successfully uninstalled numpy-1.15.4\u001b[0m\n",
      "\u001b[34mSuccessfully installed beautifulsoup4-4.9.1 html5lib-1.1 joblib-0.14.1 nltk-3.5 numpy-1.18.5 pandas-0.24.2 pytz-2020.1 regex-2020.7.14 soupsieve-2.0.1 tqdm-4.48.0 train-1.0.0 webencodings-0.5.1\u001b[0m\n",
      "\u001b[34mYou are using pip version 18.1, however version 20.2b1 is available.\u001b[0m\n",
      "\u001b[34mYou should consider upgrading via the 'pip install --upgrade pip' command.\u001b[0m\n",
      "\u001b[34m2020-07-22 11:09:17,151 sagemaker-containers INFO     Invoking user script\n",
      "\u001b[0m\n",
      "\u001b[34mTraining Env:\n",
      "\u001b[0m\n",
      "\u001b[34m{\n",
      "    \"module_name\": \"train\",\n",
      "    \"current_host\": \"algo-1\",\n",
      "    \"model_dir\": \"/opt/ml/model\",\n",
      "    \"output_intermediate_dir\": \"/opt/ml/output/intermediate\",\n",
      "    \"hyperparameters\": {\n",
      "        \"epochs\": 10,\n",
      "        \"hidden_dim\": 200\n",
      "    },\n",
      "    \"input_dir\": \"/opt/ml/input\",\n",
      "    \"additional_framework_parameters\": {},\n",
      "    \"channel_input_dirs\": {\n",
      "        \"training\": \"/opt/ml/input/data/training\"\n",
      "    },\n",
      "    \"framework_module\": \"sagemaker_pytorch_container.training:main\",\n",
      "    \"output_dir\": \"/opt/ml/output\",\n",
      "    \"hosts\": [\n",
      "        \"algo-1\"\n",
      "    ],\n",
      "    \"network_interface_name\": \"eth0\",\n",
      "    \"user_entry_point\": \"train.py\",\n",
      "    \"job_name\": \"sagemaker-pytorch-2020-07-22-11-04-01-195\",\n",
      "    \"module_dir\": \"s3://sagemaker-us-east-1-235294566476/sagemaker-pytorch-2020-07-22-11-04-01-195/source/sourcedir.tar.gz\",\n",
      "    \"input_config_dir\": \"/opt/ml/input/config\",\n",
      "    \"input_data_config\": {\n",
      "        \"training\": {\n",
      "            \"RecordWrapperType\": \"None\",\n",
      "            \"TrainingInputMode\": \"File\",\n",
      "            \"S3DistributionType\": \"FullyReplicated\"\n",
      "        }\n",
      "    },\n",
      "    \"num_cpus\": 4,\n",
      "    \"output_data_dir\": \"/opt/ml/output/data\",\n",
      "    \"resource_config\": {\n",
      "        \"hosts\": [\n",
      "            \"algo-1\"\n",
      "        ],\n",
      "        \"current_host\": \"algo-1\",\n",
      "        \"network_interface_name\": \"eth0\"\n",
      "    },\n",
      "    \"num_gpus\": 1,\n",
      "    \"log_level\": 20\u001b[0m\n",
      "\u001b[34m}\n",
      "\u001b[0m\n",
      "\u001b[34mEnvironment variables:\n",
      "\u001b[0m\n",
      "\u001b[34mSM_MODULE_DIR=s3://sagemaker-us-east-1-235294566476/sagemaker-pytorch-2020-07-22-11-04-01-195/source/sourcedir.tar.gz\u001b[0m\n",
      "\u001b[34mSM_OUTPUT_INTERMEDIATE_DIR=/opt/ml/output/intermediate\u001b[0m\n",
      "\u001b[34mSM_MODEL_DIR=/opt/ml/model\u001b[0m\n",
      "\u001b[34mSM_NUM_CPUS=4\u001b[0m\n",
      "\u001b[34mSM_HOSTS=[\"algo-1\"]\u001b[0m\n",
      "\u001b[34mSM_NUM_GPUS=1\u001b[0m\n",
      "\u001b[34mSM_OUTPUT_DIR=/opt/ml/output\u001b[0m\n",
      "\u001b[34mSM_FRAMEWORK_MODULE=sagemaker_pytorch_container.training:main\u001b[0m\n",
      "\u001b[34mSM_USER_ENTRY_POINT=train.py\u001b[0m\n",
      "\u001b[34mSM_INPUT_CONFIG_DIR=/opt/ml/input/config\u001b[0m\n",
      "\u001b[34mSM_NETWORK_INTERFACE_NAME=eth0\u001b[0m\n",
      "\u001b[34mSM_USER_ARGS=[\"--epochs\",\"10\",\"--hidden_dim\",\"200\"]\u001b[0m\n",
      "\u001b[34mSM_HP_EPOCHS=10\u001b[0m\n",
      "\u001b[34mSM_CURRENT_HOST=algo-1\u001b[0m\n",
      "\u001b[34mSM_CHANNEL_TRAINING=/opt/ml/input/data/training\u001b[0m\n",
      "\u001b[34mSM_MODULE_NAME=train\u001b[0m\n",
      "\u001b[34mSM_TRAINING_ENV={\"additional_framework_parameters\":{},\"channel_input_dirs\":{\"training\":\"/opt/ml/input/data/training\"},\"current_host\":\"algo-1\",\"framework_module\":\"sagemaker_pytorch_container.training:main\",\"hosts\":[\"algo-1\"],\"hyperparameters\":{\"epochs\":10,\"hidden_dim\":200},\"input_config_dir\":\"/opt/ml/input/config\",\"input_data_config\":{\"training\":{\"RecordWrapperType\":\"None\",\"S3DistributionType\":\"FullyReplicated\",\"TrainingInputMode\":\"File\"}},\"input_dir\":\"/opt/ml/input\",\"job_name\":\"sagemaker-pytorch-2020-07-22-11-04-01-195\",\"log_level\":20,\"model_dir\":\"/opt/ml/model\",\"module_dir\":\"s3://sagemaker-us-east-1-235294566476/sagemaker-pytorch-2020-07-22-11-04-01-195/source/sourcedir.tar.gz\",\"module_name\":\"train\",\"network_interface_name\":\"eth0\",\"num_cpus\":4,\"num_gpus\":1,\"output_data_dir\":\"/opt/ml/output/data\",\"output_dir\":\"/opt/ml/output\",\"output_intermediate_dir\":\"/opt/ml/output/intermediate\",\"resource_config\":{\"current_host\":\"algo-1\",\"hosts\":[\"algo-1\"],\"network_interface_name\":\"eth0\"},\"user_entry_point\":\"train.py\"}\u001b[0m\n",
      "\u001b[34mSM_LOG_LEVEL=20\u001b[0m\n",
      "\u001b[34mPYTHONPATH=/usr/local/bin:/usr/lib/python35.zip:/usr/lib/python3.5:/usr/lib/python3.5/plat-x86_64-linux-gnu:/usr/lib/python3.5/lib-dynload:/usr/local/lib/python3.5/dist-packages:/usr/lib/python3/dist-packages\u001b[0m\n",
      "\u001b[34mSM_FRAMEWORK_PARAMS={}\u001b[0m\n",
      "\u001b[34mSM_INPUT_DATA_CONFIG={\"training\":{\"RecordWrapperType\":\"None\",\"S3DistributionType\":\"FullyReplicated\",\"TrainingInputMode\":\"File\"}}\u001b[0m\n",
      "\u001b[34mSM_HPS={\"epochs\":10,\"hidden_dim\":200}\u001b[0m\n",
      "\u001b[34mSM_CHANNELS=[\"training\"]\u001b[0m\n",
      "\u001b[34mSM_HP_HIDDEN_DIM=200\u001b[0m\n",
      "\u001b[34mSM_OUTPUT_DATA_DIR=/opt/ml/output/data\u001b[0m\n",
      "\u001b[34mSM_RESOURCE_CONFIG={\"current_host\":\"algo-1\",\"hosts\":[\"algo-1\"],\"network_interface_name\":\"eth0\"}\u001b[0m\n",
      "\u001b[34mSM_INPUT_DIR=/opt/ml/input\n",
      "\u001b[0m\n",
      "\u001b[34mInvoking script with the following command:\n",
      "\u001b[0m\n",
      "\u001b[34m/usr/bin/python -m train --epochs 10 --hidden_dim 200\n",
      "\n",
      "\u001b[0m\n",
      "\u001b[34mUsing device cuda.\u001b[0m\n",
      "\u001b[34mGet train data loader.\u001b[0m\n"
     ]
    },
    {
     "name": "stdout",
     "output_type": "stream",
     "text": [
      "\u001b[34mModel loaded with embedding_dim 32, hidden_dim 200, vocab_size 5000.\u001b[0m\n",
      "\u001b[34mEpoch: 1, BCELoss: 0.675263663943933\u001b[0m\n",
      "\u001b[34mEpoch: 2, BCELoss: 0.5923083096134419\u001b[0m\n",
      "\u001b[34mEpoch: 3, BCELoss: 0.5040724983020705\u001b[0m\n",
      "\u001b[34mEpoch: 4, BCELoss: 0.45216671909604755\u001b[0m\n",
      "\u001b[34mEpoch: 5, BCELoss: 0.4444801266096076\u001b[0m\n",
      "\u001b[34mEpoch: 6, BCELoss: 0.37053448205091516\u001b[0m\n",
      "\u001b[34mEpoch: 7, BCELoss: 0.33241888090055816\u001b[0m\n",
      "\u001b[34mEpoch: 8, BCELoss: 0.31462991663387846\u001b[0m\n",
      "\u001b[34mEpoch: 9, BCELoss: 0.30899870760586795\u001b[0m\n",
      "\u001b[34mEpoch: 10, BCELoss: 0.2894911826873312\u001b[0m\n",
      "\u001b[34m2020-07-22 11:12:16,825 sagemaker-containers INFO     Reporting training SUCCESS\u001b[0m\n",
      "\n",
      "2020-07-22 11:12:57 Uploading - Uploading generated training model\n",
      "2020-07-22 11:12:57 Completed - Training job completed\n",
      "Training seconds: 378\n",
      "Billable seconds: 378\n"
     ]
    }
   ],
   "source": [
    "estimator.fit({'training': input_data})"
   ]
  },
  {
   "cell_type": "markdown",
   "metadata": {},
   "source": [
    "## Step 5: Testing the model\n",
    "\n",
    "As mentioned at the top of this notebook, we will be testing this model by first deploying it and then sending the testing data to the deployed endpoint. We will do this so that we can make sure that the deployed model is working correctly.\n",
    "\n",
    "## Step 6: Deploy the model for testing\n",
    "\n",
    "Now that we have trained our model, we would like to test it to see how it performs. Currently our model takes input of the form `review_length, review[500]` where `review[500]` is a sequence of `500` integers which describe the words present in the review, encoded using `word_dict`. Fortunately for us, SageMaker provides built-in inference code for models with simple inputs such as this.\n",
    "\n",
    "There is one thing that we need to provide, however, and that is a function which loads the saved model. This function must be called `model_fn()` and takes as its only parameter a path to the directory where the model artifacts are stored. This function must also be present in the python file which we specified as the entry point. In our case the model loading function has been provided and so no changes need to be made.\n",
    "\n",
    "**NOTE**: When the built-in inference code is run it must import the `model_fn()` method from the `train.py` file. This is why the training code is wrapped in a main guard ( ie, `if __name__ == '__main__':` )\n",
    "\n",
    "Since we don't need to change anything in the code that was uploaded during training, we can simply deploy the current model as-is.\n",
    "\n",
    "**NOTE:** When deploying a model you are asking SageMaker to launch an compute instance that will wait for data to be sent to it. As a result, this compute instance will continue to run until *you* shut it down. This is important to know since the cost of a deployed endpoint depends on how long it has been running for.\n",
    "\n",
    "In other words **If you are no longer using a deployed endpoint, shut it down!**\n",
    "\n",
    "**TODO:** Deploy the trained model."
   ]
  },
  {
   "cell_type": "code",
   "execution_count": 28,
   "metadata": {},
   "outputs": [
    {
     "name": "stderr",
     "output_type": "stream",
     "text": [
      "Parameter image will be renamed to image_uri in SageMaker Python SDK v2.\n",
      "'create_image_uri' will be deprecated in favor of 'ImageURIProvider' class in SageMaker Python SDK v2.\n"
     ]
    },
    {
     "name": "stdout",
     "output_type": "stream",
     "text": [
      "-----------------!"
     ]
    }
   ],
   "source": [
    "# TODO: Deploy the trained model\n",
    "predictor = estimator.deploy(initial_instance_count = 1, instance_type = 'ml.m4.xlarge')"
   ]
  },
  {
   "cell_type": "markdown",
   "metadata": {},
   "source": [
    "## Step 7 - Use the model for testing\n",
    "\n",
    "Once deployed, we can read in the test data and send it off to our deployed model to get some results. Once we collect all of the results we can determine how accurate our model is."
   ]
  },
  {
   "cell_type": "code",
   "execution_count": 29,
   "metadata": {},
   "outputs": [],
   "source": [
    "test_X = pd.concat([pd.DataFrame(test_X_len), pd.DataFrame(test_X)], axis=1)"
   ]
  },
  {
   "cell_type": "code",
   "execution_count": 30,
   "metadata": {},
   "outputs": [],
   "source": [
    "# We split the data into chunks and send each chunk seperately, accumulating the results.\n",
    "\n",
    "def predict(data, rows=512):\n",
    "    split_array = np.array_split(data, int(data.shape[0] / float(rows) + 1))\n",
    "    predictions = np.array([])\n",
    "    for array in split_array:\n",
    "        predictions = np.append(predictions, predictor.predict(array))\n",
    "    \n",
    "    return predictions"
   ]
  },
  {
   "cell_type": "code",
   "execution_count": 31,
   "metadata": {},
   "outputs": [],
   "source": [
    "predictions = predict(test_X.values)\n",
    "predictions = [round(num) for num in predictions]"
   ]
  },
  {
   "cell_type": "code",
   "execution_count": 32,
   "metadata": {},
   "outputs": [
    {
     "data": {
      "text/plain": [
       "0.85512"
      ]
     },
     "execution_count": 32,
     "metadata": {},
     "output_type": "execute_result"
    }
   ],
   "source": [
    "from sklearn.metrics import accuracy_score\n",
    "accuracy_score(test_y, predictions)"
   ]
  },
  {
   "cell_type": "markdown",
   "metadata": {},
   "source": [
    "**Question:** How does this model compare to the XGBoost model you created earlier? Why might these two models perform differently on this dataset? Which do *you* think is better for sentiment analysis?"
   ]
  },
  {
   "cell_type": "markdown",
   "metadata": {},
   "source": [
    "**Answer:**XGBoost model gets a bit higher score than NN model.I think NN model is better, one reason is that NN model can take all words into account, also NN model is more adaptable when we need to process large amount of data."
   ]
  },
  {
   "cell_type": "markdown",
   "metadata": {},
   "source": [
    "### (TODO) More testing\n",
    "\n",
    "We now have a trained model which has been deployed and which we can send processed reviews to and which returns the predicted sentiment. However, ultimately we would like to be able to send our model an unprocessed review. That is, we would like to send the review itself as a string. For example, suppose we wish to send the following review to our model."
   ]
  },
  {
   "cell_type": "code",
   "execution_count": 33,
   "metadata": {},
   "outputs": [],
   "source": [
    "test_review = 'The simplest pleasures in life are the best, and this film is one of them. Combining a rather basic storyline of love and adventure this movie transcends the usual weekend fair with wit and unmitigated charm.'"
   ]
  },
  {
   "cell_type": "code",
   "execution_count": 34,
   "metadata": {},
   "outputs": [
    {
     "data": {
      "text/plain": [
       "[array([[  28,   60,  774, ...,    0,    0,    0],\n",
       "        [  65,   29,    2, ...,    0,    0,    0],\n",
       "        [  55,  606,  118, ...,    0,    0,    0],\n",
       "        ...,\n",
       "        [  70,    4,  212, ...,    0,    0,    0],\n",
       "        [  31, 1625,    7, ...,    0,    0,    0],\n",
       "        [  81,  173,  580, ...,    0,    0,    0]]),\n",
       " array([[ 118,  110,  833, ...,    0,    0,    0],\n",
       "        [  85, 3003, 4297, ...,    0,    0,    0],\n",
       "        [ 235,  137,  111, ...,    0,    0,    0],\n",
       "        ...,\n",
       "        [  85,  688,   10, ...,    0,    0,    0],\n",
       "        [ 171,   91,  170, ...,    0,    0,    0],\n",
       "        [ 164,    1,    1, ...,    0,    0,    0]]),\n",
       " array([[ 127,  596,    9, ...,    0,    0,    0],\n",
       "        [  83,  559,  249, ...,    0,    0,    0],\n",
       "        [ 187,    1,    1, ...,    0,    0,    0],\n",
       "        ...,\n",
       "        [  51,  566,    3, ...,    0,    0,    0],\n",
       "        [ 207,  178,   37, ...,    0,    0,    0],\n",
       "        [  57, 1403, 4920, ...,    0,    0,    0]]),\n",
       " array([[  90,  390,  361, ...,    0,    0,    0],\n",
       "        [  84,    1,  241, ...,    0,    0,    0],\n",
       "        [  71,  406,   23, ...,    0,    0,    0],\n",
       "        ...,\n",
       "        [  87, 1824, 1131, ...,    0,    0,    0],\n",
       "        [ 500,  284,  573, ..., 2379,  736,  612],\n",
       "        [  66,   28,    1, ...,    0,    0,    0]]),\n",
       " array([[  53,  225,   37, ...,    0,    0,    0],\n",
       "        [ 106,  213,  154, ...,    0,    0,    0],\n",
       "        [ 500,   15, 2524, ...,    2,  740,  184],\n",
       "        ...,\n",
       "        [ 168,  904, 1436, ...,    0,    0,    0],\n",
       "        [  78,    1,  214, ...,    0,    0,    0],\n",
       "        [  57,    1,  487, ...,    0,    0,    0]]),\n",
       " array([[  61,  151,  174, ...,    0,    0,    0],\n",
       "        [  56,    4,    2, ...,    0,    0,    0],\n",
       "        [  48,  275,    2, ...,    0,    0,    0],\n",
       "        ...,\n",
       "        [ 136, 2827,   12, ...,    0,    0,    0],\n",
       "        [  43,  111,    2, ...,    0,    0,    0],\n",
       "        [ 156,   79, 3080, ...,    0,    0,    0]]),\n",
       " array([[  69,  290,  722, ...,    0,    0,    0],\n",
       "        [ 298,  132, 1420, ...,    0,    0,    0],\n",
       "        [  78,  147,  581, ...,    0,    0,    0],\n",
       "        ...,\n",
       "        [  61,  546,  762, ...,    0,    0,    0],\n",
       "        [  90,  452,  711, ...,    0,    0,    0],\n",
       "        [ 115,  118,    2, ...,    0,    0,    0]]),\n",
       " array([[ 192, 2121,  822, ...,    0,    0,    0],\n",
       "        [ 145,  111,   64, ...,    0,    0,    0],\n",
       "        [ 237,  317,  287, ...,    0,    0,    0],\n",
       "        ...,\n",
       "        [  29,  181,   56, ...,    0,    0,    0],\n",
       "        [  33,    2,   26, ...,    0,    0,    0],\n",
       "        [  69,  700,  587, ...,    0,    0,    0]]),\n",
       " array([[  97, 3554,   88, ...,    0,    0,    0],\n",
       "        [ 126,    5,  161, ...,    0,    0,    0],\n",
       "        [ 155,    2,   87, ...,    0,    0,    0],\n",
       "        ...,\n",
       "        [ 146,  394,   62, ...,    0,    0,    0],\n",
       "        [  97,  908,   52, ...,    0,    0,    0],\n",
       "        [  82, 1190,  106, ...,    0,    0,    0]]),\n",
       " array([[  56,  274, 1772, ...,    0,    0,    0],\n",
       "        [  52,  494,  244, ...,    0,    0,    0],\n",
       "        [ 112,  542,    1, ...,    0,    0,    0],\n",
       "        ...,\n",
       "        [  94,   58,   28, ...,    0,    0,    0],\n",
       "        [ 144,  130, 3418, ...,    0,    0,    0],\n",
       "        [  63, 4378,  984, ...,    0,    0,    0]]),\n",
       " array([[  23,   69,  752, ...,    0,    0,    0],\n",
       "        [ 197,   28,  165, ...,    0,    0,    0],\n",
       "        [  89,    5,    2, ...,    0,    0,    0],\n",
       "        ...,\n",
       "        [  94,    7,    2, ...,    0,    0,    0],\n",
       "        [  55,  372, 1082, ...,    0,    0,    0],\n",
       "        [ 171,  332,  155, ...,    0,    0,    0]]),\n",
       " array([[  76,  304, 2023, ...,    0,    0,    0],\n",
       "        [ 131,    1,   87, ...,    0,    0,    0],\n",
       "        [  68,  135,    2, ...,    0,    0,    0],\n",
       "        ...,\n",
       "        [ 126,  869,    3, ...,    0,    0,    0],\n",
       "        [  38,   47, 2473, ...,    0,    0,    0],\n",
       "        [ 490,   48,  114, ...,    0,    0,    0]]),\n",
       " array([[ 444, 2316,  253, ...,    0,    0,    0],\n",
       "        [ 196,    1,  433, ...,    0,    0,    0],\n",
       "        [  25, 2190, 4049, ...,    0,    0,    0],\n",
       "        ...,\n",
       "        [ 109, 1628,  788, ...,    0,    0,    0],\n",
       "        [ 261,    5,    1, ...,    0,    0,    0],\n",
       "        [  61,   37,    2, ...,    0,    0,    0]]),\n",
       " array([[202, 877, 329, ...,   0,   0,   0],\n",
       "        [479,   1, 488, ...,   0,   0,   0],\n",
       "        [171,   1, 845, ...,   0,   0,   0],\n",
       "        ...,\n",
       "        [ 50, 116, 287, ...,   0,   0,   0],\n",
       "        [152,  99,  17, ...,   0,   0,   0],\n",
       "        [136, 618, 252, ...,   0,   0,   0]]),\n",
       " array([[  92,    5,   30, ...,    0,    0,    0],\n",
       "        [  68, 1696, 1119, ...,    0,    0,    0],\n",
       "        [  91,  332,   46, ...,    0,    0,    0],\n",
       "        ...,\n",
       "        [  56,   79,    2, ...,    0,    0,    0],\n",
       "        [  60,  116,  425, ...,    0,    0,    0],\n",
       "        [  62, 2023,  629, ...,    0,    0,    0]]),\n",
       " array([[ 110,    4, 1980, ...,    0,    0,    0],\n",
       "        [ 124, 1722, 1740, ...,    0,    0,    0],\n",
       "        [  95,   28,   50, ...,    0,    0,    0],\n",
       "        ...,\n",
       "        [  76, 3207,   90, ...,    0,    0,    0],\n",
       "        [  60,    1,    1, ...,    0,    0,    0],\n",
       "        [ 115,  850,  847, ...,    0,    0,    0]]),\n",
       " array([[ 137,  500,  135, ...,    0,    0,    0],\n",
       "        [  82,   80,    1, ...,    0,    0,    0],\n",
       "        [ 162, 2478,   16, ...,    0,    0,    0],\n",
       "        ...,\n",
       "        [  94,  184, 1372, ...,    0,    0,    0],\n",
       "        [ 175,    5, 1774, ...,    0,    0,    0],\n",
       "        [ 141,  397,  980, ...,    0,    0,    0]]),\n",
       " array([[  18,    2,  116, ...,    0,    0,    0],\n",
       "        [ 106,  761,  275, ...,    0,    0,    0],\n",
       "        [  73,  573,    1, ...,    0,    0,    0],\n",
       "        ...,\n",
       "        [ 159,   52,   89, ...,    0,    0,    0],\n",
       "        [ 126,  123, 2528, ...,    0,    0,    0],\n",
       "        [ 273,  332,    1, ...,    0,    0,    0]]),\n",
       " array([[ 250, 4043,  143, ...,    0,    0,    0],\n",
       "        [  97,  357,  615, ...,    0,    0,    0],\n",
       "        [ 182, 1669,    1, ...,    0,    0,    0],\n",
       "        ...,\n",
       "        [ 151,  507,  263, ...,    0,    0,    0],\n",
       "        [ 292,  839,  605, ...,    0,    0,    0],\n",
       "        [  97,   16,  356, ...,    0,    0,    0]]),\n",
       " array([[  35,    4,   53, ...,    0,    0,    0],\n",
       "        [  72,   38,   28, ...,    0,    0,    0],\n",
       "        [ 152, 1479,    1, ...,    0,    0,    0],\n",
       "        ...,\n",
       "        [ 462, 1267,    1, ...,    0,    0,    0],\n",
       "        [ 153,   25, 3681, ...,    0,    0,    0],\n",
       "        [  84,    1,  793, ...,    0,    0,    0]]),\n",
       " array([[ 111,   92,  312, ...,    0,    0,    0],\n",
       "        [  60,    4,    7, ...,    0,    0,    0],\n",
       "        [  51,   30,    1, ...,    0,    0,    0],\n",
       "        ...,\n",
       "        [ 104,   13, 3517, ...,    0,    0,    0],\n",
       "        [ 211, 2712,  877, ...,    0,    0,    0],\n",
       "        [ 103,  546,   28, ...,    0,    0,    0]]),\n",
       " array([[  86,  135,  432, ...,    0,    0,    0],\n",
       "        [  35,  222,  267, ...,    0,    0,    0],\n",
       "        [ 141,  261,    1, ...,    0,    0,    0],\n",
       "        ...,\n",
       "        [  66,   55,  108, ...,    0,    0,    0],\n",
       "        [ 155, 3126,    3, ...,    0,    0,    0],\n",
       "        [ 181,    4,    1, ...,    0,    0,    0]]),\n",
       " array([[ 167,  782, 4647, ...,    0,    0,    0],\n",
       "        [  71,   28,  135, ...,    0,    0,    0],\n",
       "        [ 198,  238,  318, ...,    0,    0,    0],\n",
       "        ...,\n",
       "        [  71,  290,  283, ...,    0,    0,    0],\n",
       "        [  73,  592, 1766, ...,    0,    0,    0],\n",
       "        [  49,   38,   52, ...,    0,    0,    0]]),\n",
       " array([[179,   4, 174, ...,   0,   0,   0],\n",
       "        [ 68,  37,  23, ...,   0,   0,   0],\n",
       "        [ 65, 659,   3, ...,   0,   0,   0],\n",
       "        ...,\n",
       "        [114,   1, 780, ...,   0,   0,   0],\n",
       "        [ 40,  16,  37, ...,   0,   0,   0],\n",
       "        [ 69, 750,  55, ...,   0,   0,   0]]),\n",
       " array([[  89,  275,  251, ...,    0,    0,    0],\n",
       "        [  63,  729, 3553, ...,    0,    0,    0],\n",
       "        [  55,    1, 1332, ...,    0,    0,    0],\n",
       "        ...,\n",
       "        [  72, 1663,    2, ...,    0,    0,    0],\n",
       "        [ 212,  393, 2046, ...,    0,    0,    0],\n",
       "        [ 240,  227, 1915, ...,    0,    0,    0]]),\n",
       " array([[  95,   23, 3667, ...,    0,    0,    0],\n",
       "        [  30,  114,    6, ...,    0,    0,    0],\n",
       "        [  67,   28,   99, ...,    0,    0,    0],\n",
       "        ...,\n",
       "        [  62,    2,  861, ...,    0,    0,    0],\n",
       "        [  57,   74,  178, ...,    0,    0,    0],\n",
       "        [  61,  281,  304, ...,    0,    0,    0]]),\n",
       " array([[  27,    7,   35, ...,    0,    0,    0],\n",
       "        [ 170,  366, 1320, ...,    0,    0,    0],\n",
       "        [ 114,   52,    1, ...,    0,    0,    0],\n",
       "        ...,\n",
       "        [  88,   21,   77, ...,    0,    0,    0],\n",
       "        [  73,   79,  241, ...,    0,    0,    0],\n",
       "        [ 142,    1,  227, ...,    0,    0,    0]]),\n",
       " array([[ 117,  142,  879, ...,    0,    0,    0],\n",
       "        [  61,  649,   77, ...,    0,    0,    0],\n",
       "        [ 120, 3320, 3521, ...,    0,    0,    0],\n",
       "        ...,\n",
       "        [ 241,   42,   76, ...,    0,    0,    0],\n",
       "        [  54,   12,   70, ...,    0,    0,    0],\n",
       "        [  66,   77,    3, ...,    0,    0,    0]]),\n",
       " array([[  85,  651, 4095, ...,    0,    0,    0],\n",
       "        [  17,  184,    2, ...,    0,    0,    0],\n",
       "        [  69,  304, 2023, ...,    0,    0,    0],\n",
       "        ...,\n",
       "        [ 111,  452,   83, ...,    0,    0,    0],\n",
       "        [ 244,   47,  335, ...,    0,    0,    0],\n",
       "        [ 165,  269,  382, ...,    0,    0,    0]]),\n",
       " array([[  84,  184,  178, ...,    0,    0,    0],\n",
       "        [ 216,   19,    2, ...,    0,    0,    0],\n",
       "        [ 288,  249, 3665, ...,    0,    0,    0],\n",
       "        ...,\n",
       "        [ 107,    4,  134, ...,    0,    0,    0],\n",
       "        [  78,  287, 4397, ...,    0,    0,    0],\n",
       "        [ 187,   67, 2585, ...,    0,    0,    0]]),\n",
       " array([[ 145,   56,  707, ...,    0,    0,    0],\n",
       "        [  68,    2,   16, ...,    0,    0,    0],\n",
       "        [  62,   38,    7, ...,    0,    0,    0],\n",
       "        ...,\n",
       "        [ 141,  505, 1009, ...,    0,    0,    0],\n",
       "        [  41,  673,    3, ...,    0,    0,    0],\n",
       "        [ 391,  309,    3, ...,    0,    0,    0]]),\n",
       " array([[  59,  413, 2119, ...,    0,    0,    0],\n",
       "        [ 232, 1510,    1, ...,    0,    0,    0],\n",
       "        [  86,    2,    1, ...,    0,    0,    0],\n",
       "        ...,\n",
       "        [  54,  788,   34, ...,    0,    0,    0],\n",
       "        [  62,   15,    5, ...,    0,    0,    0],\n",
       "        [ 106,  108,   12, ...,    0,    0,    0]]),\n",
       " array([[ 155, 1863, 2537, ...,    0,    0,    0],\n",
       "        [ 133,  149,   21, ...,    0,    0,    0],\n",
       "        [ 109,   28,    2, ...,    0,    0,    0],\n",
       "        ...,\n",
       "        [ 212,    2,   16, ...,    0,    0,    0],\n",
       "        [  55,  347,   62, ...,    0,    0,    0],\n",
       "        [ 134, 1339,  222, ...,    0,    0,    0]]),\n",
       " array([[  72,  364,    2, ...,    0,    0,    0],\n",
       "        [  69,  355, 1147, ...,    0,    0,    0],\n",
       "        [ 149,  281,    3, ...,    0,    0,    0],\n",
       "        ...,\n",
       "        [ 214,    5,  667, ...,    0,    0,    0],\n",
       "        [  57,    4,   20, ...,    0,    0,    0],\n",
       "        [  81,  254,   11, ...,    0,    0,    0]]),\n",
       " array([[ 136,  821, 2203, ...,    0,    0,    0],\n",
       "        [  39,  779,  117, ...,    0,    0,    0],\n",
       "        [  77,  549,  279, ...,    0,    0,    0],\n",
       "        ...,\n",
       "        [  63,  184,    2, ...,    0,    0,    0],\n",
       "        [  77,    1,    1, ...,    0,    0,    0],\n",
       "        [ 122,   30,    1, ...,    0,    0,    0]]),\n",
       " array([[ 113, 1766, 1121, ...,    0,    0,    0],\n",
       "        [  67,   30, 1525, ...,    0,    0,    0],\n",
       "        [  95,  300,  130, ...,    0,    0,    0],\n",
       "        ...,\n",
       "        [ 155,  275,    1, ...,    0,    0,    0],\n",
       "        [  78,  174, 2789, ...,    0,    0,    0],\n",
       "        [  60,  410,  107, ...,    0,    0,    0]]),\n",
       " array([[  22,  108,  282, ...,    0,    0,    0],\n",
       "        [  52,    1,    4, ...,    0,    0,    0],\n",
       "        [  72,  123, 1077, ...,    0,    0,    0],\n",
       "        ...,\n",
       "        [  36, 3722,    1, ...,    0,    0,    0],\n",
       "        [ 193, 1719,    1, ...,    0,    0,    0],\n",
       "        [ 160,   26,  123, ...,    0,    0,    0]]),\n",
       " array([[ 103, 1019, 1016, ...,    0,    0,    0],\n",
       "        [  30,  154,   49, ...,    0,    0,    0],\n",
       "        [ 125,   29,    2, ...,    0,    0,    0],\n",
       "        ...,\n",
       "        [  55,    1,  276, ...,    0,    0,    0],\n",
       "        [ 121,  710, 3614, ...,    0,    0,    0],\n",
       "        [  70,  443,    2, ...,    0,    0,    0]]),\n",
       " array([[  21,  546,   37, ...,    0,    0,    0],\n",
       "        [ 157,  165,   87, ...,    0,    0,    0],\n",
       "        [ 104,  403,   47, ...,    0,    0,    0],\n",
       "        ...,\n",
       "        [  96,  457,    2, ...,    0,    0,    0],\n",
       "        [ 183,   28, 4623, ...,    0,    0,    0],\n",
       "        [  86,  325, 3340, ...,    0,    0,    0]]),\n",
       " array([[ 195, 4339,  178, ...,    0,    0,    0],\n",
       "        [  41, 4829,  164, ...,    0,    0,    0],\n",
       "        [  70,  479, 1285, ...,    0,    0,    0],\n",
       "        ...,\n",
       "        [ 151,  718,    1, ...,    0,    0,    0],\n",
       "        [  81,    2,    7, ...,    0,    0,    0],\n",
       "        [  58,    1,  121, ...,    0,    0,    0]]),\n",
       " array([[  98, 2478,    8, ...,    0,    0,    0],\n",
       "        [  58,    4,   53, ...,    0,    0,    0],\n",
       "        [  63,  184,  580, ...,    0,    0,    0],\n",
       "        ...,\n",
       "        [ 500,    1, 3716, ...,   23,   19, 1502],\n",
       "        [ 170, 2041, 1540, ...,    0,    0,    0],\n",
       "        [  71,    1,    2, ...,    0,    0,    0]]),\n",
       " array([[ 220,   46,   83, ...,    0,    0,    0],\n",
       "        [  43,  546, 2006, ...,    0,    0,    0],\n",
       "        [  60, 1980, 1072, ...,    0,    0,    0],\n",
       "        ...,\n",
       "        [ 244,    1,  535, ...,    0,    0,    0],\n",
       "        [  79,  123, 1334, ...,    0,    0,    0],\n",
       "        [  37,   11,    1, ...,    0,    0,    0]]),\n",
       " array([[  78,    2, 2650, ...,    0,    0,    0],\n",
       "        [  34,  121,  822, ...,    0,    0,    0],\n",
       "        [  19, 1022,  822, ...,    0,    0,    0],\n",
       "        ...,\n",
       "        [  63,  135,    2, ...,    0,    0,    0],\n",
       "        [ 188,    1, 1000, ...,    0,    0,    0],\n",
       "        [  80,   25,    2, ...,    0,    0,    0]]),\n",
       " array([[ 66,  28,   2, ...,   0,   0,   0],\n",
       "        [ 31,  16,  77, ...,   0,   0,   0],\n",
       "        [ 88,  93, 182, ...,   0,   0,   0],\n",
       "        ...,\n",
       "        [132,   1, 136, ...,   0,   0,   0],\n",
       "        [ 41,  26,  73, ...,   0,   0,   0],\n",
       "        [ 69, 886,   2, ...,   0,   0,   0]]),\n",
       " array([[  85,   47, 3914, ...,    0,    0,    0],\n",
       "        [ 177,  183,    1, ...,    0,    0,    0],\n",
       "        [  72,    1,    3, ...,    0,    0,    0],\n",
       "        ...,\n",
       "        [  61,    3,   46, ...,    0,    0,    0],\n",
       "        [ 122,  718,    2, ...,    0,    0,    0],\n",
       "        [  21,  297, 4403, ...,    0,    0,    0]]),\n",
       " array([[  72, 3162, 4626, ...,    0,    0,    0],\n",
       "        [  70,  401,  158, ...,    0,    0,    0],\n",
       "        [  79,    2,   68, ...,    0,    0,    0],\n",
       "        ...,\n",
       "        [ 154,    2,  300, ...,    0,    0,    0],\n",
       "        [ 420,   15, 2123, ...,    0,    0,    0],\n",
       "        [  95,  625,    1, ...,    0,    0,    0]]),\n",
       " array([[  94,   29,  295, ...,    0,    0,    0],\n",
       "        [  28,  208,  143, ...,    0,    0,    0],\n",
       "        [  68,    2,  143, ...,    0,    0,    0],\n",
       "        ...,\n",
       "        [ 220,    1,  273, ...,    0,    0,    0],\n",
       "        [ 135,  354,    1, ...,    0,    0,    0],\n",
       "        [  58, 1491,   33, ...,    0,    0,    0]]),\n",
       " array([[  77,    1, 1277, ...,    0,    0,    0],\n",
       "        [ 251,  554,    1, ...,    0,    0,    0],\n",
       "        [  47, 2370, 1817, ...,    0,    0,    0],\n",
       "        ...,\n",
       "        [  77,    7, 2820, ...,    0,    0,    0],\n",
       "        [  90,    2,  285, ...,    0,    0,    0],\n",
       "        [ 226, 3821,  116, ...,    0,    0,    0]]),\n",
       " array([[ 101, 1190,  135, ...,    0,    0,    0],\n",
       "        [  72,  171, 4645, ...,    0,    0,    0],\n",
       "        [  61, 1154,    3, ...,    0,    0,    0],\n",
       "        ...,\n",
       "        [ 158,    1,  208, ...,    0,    0,    0],\n",
       "        [  58,    3,  397, ...,    0,    0,    0],\n",
       "        [ 217,    1, 2971, ...,    0,    0,    0]])]"
      ]
     },
     "execution_count": 34,
     "metadata": {},
     "output_type": "execute_result"
    }
   ],
   "source": [
    "test_X\n",
    "#test_X.values\n",
    "np.array_split(test_X.values, int(test_X.values.shape[0] / float(512) + 1))\n",
    "#test_X.values.shape[0] "
   ]
  },
  {
   "cell_type": "markdown",
   "metadata": {},
   "source": [
    "The question we now need to answer is, how do we send this review to our model?\n",
    "\n",
    "Recall in the first section of this notebook we did a bunch of data processing to the IMDb dataset. In particular, we did two specific things to the provided reviews.\n",
    " - Removed any html tags and stemmed the input\n",
    " - Encoded the review as a sequence of integers using `word_dict`\n",
    " \n",
    "In order process the review we will need to repeat these two steps.\n",
    "\n",
    "**TODO**: Using the `review_to_words` and `convert_and_pad` methods from section one, convert `test_review` into a numpy array `test_data` suitable to send to our model. Remember that our model expects input of the form `review_length, review[500]`."
   ]
  },
  {
   "cell_type": "code",
   "execution_count": 89,
   "metadata": {},
   "outputs": [],
   "source": [
    "'''\n",
    "test_data = review_to_words(test_review)\n",
    "test_data,test_data_len = convert_and_pad(word_dict, test_data)\n",
    "test_data.insert(0,test_data_len)\n",
    "test_array = np.array(test_data)\n",
    "'''"
   ]
  },
  {
   "cell_type": "code",
   "execution_count": 35,
   "metadata": {},
   "outputs": [
    {
     "data": {
      "text/plain": [
       "array([[  20,    1, 1375,   49,   53,    3,    4,  878,  173,  392,  682,\n",
       "          29,  724,    2, 4410,  275, 2078, 1059,  760,    1,  580,    0,\n",
       "           0,    0,    0,    0,    0,    0,    0,    0,    0,    0,    0,\n",
       "           0,    0,    0,    0,    0,    0,    0,    0,    0,    0,    0,\n",
       "           0,    0,    0,    0,    0,    0,    0,    0,    0,    0,    0,\n",
       "           0,    0,    0,    0,    0,    0,    0,    0,    0,    0,    0,\n",
       "           0,    0,    0,    0,    0,    0,    0,    0,    0,    0,    0,\n",
       "           0,    0,    0,    0,    0,    0,    0,    0,    0,    0,    0,\n",
       "           0,    0,    0,    0,    0,    0,    0,    0,    0,    0,    0,\n",
       "           0,    0,    0,    0,    0,    0,    0,    0,    0,    0,    0,\n",
       "           0,    0,    0,    0,    0,    0,    0,    0,    0,    0,    0,\n",
       "           0,    0,    0,    0,    0,    0,    0,    0,    0,    0,    0,\n",
       "           0,    0,    0,    0,    0,    0,    0,    0,    0,    0,    0,\n",
       "           0,    0,    0,    0,    0,    0,    0,    0,    0,    0,    0,\n",
       "           0,    0,    0,    0,    0,    0,    0,    0,    0,    0,    0,\n",
       "           0,    0,    0,    0,    0,    0,    0,    0,    0,    0,    0,\n",
       "           0,    0,    0,    0,    0,    0,    0,    0,    0,    0,    0,\n",
       "           0,    0,    0,    0,    0,    0,    0,    0,    0,    0,    0,\n",
       "           0,    0,    0,    0,    0,    0,    0,    0,    0,    0,    0,\n",
       "           0,    0,    0,    0,    0,    0,    0,    0,    0,    0,    0,\n",
       "           0,    0,    0,    0,    0,    0,    0,    0,    0,    0,    0,\n",
       "           0,    0,    0,    0,    0,    0,    0,    0,    0,    0,    0,\n",
       "           0,    0,    0,    0,    0,    0,    0,    0,    0,    0,    0,\n",
       "           0,    0,    0,    0,    0,    0,    0,    0,    0,    0,    0,\n",
       "           0,    0,    0,    0,    0,    0,    0,    0,    0,    0,    0,\n",
       "           0,    0,    0,    0,    0,    0,    0,    0,    0,    0,    0,\n",
       "           0,    0,    0,    0,    0,    0,    0,    0,    0,    0,    0,\n",
       "           0,    0,    0,    0,    0,    0,    0,    0,    0,    0,    0,\n",
       "           0,    0,    0,    0,    0,    0,    0,    0,    0,    0,    0,\n",
       "           0,    0,    0,    0,    0,    0,    0,    0,    0,    0,    0,\n",
       "           0,    0,    0,    0,    0,    0,    0,    0,    0,    0,    0,\n",
       "           0,    0,    0,    0,    0,    0,    0,    0,    0,    0,    0,\n",
       "           0,    0,    0,    0,    0,    0,    0,    0,    0,    0,    0,\n",
       "           0,    0,    0,    0,    0,    0,    0,    0,    0,    0,    0,\n",
       "           0,    0,    0,    0,    0,    0,    0,    0,    0,    0,    0,\n",
       "           0,    0,    0,    0,    0,    0,    0,    0,    0,    0,    0,\n",
       "           0,    0,    0,    0,    0,    0,    0,    0,    0,    0,    0,\n",
       "           0,    0,    0,    0,    0,    0,    0,    0,    0,    0,    0,\n",
       "           0,    0,    0,    0,    0,    0,    0,    0,    0,    0,    0,\n",
       "           0,    0,    0,    0,    0,    0,    0,    0,    0,    0,    0,\n",
       "           0,    0,    0,    0,    0,    0,    0,    0,    0,    0,    0,\n",
       "           0,    0,    0,    0,    0,    0,    0,    0,    0,    0,    0,\n",
       "           0,    0,    0,    0,    0,    0,    0,    0,    0,    0,    0,\n",
       "           0,    0,    0,    0,    0,    0,    0,    0,    0,    0,    0,\n",
       "           0,    0,    0,    0,    0,    0,    0,    0,    0,    0,    0,\n",
       "           0,    0,    0,    0,    0,    0]])"
      ]
     },
     "execution_count": 35,
     "metadata": {},
     "output_type": "execute_result"
    }
   ],
   "source": [
    "# TODO: Convert test_review into a form usable by the model and save the results in test_data\n",
    "\n",
    "test_data = review_to_words(test_review)\n",
    "test_data,test_data_len = convert_and_pad(word_dict, test_data)\n",
    "test_data.insert(0,test_data_len)\n",
    "test_array = np.expand_dims(np.array(np.array(test_data)),axis = 0)\n",
    "test_array\n"
   ]
  },
  {
   "cell_type": "markdown",
   "metadata": {},
   "source": [
    "Now that we have processed the review, we can send the resulting array to our model to predict the sentiment of the review."
   ]
  },
  {
   "cell_type": "code",
   "execution_count": 36,
   "metadata": {},
   "outputs": [
    {
     "data": {
      "text/plain": [
       "array(0.76255447, dtype=float32)"
      ]
     },
     "execution_count": 36,
     "metadata": {},
     "output_type": "execute_result"
    }
   ],
   "source": [
    "predictor.predict(test_array)"
   ]
  },
  {
   "cell_type": "code",
   "execution_count": 37,
   "metadata": {},
   "outputs": [],
   "source": [
    "test_array = test_data = None"
   ]
  },
  {
   "cell_type": "markdown",
   "metadata": {},
   "source": [
    "Since the return value of our model is close to `1`, we can be certain that the review we submitted is positive."
   ]
  },
  {
   "cell_type": "markdown",
   "metadata": {},
   "source": [
    "### Delete the endpoint\n",
    "\n",
    "Of course, just like in the XGBoost notebook, once we've deployed an endpoint it continues to run until we tell it to shut down. Since we are done using our endpoint for now, we can delete it."
   ]
  },
  {
   "cell_type": "code",
   "execution_count": 38,
   "metadata": {},
   "outputs": [
    {
     "name": "stderr",
     "output_type": "stream",
     "text": [
      "WARNING:root:estimator.delete_endpoint() will be deprecated in SageMaker Python SDK v2. Please use the delete_endpoint() function on your predictor instead.\n"
     ]
    }
   ],
   "source": [
    "estimator.delete_endpoint()"
   ]
  },
  {
   "cell_type": "markdown",
   "metadata": {},
   "source": [
    "## Step 6 (again) - Deploy the model for the web app\n",
    "\n",
    "Now that we know that our model is working, it's time to create some custom inference code so that we can send the model a review which has not been processed and have it determine the sentiment of the review.\n",
    "\n",
    "As we saw above, by default the estimator which we created, when deployed, will use the entry script and directory which we provided when creating the model. However, since we now wish to accept a string as input and our model expects a processed review, we need to write some custom inference code.\n",
    "\n",
    "We will store the code that we write in the `serve` directory. Provided in this directory is the `model.py` file that we used to construct our model, a `utils.py` file which contains the `review_to_words` and `convert_and_pad` pre-processing functions which we used during the initial data processing, and `predict.py`, the file which will contain our custom inference code. Note also that `requirements.txt` is present which will tell SageMaker what Python libraries are required by our custom inference code.\n",
    "\n",
    "When deploying a PyTorch model in SageMaker, you are expected to provide four functions which the SageMaker inference container will use.\n",
    " - `model_fn`: This function is the same function that we used in the training script and it tells SageMaker how to load our model.\n",
    " - `input_fn`: This function receives the raw serialized input that has been sent to the model's endpoint and its job is to de-serialize and make the input available for the inference code.\n",
    " - `output_fn`: This function takes the output of the inference code and its job is to serialize this output and return it to the caller of the model's endpoint.\n",
    " - `predict_fn`: The heart of the inference script, this is where the actual prediction is done and is the function which you will need to complete.\n",
    "\n",
    "For the simple website that we are constructing during this project, the `input_fn` and `output_fn` methods are relatively straightforward. We only require being able to accept a string as input and we expect to return a single value as output. You might imagine though that in a more complex application the input or output may be image data or some other binary data which would require some effort to serialize.\n",
    "\n",
    "### (TODO) Writing inference code\n",
    "\n",
    "Before writing our custom inference code, we will begin by taking a look at the code which has been provided."
   ]
  },
  {
   "cell_type": "code",
   "execution_count": 39,
   "metadata": {},
   "outputs": [
    {
     "name": "stdout",
     "output_type": "stream",
     "text": [
      "\u001b[34mimport\u001b[39;49;00m \u001b[04m\u001b[36margparse\u001b[39;49;00m\r\n",
      "\u001b[34mimport\u001b[39;49;00m \u001b[04m\u001b[36mjson\u001b[39;49;00m\r\n",
      "\u001b[34mimport\u001b[39;49;00m \u001b[04m\u001b[36mos\u001b[39;49;00m\r\n",
      "\u001b[34mimport\u001b[39;49;00m \u001b[04m\u001b[36mpickle\u001b[39;49;00m\r\n",
      "\u001b[34mimport\u001b[39;49;00m \u001b[04m\u001b[36msys\u001b[39;49;00m\r\n",
      "\u001b[34mimport\u001b[39;49;00m \u001b[04m\u001b[36msagemaker_containers\u001b[39;49;00m\r\n",
      "\u001b[34mimport\u001b[39;49;00m \u001b[04m\u001b[36mpandas\u001b[39;49;00m \u001b[34mas\u001b[39;49;00m \u001b[04m\u001b[36mpd\u001b[39;49;00m\r\n",
      "\u001b[34mimport\u001b[39;49;00m \u001b[04m\u001b[36mnumpy\u001b[39;49;00m \u001b[34mas\u001b[39;49;00m \u001b[04m\u001b[36mnp\u001b[39;49;00m\r\n",
      "\u001b[34mimport\u001b[39;49;00m \u001b[04m\u001b[36mtorch\u001b[39;49;00m\r\n",
      "\u001b[34mimport\u001b[39;49;00m \u001b[04m\u001b[36mtorch\u001b[39;49;00m\u001b[04m\u001b[36m.\u001b[39;49;00m\u001b[04m\u001b[36mnn\u001b[39;49;00m \u001b[34mas\u001b[39;49;00m \u001b[04m\u001b[36mnn\u001b[39;49;00m\r\n",
      "\u001b[34mimport\u001b[39;49;00m \u001b[04m\u001b[36mtorch\u001b[39;49;00m\u001b[04m\u001b[36m.\u001b[39;49;00m\u001b[04m\u001b[36moptim\u001b[39;49;00m \u001b[34mas\u001b[39;49;00m \u001b[04m\u001b[36moptim\u001b[39;49;00m\r\n",
      "\u001b[34mimport\u001b[39;49;00m \u001b[04m\u001b[36mtorch\u001b[39;49;00m\u001b[04m\u001b[36m.\u001b[39;49;00m\u001b[04m\u001b[36mutils\u001b[39;49;00m\u001b[04m\u001b[36m.\u001b[39;49;00m\u001b[04m\u001b[36mdata\u001b[39;49;00m\r\n",
      "\r\n",
      "\u001b[34mfrom\u001b[39;49;00m \u001b[04m\u001b[36mmodel\u001b[39;49;00m \u001b[34mimport\u001b[39;49;00m LSTMClassifier\r\n",
      "\r\n",
      "\u001b[34mfrom\u001b[39;49;00m \u001b[04m\u001b[36mutils\u001b[39;49;00m \u001b[34mimport\u001b[39;49;00m review_to_words, convert_and_pad\r\n",
      "\r\n",
      "\u001b[34mdef\u001b[39;49;00m \u001b[32mmodel_fn\u001b[39;49;00m(model_dir):\r\n",
      "    \u001b[33m\"\"\"Load the PyTorch model from the `model_dir` directory.\"\"\"\u001b[39;49;00m\r\n",
      "    \u001b[36mprint\u001b[39;49;00m(\u001b[33m\"\u001b[39;49;00m\u001b[33mLoading model.\u001b[39;49;00m\u001b[33m\"\u001b[39;49;00m)\r\n",
      "\r\n",
      "    \u001b[37m# First, load the parameters used to create the model.\u001b[39;49;00m\r\n",
      "    model_info = {}\r\n",
      "    model_info_path = os.path.join(model_dir, \u001b[33m'\u001b[39;49;00m\u001b[33mmodel_info.pth\u001b[39;49;00m\u001b[33m'\u001b[39;49;00m)\r\n",
      "    \u001b[34mwith\u001b[39;49;00m \u001b[36mopen\u001b[39;49;00m(model_info_path, \u001b[33m'\u001b[39;49;00m\u001b[33mrb\u001b[39;49;00m\u001b[33m'\u001b[39;49;00m) \u001b[34mas\u001b[39;49;00m f:\r\n",
      "        model_info = torch.load(f)\r\n",
      "\r\n",
      "    \u001b[36mprint\u001b[39;49;00m(\u001b[33m\"\u001b[39;49;00m\u001b[33mmodel_info: \u001b[39;49;00m\u001b[33m{}\u001b[39;49;00m\u001b[33m\"\u001b[39;49;00m.format(model_info))\r\n",
      "\r\n",
      "    \u001b[37m# Determine the device and construct the model.\u001b[39;49;00m\r\n",
      "    device = torch.device(\u001b[33m\"\u001b[39;49;00m\u001b[33mcuda\u001b[39;49;00m\u001b[33m\"\u001b[39;49;00m \u001b[34mif\u001b[39;49;00m torch.cuda.is_available() \u001b[34melse\u001b[39;49;00m \u001b[33m\"\u001b[39;49;00m\u001b[33mcpu\u001b[39;49;00m\u001b[33m\"\u001b[39;49;00m)\r\n",
      "    model = LSTMClassifier(model_info[\u001b[33m'\u001b[39;49;00m\u001b[33membedding_dim\u001b[39;49;00m\u001b[33m'\u001b[39;49;00m], model_info[\u001b[33m'\u001b[39;49;00m\u001b[33mhidden_dim\u001b[39;49;00m\u001b[33m'\u001b[39;49;00m], model_info[\u001b[33m'\u001b[39;49;00m\u001b[33mvocab_size\u001b[39;49;00m\u001b[33m'\u001b[39;49;00m])\r\n",
      "\r\n",
      "    \u001b[37m# Load the store model parameters.\u001b[39;49;00m\r\n",
      "    model_path = os.path.join(model_dir, \u001b[33m'\u001b[39;49;00m\u001b[33mmodel.pth\u001b[39;49;00m\u001b[33m'\u001b[39;49;00m)\r\n",
      "    \u001b[34mwith\u001b[39;49;00m \u001b[36mopen\u001b[39;49;00m(model_path, \u001b[33m'\u001b[39;49;00m\u001b[33mrb\u001b[39;49;00m\u001b[33m'\u001b[39;49;00m) \u001b[34mas\u001b[39;49;00m f:\r\n",
      "        model.load_state_dict(torch.load(f))\r\n",
      "\r\n",
      "    \u001b[37m# Load the saved word_dict.\u001b[39;49;00m\r\n",
      "    word_dict_path = os.path.join(model_dir, \u001b[33m'\u001b[39;49;00m\u001b[33mword_dict.pkl\u001b[39;49;00m\u001b[33m'\u001b[39;49;00m)\r\n",
      "    \u001b[34mwith\u001b[39;49;00m \u001b[36mopen\u001b[39;49;00m(word_dict_path, \u001b[33m'\u001b[39;49;00m\u001b[33mrb\u001b[39;49;00m\u001b[33m'\u001b[39;49;00m) \u001b[34mas\u001b[39;49;00m f:\r\n",
      "        model.word_dict = pickle.load(f)\r\n",
      "\r\n",
      "    model.to(device).eval()\r\n",
      "\r\n",
      "    \u001b[36mprint\u001b[39;49;00m(\u001b[33m\"\u001b[39;49;00m\u001b[33mDone loading model.\u001b[39;49;00m\u001b[33m\"\u001b[39;49;00m)\r\n",
      "    \u001b[34mreturn\u001b[39;49;00m model\r\n",
      "\r\n",
      "\u001b[34mdef\u001b[39;49;00m \u001b[32minput_fn\u001b[39;49;00m(serialized_input_data, content_type):\r\n",
      "    \u001b[36mprint\u001b[39;49;00m(\u001b[33m'\u001b[39;49;00m\u001b[33mDeserializing the input data.\u001b[39;49;00m\u001b[33m'\u001b[39;49;00m)\r\n",
      "    \u001b[34mif\u001b[39;49;00m content_type == \u001b[33m'\u001b[39;49;00m\u001b[33mtext/plain\u001b[39;49;00m\u001b[33m'\u001b[39;49;00m:\r\n",
      "        data = serialized_input_data.decode(\u001b[33m'\u001b[39;49;00m\u001b[33mutf-8\u001b[39;49;00m\u001b[33m'\u001b[39;49;00m)\r\n",
      "        \u001b[34mreturn\u001b[39;49;00m data\r\n",
      "    \u001b[34mraise\u001b[39;49;00m \u001b[36mException\u001b[39;49;00m(\u001b[33m'\u001b[39;49;00m\u001b[33mRequested unsupported ContentType in content_type: \u001b[39;49;00m\u001b[33m'\u001b[39;49;00m + content_type)\r\n",
      "\r\n",
      "\u001b[34mdef\u001b[39;49;00m \u001b[32moutput_fn\u001b[39;49;00m(prediction_output, accept):\r\n",
      "    \u001b[36mprint\u001b[39;49;00m(\u001b[33m'\u001b[39;49;00m\u001b[33mSerializing the generated output.\u001b[39;49;00m\u001b[33m'\u001b[39;49;00m)\r\n",
      "    \u001b[34mreturn\u001b[39;49;00m \u001b[36mstr\u001b[39;49;00m(prediction_output)\r\n",
      "\r\n",
      "\u001b[34mdef\u001b[39;49;00m \u001b[32mpredict_fn\u001b[39;49;00m(input_data, model):\r\n",
      "    \u001b[36mprint\u001b[39;49;00m(\u001b[33m'\u001b[39;49;00m\u001b[33mInferring sentiment of input data.\u001b[39;49;00m\u001b[33m'\u001b[39;49;00m)\r\n",
      "\r\n",
      "    device = torch.device(\u001b[33m\"\u001b[39;49;00m\u001b[33mcuda\u001b[39;49;00m\u001b[33m\"\u001b[39;49;00m \u001b[34mif\u001b[39;49;00m torch.cuda.is_available() \u001b[34melse\u001b[39;49;00m \u001b[33m\"\u001b[39;49;00m\u001b[33mcpu\u001b[39;49;00m\u001b[33m\"\u001b[39;49;00m)\r\n",
      "    \r\n",
      "    \u001b[34mif\u001b[39;49;00m model.word_dict \u001b[35mis\u001b[39;49;00m \u001b[34mNone\u001b[39;49;00m:\r\n",
      "        \u001b[34mraise\u001b[39;49;00m \u001b[36mException\u001b[39;49;00m(\u001b[33m'\u001b[39;49;00m\u001b[33mModel has not been loaded properly, no word_dict.\u001b[39;49;00m\u001b[33m'\u001b[39;49;00m)\r\n",
      "    \r\n",
      "    \u001b[37m# TODO: Process input_data so that it is ready to be sent to our model.\u001b[39;49;00m\r\n",
      "    \u001b[37m#       You should produce two variables:\u001b[39;49;00m\r\n",
      "    \u001b[37m#         data_X   - A sequence of length 500 which represents the converted review\u001b[39;49;00m\r\n",
      "    \u001b[37m#         data_len - The length of the review\u001b[39;49;00m\r\n",
      "\r\n",
      "    words = review_to_words(input_data)\r\n",
      "    data_X, data_len = convert_and_pad(model.word_dict, words)\r\n",
      "\r\n",
      "    \u001b[37m# Using data_X and data_len we construct an appropriate input tensor. Remember\u001b[39;49;00m\r\n",
      "    \u001b[37m# that our model expects input data of the form 'len, review[500]'.\u001b[39;49;00m\r\n",
      "    data_pack = np.hstack((data_len, data_X))\r\n",
      "    data_pack = data_pack.reshape(\u001b[34m1\u001b[39;49;00m, -\u001b[34m1\u001b[39;49;00m)\r\n",
      "    \r\n",
      "    data = torch.from_numpy(data_pack)\r\n",
      "    data = data.to(device)\r\n",
      "\r\n",
      "    \u001b[37m# Make sure to put the model into evaluation mode\u001b[39;49;00m\r\n",
      "    model.eval()\r\n",
      "\r\n",
      "    \u001b[37m# TODO: Compute the result of applying the model to the input data. The variable `result` should\u001b[39;49;00m\r\n",
      "    \u001b[37m#       be a numpy array which contains a single integer which is either 1 or 0\u001b[39;49;00m\r\n",
      "    prediction = model(data)\r\n",
      "    result = np.around(prediction.detach().cpu().numpy()).astype(\u001b[36mint\u001b[39;49;00m)\r\n",
      "\r\n",
      "    \u001b[34mreturn\u001b[39;49;00m result\r\n"
     ]
    }
   ],
   "source": [
    "!pygmentize serve/predict.py"
   ]
  },
  {
   "cell_type": "markdown",
   "metadata": {},
   "source": [
    "As mentioned earlier, the `model_fn` method is the same as the one provided in the training code and the `input_fn` and `output_fn` methods are very simple and your task will be to complete the `predict_fn` method. Make sure that you save the completed file as `predict.py` in the `serve` directory.\n",
    "\n",
    "**TODO**: Complete the `predict_fn()` method in the `serve/predict.py` file."
   ]
  },
  {
   "cell_type": "markdown",
   "metadata": {},
   "source": [
    "### Deploying the model\n",
    "\n",
    "Now that the custom inference code has been written, we will create and deploy our model. To begin with, we need to construct a new PyTorchModel object which points to the model artifacts created during training and also points to the inference code that we wish to use. Then we can call the deploy method to launch the deployment container.\n",
    "\n",
    "**NOTE**: The default behaviour for a deployed PyTorch model is to assume that any input passed to the predictor is a `numpy` array. In our case we want to send a string so we need to construct a simple wrapper around the `RealTimePredictor` class to accomodate simple strings. In a more complicated situation you may want to provide a serialization object, for example if you wanted to sent image data."
   ]
  },
  {
   "cell_type": "code",
   "execution_count": 40,
   "metadata": {},
   "outputs": [
    {
     "name": "stderr",
     "output_type": "stream",
     "text": [
      "WARNING:sagemaker:Parameter image will be renamed to image_uri in SageMaker Python SDK v2.\n",
      "WARNING:sagemaker:'create_image_uri' will be deprecated in favor of 'ImageURIProvider' class in SageMaker Python SDK v2.\n"
     ]
    },
    {
     "name": "stdout",
     "output_type": "stream",
     "text": [
      "-----------------!"
     ]
    }
   ],
   "source": [
    "from sagemaker.predictor import RealTimePredictor\n",
    "from sagemaker.pytorch import PyTorchModel\n",
    "\n",
    "class StringPredictor(RealTimePredictor):\n",
    "    def __init__(self, endpoint_name, sagemaker_session):\n",
    "        super(StringPredictor, self).__init__(endpoint_name, sagemaker_session, content_type='text/plain')\n",
    "\n",
    "model = PyTorchModel(model_data=estimator.model_data,\n",
    "                     role = role,\n",
    "                     framework_version='0.4.0',\n",
    "                     entry_point='predict.py',\n",
    "                     source_dir='serve',\n",
    "                     predictor_cls=StringPredictor)\n",
    "predictor = model.deploy(initial_instance_count=1, instance_type='ml.m4.xlarge')"
   ]
  },
  {
   "cell_type": "markdown",
   "metadata": {},
   "source": [
    "### Testing the model\n",
    "\n",
    "Now that we have deployed our model with the custom inference code, we should test to see if everything is working. Here we test our model by loading the first `250` positive and negative reviews and send them to the endpoint, then collect the results. The reason for only sending some of the data is that the amount of time it takes for our model to process the input and then perform inference is quite long and so testing the entire data set would be prohibitive."
   ]
  },
  {
   "cell_type": "code",
   "execution_count": 41,
   "metadata": {},
   "outputs": [],
   "source": [
    "import glob\n",
    "\n",
    "def test_reviews(data_dir='../data/aclImdb', stop=250):\n",
    "    \n",
    "    results = []\n",
    "    ground = []\n",
    "    \n",
    "    # We make sure to test both positive and negative reviews    \n",
    "    for sentiment in ['pos', 'neg']:\n",
    "        \n",
    "        path = os.path.join(data_dir, 'test', sentiment, '*.txt')\n",
    "        files = glob.glob(path)\n",
    "        \n",
    "        files_read = 0\n",
    "        \n",
    "        print('Starting ', sentiment, ' files')\n",
    "        \n",
    "        # Iterate through the files and send them to the predictor\n",
    "        for f in files:\n",
    "            with open(f) as review:\n",
    "                # First, we store the ground truth (was the review positive or negative)\n",
    "                if sentiment == 'pos':\n",
    "                    ground.append(1)\n",
    "                else:\n",
    "                    ground.append(0)\n",
    "                # Read in the review and convert to 'utf-8' for transmission via HTTP\n",
    "                review_input = review.read().encode('utf-8')\n",
    "                # Send the review to the predictor and store the results\n",
    "                results.append(int(predictor.predict(review_input)))\n",
    "                \n",
    "            # Sending reviews to our endpoint one at a time takes a while so we\n",
    "            # only send a small number of reviews\n",
    "            files_read += 1\n",
    "            if files_read == stop:\n",
    "                break\n",
    "            \n",
    "    return ground, results"
   ]
  },
  {
   "cell_type": "code",
   "execution_count": 42,
   "metadata": {},
   "outputs": [
    {
     "name": "stdout",
     "output_type": "stream",
     "text": [
      "Starting  pos  files\n",
      "Starting  neg  files\n"
     ]
    }
   ],
   "source": [
    "ground, results = test_reviews()"
   ]
  },
  {
   "cell_type": "code",
   "execution_count": 43,
   "metadata": {},
   "outputs": [
    {
     "data": {
      "text/plain": [
       "0.878"
      ]
     },
     "execution_count": 43,
     "metadata": {},
     "output_type": "execute_result"
    }
   ],
   "source": [
    "from sklearn.metrics import accuracy_score\n",
    "accuracy_score(ground, results)"
   ]
  },
  {
   "cell_type": "markdown",
   "metadata": {},
   "source": [
    "As an additional test, we can try sending the `test_review` that we looked at earlier."
   ]
  },
  {
   "cell_type": "code",
   "execution_count": 44,
   "metadata": {},
   "outputs": [
    {
     "data": {
      "text/plain": [
       "b'1'"
      ]
     },
     "execution_count": 44,
     "metadata": {},
     "output_type": "execute_result"
    }
   ],
   "source": [
    "predictor.predict(test_review)"
   ]
  },
  {
   "cell_type": "markdown",
   "metadata": {},
   "source": [
    "Now that we know our endpoint is working as expected, we can set up the web page that will interact with it. If you don't have time to finish the project now, make sure to skip down to the end of this notebook and shut down your endpoint. You can deploy it again when you come back."
   ]
  },
  {
   "cell_type": "markdown",
   "metadata": {},
   "source": [
    "## Step 7 (again): Use the model for the web app\n",
    "\n",
    "> **TODO:** This entire section and the next contain tasks for you to complete, mostly using the AWS console.\n",
    "\n",
    "So far we have been accessing our model endpoint by constructing a predictor object which uses the endpoint and then just using the predictor object to perform inference. What if we wanted to create a web app which accessed our model? The way things are set up currently makes that not possible since in order to access a SageMaker endpoint the app would first have to authenticate with AWS using an IAM role which included access to SageMaker endpoints. However, there is an easier way! We just need to use some additional AWS services.\n",
    "\n",
    "<img src=\"Web App Diagram.svg\">\n",
    "\n",
    "The diagram above gives an overview of how the various services will work together. On the far right is the model which we trained above and which is deployed using SageMaker. On the far left is our web app that collects a user's movie review, sends it off and expects a positive or negative sentiment in return.\n",
    "\n",
    "In the middle is where some of the magic happens. We will construct a Lambda function, which you can think of as a straightforward Python function that can be executed whenever a specified event occurs. We will give this function permission to send and recieve data from a SageMaker endpoint.\n",
    "\n",
    "Lastly, the method we will use to execute the Lambda function is a new endpoint that we will create using API Gateway. This endpoint will be a url that listens for data to be sent to it. Once it gets some data it will pass that data on to the Lambda function and then return whatever the Lambda function returns. Essentially it will act as an interface that lets our web app communicate with the Lambda function.\n",
    "\n",
    "### Setting up a Lambda function\n",
    "\n",
    "The first thing we are going to do is set up a Lambda function. This Lambda function will be executed whenever our public API has data sent to it. When it is executed it will receive the data, perform any sort of processing that is required, send the data (the review) to the SageMaker endpoint we've created and then return the result.\n",
    "\n",
    "#### Part A: Create an IAM Role for the Lambda function\n",
    "\n",
    "Since we want the Lambda function to call a SageMaker endpoint, we need to make sure that it has permission to do so. To do this, we will construct a role that we can later give the Lambda function.\n",
    "\n",
    "Using the AWS Console, navigate to the **IAM** page and click on **Roles**. Then, click on **Create role**. Make sure that the **AWS service** is the type of trusted entity selected and choose **Lambda** as the service that will use this role, then click **Next: Permissions**.\n",
    "\n",
    "In the search box type `sagemaker` and select the check box next to the **AmazonSageMakerFullAccess** policy. Then, click on **Next: Review**.\n",
    "\n",
    "Lastly, give this role a name. Make sure you use a name that you will remember later on, for example `LambdaSageMakerRole`. Then, click on **Create role**.\n",
    "\n",
    "#### Part B: Create a Lambda function\n",
    "\n",
    "Now it is time to actually create the Lambda function.\n",
    "\n",
    "Using the AWS Console, navigate to the AWS Lambda page and click on **Create a function**. When you get to the next page, make sure that **Author from scratch** is selected. Now, name your Lambda function, using a name that you will remember later on, for example `sentiment_analysis_func`. Make sure that the **Python 3.6** runtime is selected and then choose the role that you created in the previous part. Then, click on **Create Function**.\n",
    "\n",
    "On the next page you will see some information about the Lambda function you've just created. If you scroll down you should see an editor in which you can write the code that will be executed when your Lambda function is triggered. In our example, we will use the code below. \n",
    "\n",
    "```python\n",
    "# We need to use the low-level library to interact with SageMaker since the SageMaker API\n",
    "# is not available natively through Lambda.\n",
    "import boto3\n",
    "\n",
    "def lambda_handler(event, context):\n",
    "\n",
    "    # The SageMaker runtime is what allows us to invoke the endpoint that we've created.\n",
    "    runtime = boto3.Session().client('sagemaker-runtime')\n",
    "\n",
    "    # Now we use the SageMaker runtime to invoke our endpoint, sending the review we were given\n",
    "    response = runtime.invoke_endpoint(EndpointName = 'sagemaker-pytorch-2020-07-22-11-27-41-849',    # The name of the endpoint we created\n",
    "                                       ContentType = 'text/plain',                 # The data format that is expected\n",
    "                                       Body = event['body'])                       # The actual review\n",
    "\n",
    "    # The response is an HTTP response whose body contains the result of our inference\n",
    "    result = response['Body'].read().decode('utf-8')\n",
    "\n",
    "    return {\n",
    "        'statusCode' : 200,\n",
    "        'headers' : { 'Content-Type' : 'text/plain', 'Access-Control-Allow-Origin' : '*' },\n",
    "        'body' : result\n",
    "    }\n",
    "```\n",
    "\n",
    "Once you have copy and pasted the code above into the Lambda code editor, replace the `**ENDPOINT NAME HERE**` portion with the name of the endpoint that we deployed earlier. You can determine the name of the endpoint using the code cell below."
   ]
  },
  {
   "cell_type": "code",
   "execution_count": 45,
   "metadata": {},
   "outputs": [
    {
     "data": {
      "text/plain": [
       "'sagemaker-pytorch-2020-07-22-11-27-41-849'"
      ]
     },
     "execution_count": 45,
     "metadata": {},
     "output_type": "execute_result"
    }
   ],
   "source": [
    "predictor.endpoint"
   ]
  },
  {
   "cell_type": "markdown",
   "metadata": {},
   "source": [
    "Once you have added the endpoint name to the Lambda function, click on **Save**. Your Lambda function is now up and running. Next we need to create a way for our web app to execute the Lambda function.\n",
    "\n",
    "### Setting up API Gateway\n",
    "\n",
    "Now that our Lambda function is set up, it is time to create a new API using API Gateway that will trigger the Lambda function we have just created.\n",
    "\n",
    "Using AWS Console, navigate to **Amazon API Gateway** and then click on **Get started**.\n",
    "\n",
    "On the next page, make sure that **New API** is selected and give the new api a name, for example, `sentiment_analysis_api`. Then, click on **Create API**.\n",
    "\n",
    "Now we have created an API, however it doesn't currently do anything. What we want it to do is to trigger the Lambda function that we created earlier.\n",
    "\n",
    "Select the **Actions** dropdown menu and click **Create Method**. A new blank method will be created, select its dropdown menu and select **POST**, then click on the check mark beside it.\n",
    "\n",
    "For the integration point, make sure that **Lambda Function** is selected and click on the **Use Lambda Proxy integration**. This option makes sure that the data that is sent to the API is then sent directly to the Lambda function with no processing. It also means that the return value must be a proper response object as it will also not be processed by API Gateway.\n",
    "\n",
    "Type the name of the Lambda function you created earlier into the **Lambda Function** text entry box and then click on **Save**. Click on **OK** in the pop-up box that then appears, giving permission to API Gateway to invoke the Lambda function you created.\n",
    "\n",
    "The last step in creating the API Gateway is to select the **Actions** dropdown and click on **Deploy API**. You will need to create a new Deployment stage and name it anything you like, for example `prod`.\n",
    "\n",
    "You have now successfully set up a public API to access your SageMaker model. Make sure to copy or write down the URL provided to invoke your newly created public API as this will be needed in the next step. This URL can be found at the top of the page, highlighted in blue next to the text **Invoke URL**."
   ]
  },
  {
   "cell_type": "markdown",
   "metadata": {},
   "source": [
    "## Step 4: Deploying our web app\n",
    "\n",
    "Now that we have a publicly available API, we can start using it in a web app. For our purposes, we have provided a simple static html file which can make use of the public api you created earlier.\n",
    "\n",
    "In the `website` folder there should be a file called `index.html`. Download the file to your computer and open that file up in a text editor of your choice. There should be a line which contains **\\*\\*REPLACE WITH PUBLIC API URL\\*\\***. Replace this string with the url that you wrote down in the last step and then save the file.\n",
    "\n",
    "Now, if you open `index.html` on your local computer, your browser will behave as a local web server and you can use the provided site to interact with your SageMaker model.\n",
    "\n",
    "If you'd like to go further, you can host this html file anywhere you'd like, for example using github or hosting a static site on Amazon's S3. Once you have done this you can share the link with anyone you'd like and have them play with it too!\n",
    "\n",
    "> **Important Note** In order for the web app to communicate with the SageMaker endpoint, the endpoint has to actually be deployed and running. This means that you are paying for it. Make sure that the endpoint is running when you want to use the web app but that you shut it down when you don't need it, otherwise you will end up with a surprisingly large AWS bill.\n",
    "\n",
    "**TODO:** Make sure that you include the edited `index.html` file in your project submission."
   ]
  },
  {
   "cell_type": "markdown",
   "metadata": {},
   "source": [
    "Now that your web app is working, trying playing around with it and see how well it works.\n",
    "\n",
    "**Question**: Give an example of a review that you entered into your web app. What was the predicted sentiment of your example review?"
   ]
  },
  {
   "cell_type": "markdown",
   "metadata": {},
   "source": [
    "**Answer:**\n",
    "I don't like this movie    Your review was NEGATIVE!\n",
    "I recommend this movie     Your review was POSITIVE!\n",
    "Maybe this movie is not value it's ticket     Your review was NEGATIVE!\n"
   ]
  },
  {
   "cell_type": "markdown",
   "metadata": {},
   "source": [
    "### Delete the endpoint\n",
    "\n",
    "Remember to always shut down your endpoint if you are no longer using it. You are charged for the length of time that the endpoint is running so if you forget and leave it on you could end up with an unexpectedly large bill."
   ]
  },
  {
   "cell_type": "code",
   "execution_count": 58,
   "metadata": {},
   "outputs": [],
   "source": [
    "predictor.delete_endpoint()"
   ]
  },
  {
   "cell_type": "code",
   "execution_count": null,
   "metadata": {},
   "outputs": [],
   "source": []
  }
 ],
 "metadata": {
  "kernelspec": {
   "display_name": "conda_pytorch_p36",
   "language": "python",
   "name": "conda_pytorch_p36"
  },
  "language_info": {
   "codemirror_mode": {
    "name": "ipython",
    "version": 3
   },
   "file_extension": ".py",
   "mimetype": "text/x-python",
   "name": "python",
   "nbconvert_exporter": "python",
   "pygments_lexer": "ipython3",
   "version": "3.6.10"
  }
 },
 "nbformat": 4,
 "nbformat_minor": 2
}
